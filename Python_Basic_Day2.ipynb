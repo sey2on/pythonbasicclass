{
  "nbformat": 4,
  "nbformat_minor": 0,
  "metadata": {
    "colab": {
      "name": "Python_Basic_Day2.ipynb",
      "provenance": [],
      "authorship_tag": "ABX9TyMB/N3/S0Va0i8GFxx/rJMS",
      "include_colab_link": true
    },
    "kernelspec": {
      "name": "python3",
      "display_name": "Python 3"
    },
    "language_info": {
      "name": "python"
    }
  },
  "cells": [
    {
      "cell_type": "markdown",
      "metadata": {
        "id": "view-in-github",
        "colab_type": "text"
      },
      "source": [
        "<a href=\"https://colab.research.google.com/github/sey2on/pythonbasicclass/blob/main/Python_Basic_Day2.ipynb\" target=\"_parent\"><img src=\"https://colab.research.google.com/assets/colab-badge.svg\" alt=\"Open In Colab\"/></a>"
      ]
    },
    {
      "cell_type": "code",
      "execution_count": null,
      "metadata": {
        "id": "_FwY09sv_G9T"
      },
      "outputs": [],
      "source": [
        "#3 기본 자료형\n",
        "int 정수 1, 2, 3, 4\n",
        "float 실수 3.14, 2.15\n",
        "bool 논리 True, False\n",
        "str 문자열 '홍길동', '슈가'"
      ]
    },
    {
      "cell_type": "code",
      "source": [
        "a = 10 #알아서 정수로 담아줌\n",
        "\n",
        "# 1. 정수 int\n",
        "int(1.9) # 0.9는 날아감 1만 담아짐"
      ],
      "metadata": {
        "id": "s6fKEUUbAS2F"
      },
      "execution_count": null,
      "outputs": []
    },
    {
      "cell_type": "code",
      "source": [
        "int(True)#1"
      ],
      "metadata": {
        "colab": {
          "base_uri": "https://localhost:8080/"
        },
        "id": "JhH57DkiBOsd",
        "outputId": "48454080-c9e1-4374-9264-1c43b79ce0c2"
      },
      "execution_count": 1,
      "outputs": [
        {
          "output_type": "execute_result",
          "data": {
            "text/plain": [
              "1"
            ]
          },
          "metadata": {},
          "execution_count": 1
        }
      ]
    },
    {
      "cell_type": "code",
      "source": [
        "int(False)#0"
      ],
      "metadata": {
        "colab": {
          "base_uri": "https://localhost:8080/"
        },
        "id": "U7b-x6pLBO2-",
        "outputId": "6f95d107-97bb-4a38-d319-770149603a45"
      },
      "execution_count": 2,
      "outputs": [
        {
          "output_type": "execute_result",
          "data": {
            "text/plain": [
              "0"
            ]
          },
          "metadata": {},
          "execution_count": 2
        }
      ]
    },
    {
      "cell_type": "code",
      "source": [
        "int('100')#문자 취급한 100을 정수로 입력\n",
        "int(\"200\")#'와 \"는 같음"
      ],
      "metadata": {
        "colab": {
          "base_uri": "https://localhost:8080/"
        },
        "id": "UHS9naBWBO_G",
        "outputId": "8f617589-1d4b-4664-8df9-b343c29c28da"
      },
      "execution_count": 3,
      "outputs": [
        {
          "output_type": "execute_result",
          "data": {
            "text/plain": [
              "100"
            ]
          },
          "metadata": {},
          "execution_count": 3
        }
      ]
    },
    {
      "cell_type": "code",
      "source": [
        "input은 모든 입력을 문자로만 받는다 123입력하면 '123'"
      ],
      "metadata": {
        "id": "9SyTuqvrELpk"
      },
      "execution_count": null,
      "outputs": []
    },
    {
      "cell_type": "code",
      "source": [
        "# 2. 실수 float\n",
        "float(1)"
      ],
      "metadata": {
        "colab": {
          "base_uri": "https://localhost:8080/"
        },
        "id": "hUr_jItPJjMJ",
        "outputId": "fe274b92-5ac1-451b-edbb-c50eb55d074b"
      },
      "execution_count": 12,
      "outputs": [
        {
          "output_type": "execute_result",
          "data": {
            "text/plain": [
              "1.0"
            ]
          },
          "metadata": {},
          "execution_count": 12
        }
      ]
    },
    {
      "cell_type": "code",
      "source": [
        "float(True)"
      ],
      "metadata": {
        "colab": {
          "base_uri": "https://localhost:8080/"
        },
        "id": "jrlszFeVJkpE",
        "outputId": "dab8616e-2d27-46d1-ad21-02d282b1dcec"
      },
      "execution_count": 11,
      "outputs": [
        {
          "output_type": "execute_result",
          "data": {
            "text/plain": [
              "1.0"
            ]
          },
          "metadata": {},
          "execution_count": 11
        }
      ]
    },
    {
      "cell_type": "code",
      "source": [
        "float(False)"
      ],
      "metadata": {
        "colab": {
          "base_uri": "https://localhost:8080/"
        },
        "id": "nP-mz7d9JlwA",
        "outputId": "051c3aaf-93ee-4252-fc9e-61b8c221e7c9"
      },
      "execution_count": 10,
      "outputs": [
        {
          "output_type": "execute_result",
          "data": {
            "text/plain": [
              "0.0"
            ]
          },
          "metadata": {},
          "execution_count": 10
        }
      ]
    },
    {
      "cell_type": "code",
      "source": [
        "float('3.14')"
      ],
      "metadata": {
        "colab": {
          "base_uri": "https://localhost:8080/"
        },
        "id": "rGcUJKdmNQWE",
        "outputId": "a48e7e2d-2479-456c-ca75-bc74cfeb286c"
      },
      "execution_count": 9,
      "outputs": [
        {
          "output_type": "execute_result",
          "data": {
            "text/plain": [
              "3.14"
            ]
          },
          "metadata": {},
          "execution_count": 9
        }
      ]
    },
    {
      "cell_type": "code",
      "source": [
        "# 논리 bool, boolean True or False\n",
        "\n",
        "bool(0)"
      ],
      "metadata": {
        "id": "VqsANA6_NSBg"
      },
      "execution_count": null,
      "outputs": []
    },
    {
      "cell_type": "code",
      "source": [
        "bool(1)\n"
      ],
      "metadata": {
        "colab": {
          "base_uri": "https://localhost:8080/"
        },
        "id": "r9p8OP0XELzG",
        "outputId": "d532c0a5-b083-42f4-ae3d-1a73394354e0"
      },
      "execution_count": 5,
      "outputs": [
        {
          "output_type": "execute_result",
          "data": {
            "text/plain": [
              "True"
            ]
          },
          "metadata": {},
          "execution_count": 5
        }
      ]
    },
    {
      "cell_type": "code",
      "source": [
        "bool('')"
      ],
      "metadata": {
        "colab": {
          "base_uri": "https://localhost:8080/"
        },
        "id": "ZcaNA8otNXGT",
        "outputId": "678144ca-0047-4f74-c022-0d8b1e743823"
      },
      "execution_count": 6,
      "outputs": [
        {
          "output_type": "execute_result",
          "data": {
            "text/plain": [
              "False"
            ]
          },
          "metadata": {},
          "execution_count": 6
        }
      ]
    },
    {
      "cell_type": "code",
      "source": [
        "bool('1')"
      ],
      "metadata": {
        "colab": {
          "base_uri": "https://localhost:8080/"
        },
        "id": "xG8C6u6mNXNM",
        "outputId": "a7d8cf3a-a92a-4e04-adfa-39ecbca41fa7"
      },
      "execution_count": 7,
      "outputs": [
        {
          "output_type": "execute_result",
          "data": {
            "text/plain": [
              "True"
            ]
          },
          "metadata": {},
          "execution_count": 7
        }
      ]
    },
    {
      "cell_type": "code",
      "source": [
        "bool([1,2,3])#list"
      ],
      "metadata": {
        "colab": {
          "base_uri": "https://localhost:8080/"
        },
        "id": "6yNjy1dlNY_L",
        "outputId": "7ba071dc-e55c-4f63-e5d7-444369cb9540"
      },
      "execution_count": 8,
      "outputs": [
        {
          "output_type": "execute_result",
          "data": {
            "text/plain": [
              "True"
            ]
          },
          "metadata": {},
          "execution_count": 8
        }
      ]
    },
    {
      "cell_type": "code",
      "source": [
        "# 4  문자열 str, string\n",
        "\n",
        "a = '대한\\n민국'\n",
        "print(a)\n",
        "b = \"한국\"\n",
        "\n",
        "a = '''대한\n",
        "민국'''\n",
        "b = \"\"\"대한\n",
        "민국\"\"\"\n",
        "\n",
        "print(a)"
      ],
      "metadata": {
        "colab": {
          "base_uri": "https://localhost:8080/"
        },
        "id": "vduPdnojNe5i",
        "outputId": "c6bbd0c7-ba28-4f46-f03a-b12b2d436ba7"
      },
      "execution_count": 13,
      "outputs": [
        {
          "output_type": "stream",
          "name": "stdout",
          "text": [
            "대한\n",
            "민국\n",
            "대한\n",
            "민국\n"
          ]
        }
      ]
    },
    {
      "cell_type": "code",
      "source": [
        "str(100)"
      ],
      "metadata": {
        "colab": {
          "base_uri": "https://localhost:8080/",
          "height": 35
        },
        "id": "dx4E6Q6KNfc9",
        "outputId": "be52f3ed-e51a-455a-f116-8088527a6585"
      },
      "execution_count": 14,
      "outputs": [
        {
          "output_type": "execute_result",
          "data": {
            "application/vnd.google.colaboratory.intrinsic+json": {
              "type": "string"
            },
            "text/plain": [
              "'100'"
            ]
          },
          "metadata": {},
          "execution_count": 14
        }
      ]
    },
    {
      "cell_type": "code",
      "source": [
        "str(True)"
      ],
      "metadata": {
        "colab": {
          "base_uri": "https://localhost:8080/",
          "height": 35
        },
        "id": "KjGdakgpNhzf",
        "outputId": "889bdc26-f954-461d-c6c5-6ca29cae259c"
      },
      "execution_count": 15,
      "outputs": [
        {
          "output_type": "execute_result",
          "data": {
            "application/vnd.google.colaboratory.intrinsic+json": {
              "type": "string"
            },
            "text/plain": [
              "'True'"
            ]
          },
          "metadata": {},
          "execution_count": 15
        }
      ]
    },
    {
      "cell_type": "code",
      "source": [
        "str(False)"
      ],
      "metadata": {
        "colab": {
          "base_uri": "https://localhost:8080/",
          "height": 35
        },
        "id": "en_bD3HaNjbz",
        "outputId": "a0cade61-77d0-4e6b-931f-b16484c14f06"
      },
      "execution_count": 16,
      "outputs": [
        {
          "output_type": "execute_result",
          "data": {
            "application/vnd.google.colaboratory.intrinsic+json": {
              "type": "string"
            },
            "text/plain": [
              "'False'"
            ]
          },
          "metadata": {},
          "execution_count": 16
        }
      ]
    },
    {
      "cell_type": "code",
      "source": [
        "str(3.14)"
      ],
      "metadata": {
        "colab": {
          "base_uri": "https://localhost:8080/",
          "height": 35
        },
        "id": "eYL4MyHiNj0_",
        "outputId": "f19b842e-8163-4574-93cc-ad3fd3208ca3"
      },
      "execution_count": 17,
      "outputs": [
        {
          "output_type": "execute_result",
          "data": {
            "application/vnd.google.colaboratory.intrinsic+json": {
              "type": "string"
            },
            "text/plain": [
              "'3.14'"
            ]
          },
          "metadata": {},
          "execution_count": 17
        }
      ]
    },
    {
      "cell_type": "code",
      "source": [
        "# 문자열 인덱싱 indexing\n",
        "# 인덱싱은 문자열을 구성하는 모든 문자에 부여한 고유의 번호이다.\n",
        "\n",
        "s='hello'\n",
        "print(s[4]) # 인덱스의 시작은 0이다.\n",
        "# h e l l o\n",
        "# 0 1 2 3 4 각 문자의 인덱스 번호"
      ],
      "metadata": {
        "colab": {
          "base_uri": "https://localhost:8080/"
        },
        "id": "rVJqAAj3NlrZ",
        "outputId": "ed23457c-2e7b-49ff-91e1-afd18a8ebd53"
      },
      "execution_count": 20,
      "outputs": [
        {
          "output_type": "stream",
          "name": "stdout",
          "text": [
            "o\n"
          ]
        }
      ]
    },
    {
      "cell_type": "code",
      "source": [
        "#  h  e  l  l  o\n",
        "# -5 -4 -3 -2 -1\n",
        "s='hello'\n",
        "print(s[-1])"
      ],
      "metadata": {
        "colab": {
          "base_uri": "https://localhost:8080/"
        },
        "id": "l4fTxw1tOKEZ",
        "outputId": "b59f666d-168c-42d0-ee94-c153dbc2861f"
      },
      "execution_count": 21,
      "outputs": [
        {
          "output_type": "stream",
          "name": "stdout",
          "text": [
            "o\n"
          ]
        }
      ]
    },
    {
      "cell_type": "code",
      "source": [
        "# 문자열 슬라이싱 slicing\n",
        "# 문자열의 인덱스를 사용하여 한문자 이상으로 구성된 단어나 문장을 추출\n",
        "\n",
        "s='banana'\n",
        "s[0:3]# 0번째부터 3번째 문자미만"
      ],
      "metadata": {
        "colab": {
          "base_uri": "https://localhost:8080/",
          "height": 35
        },
        "id": "fAHu9-GeOo7R",
        "outputId": "08dae854-2351-4d53-b26c-41b2697ee458"
      },
      "execution_count": 22,
      "outputs": [
        {
          "output_type": "execute_result",
          "data": {
            "application/vnd.google.colaboratory.intrinsic+json": {
              "type": "string"
            },
            "text/plain": [
              "'ban'"
            ]
          },
          "metadata": {},
          "execution_count": 22
        }
      ]
    },
    {
      "cell_type": "code",
      "source": [
        "addr = '서울시 강남구 역삼동 1번지'#띄어쓰기도 글자임\n",
        "print(addr[4:7])"
      ],
      "metadata": {
        "colab": {
          "base_uri": "https://localhost:8080/"
        },
        "id": "GtcHdzq7Pcft",
        "outputId": "9980d632-5777-4237-9e03-2b09da70217c"
      },
      "execution_count": 23,
      "outputs": [
        {
          "output_type": "stream",
          "name": "stdout",
          "text": [
            "강남구\n"
          ]
        }
      ]
    },
    {
      "cell_type": "code",
      "source": [
        "# 4 컬렉션 Collection\n",
        "# '여러 값을 하나의 이름으로 묶어서 관리하는 자료형'\n",
        "# 리스트, 튜플, 딕셔너리, 셋"
      ],
      "metadata": {
        "id": "L4E1P0kEOtzj"
      },
      "execution_count": null,
      "outputs": []
    },
    {
      "cell_type": "code",
      "source": [
        "# 리스트 list\n",
        "# 리스트는 여러 값을 저장할때 가장 많이 사용되는 자료형이다.\n",
        "# 특징\n",
        "# 1. 대괄호로 생성한다. []\n",
        "# 2. 여러가지 자료형을 하나의 리스트로 생성할 수 있다. 좋지는 않음\n",
        "# 3. mutable 한 속성을 갖는다. (수정, 삭제가 가능하다.)\n",
        "# 4. indexing, slicing 이 가능하다."
      ],
      "metadata": {
        "id": "KWzKmvTWReQ9"
      },
      "execution_count": null,
      "outputs": []
    },
    {
      "cell_type": "code",
      "source": [
        "list1 = [1,2,3,4]\n",
        "list2 = [1,2,3,'대','한',True] #한가지 형만 담는게 좋음"
      ],
      "metadata": {
        "id": "jHupLQ6bRkoT"
      },
      "execution_count": 25,
      "outputs": []
    },
    {
      "cell_type": "code",
      "source": [
        "li = [100, 3.14, 'hello']\n",
        "li[2]"
      ],
      "metadata": {
        "colab": {
          "base_uri": "https://localhost:8080/",
          "height": 35
        },
        "id": "tzGK71bSU00q",
        "outputId": "5d3bb06b-4e84-4362-c6b8-16ab568c2478"
      },
      "execution_count": 26,
      "outputs": [
        {
          "output_type": "execute_result",
          "data": {
            "application/vnd.google.colaboratory.intrinsic+json": {
              "type": "string"
            },
            "text/plain": [
              "'hello'"
            ]
          },
          "metadata": {},
          "execution_count": 26
        }
      ]
    },
    {
      "cell_type": "code",
      "source": [
        "li[0:3]"
      ],
      "metadata": {
        "colab": {
          "base_uri": "https://localhost:8080/"
        },
        "id": "C2yWL9njUxIv",
        "outputId": "774d8efc-3d69-4a6c-b62c-8ccc7f63c3bb"
      },
      "execution_count": 28,
      "outputs": [
        {
          "output_type": "execute_result",
          "data": {
            "text/plain": [
              "[100, 3.14, 'hello']"
            ]
          },
          "metadata": {},
          "execution_count": 28
        }
      ]
    },
    {
      "cell_type": "code",
      "source": [
        "# append() - 리스트에 데이터를 추가\n",
        "scores = [50,40,30]\n",
        "scores.append(100) #리스트에 값을 집어넣음\n",
        "scores\n",
        "\n",
        "scores2(50,40,30) #튜플을 만들때는 ()소괄호를 사용한다."
      ],
      "metadata": {
        "colab": {
          "base_uri": "https://localhost:8080/"
        },
        "id": "EHfXhJdBVpWa",
        "outputId": "620985f8-ef64-4e9f-9041-060791072103"
      },
      "execution_count": 29,
      "outputs": [
        {
          "output_type": "execute_result",
          "data": {
            "text/plain": [
              "[50, 40, 30, 100]"
            ]
          },
          "metadata": {},
          "execution_count": 29
        }
      ]
    },
    {
      "cell_type": "code",
      "source": [
        "# insert() - 리스트에 데이터를 추가\n",
        "scores.insert(0,100) #특정 위치에 값을 집어넣음 0번째에 100을 추가\n",
        "scores"
      ],
      "metadata": {
        "id": "lN9-bJ-SXDNN"
      },
      "execution_count": null,
      "outputs": []
    },
    {
      "cell_type": "code",
      "source": [
        "# pop() - 리스트에서 데이터 삭제\n",
        "scores.pop(0)\n",
        "scores"
      ],
      "metadata": {
        "colab": {
          "base_uri": "https://localhost:8080/"
        },
        "id": "ffwBSMA7XgWm",
        "outputId": "8983431a-f869-4e15-8ef5-ef80d2f4129c"
      },
      "execution_count": 32,
      "outputs": [
        {
          "output_type": "execute_result",
          "data": {
            "text/plain": [
              "[30, 100]"
            ]
          },
          "metadata": {},
          "execution_count": 32
        }
      ]
    },
    {
      "cell_type": "code",
      "source": [
        "# 튜플 tuple\n",
        "# 저장된 값을 변경할 수 없는 리스트\n",
        "\n",
        "# 특징\n",
        "# 1. 소괄호로 생성한다. () 튜플은 괄호 생략 가능\n",
        "# 2. 여러가지 자료형을 하나의 튜플로 생성할 수 있다. (?)\n",
        "# 3. immutable 한 속성을 갖는다. (수정, 삭제가 가능하다.)\n",
        "# 4. indexing, slicing 이 가능하다.\n",
        "# 5. 1개의 원소를 갖는 튜플을 생성할때는 , 쉼표를 붙인다.\n",
        "\n",
        "li = [1]\n",
        "print(li)\n",
        "print(type(li))"
      ],
      "metadata": {
        "colab": {
          "base_uri": "https://localhost:8080/"
        },
        "id": "Vu2su9kubCBG",
        "outputId": "1ec40d47-c064-4fa3-d67a-1e3a3fc50878"
      },
      "execution_count": 33,
      "outputs": [
        {
          "output_type": "stream",
          "name": "stdout",
          "text": [
            "[1]\n",
            "<class 'list'>\n"
          ]
        }
      ]
    },
    {
      "cell_type": "code",
      "source": [
        "# tu = (1)\n",
        "# print(tu)\n",
        "# print(type(tu))\n",
        "\n",
        "tu = (1,)\n",
        "print(tu)\n",
        "print(type(tu))"
      ],
      "metadata": {
        "colab": {
          "base_uri": "https://localhost:8080/"
        },
        "id": "t8BNQKcqcR60",
        "outputId": "b617943f-69c7-490b-83a4-7a18551cddb9"
      },
      "execution_count": 36,
      "outputs": [
        {
          "output_type": "stream",
          "name": "stdout",
          "text": [
            "[1]\n",
            "<class 'list'>\n"
          ]
        }
      ]
    },
    {
      "cell_type": "code",
      "source": [
        "tu = 1,2,3,4,5\n",
        "type(tu)"
      ],
      "metadata": {
        "colab": {
          "base_uri": "https://localhost:8080/"
        },
        "id": "j4AfjkwVePiX",
        "outputId": "08ba135c-2f55-4097-83ab-007117cd8e99"
      },
      "execution_count": 50,
      "outputs": [
        {
          "output_type": "execute_result",
          "data": {
            "text/plain": [
              "tuple"
            ]
          },
          "metadata": {},
          "execution_count": 50
        }
      ]
    },
    {
      "cell_type": "code",
      "source": [
        "tu.append(6)"
      ],
      "metadata": {
        "colab": {
          "base_uri": "https://localhost:8080/",
          "height": 174
        },
        "id": "OAARX4GLl-B_",
        "outputId": "81e11720-7fdf-4215-87e9-6e94860d2b8e"
      },
      "execution_count": 51,
      "outputs": [
        {
          "output_type": "error",
          "ename": "AttributeError",
          "evalue": "ignored",
          "traceback": [
            "\u001b[0;31m---------------------------------------------------------------------------\u001b[0m",
            "\u001b[0;31mAttributeError\u001b[0m                            Traceback (most recent call last)",
            "\u001b[0;32m<ipython-input-51-5346a898c5e0>\u001b[0m in \u001b[0;36m<module>\u001b[0;34m()\u001b[0m\n\u001b[0;32m----> 1\u001b[0;31m \u001b[0mtu\u001b[0m\u001b[0;34m.\u001b[0m\u001b[0mappend\u001b[0m\u001b[0;34m(\u001b[0m\u001b[0;36m6\u001b[0m\u001b[0;34m)\u001b[0m\u001b[0;34m\u001b[0m\u001b[0;34m\u001b[0m\u001b[0m\n\u001b[0m",
            "\u001b[0;31mAttributeError\u001b[0m: 'tuple' object has no attribute 'append'"
          ]
        }
      ]
    },
    {
      "cell_type": "code",
      "source": [
        "tu.pop()"
      ],
      "metadata": {
        "colab": {
          "base_uri": "https://localhost:8080/",
          "height": 174
        },
        "id": "S1ZpRqbpl_UM",
        "outputId": "ea7e3afd-145c-4d8a-a690-195a82d6bbde"
      },
      "execution_count": 52,
      "outputs": [
        {
          "output_type": "error",
          "ename": "AttributeError",
          "evalue": "ignored",
          "traceback": [
            "\u001b[0;31m---------------------------------------------------------------------------\u001b[0m",
            "\u001b[0;31mAttributeError\u001b[0m                            Traceback (most recent call last)",
            "\u001b[0;32m<ipython-input-52-e7fa926581ef>\u001b[0m in \u001b[0;36m<module>\u001b[0;34m()\u001b[0m\n\u001b[0;32m----> 1\u001b[0;31m \u001b[0mtu\u001b[0m\u001b[0;34m.\u001b[0m\u001b[0mpop\u001b[0m\u001b[0;34m(\u001b[0m\u001b[0;34m)\u001b[0m\u001b[0;34m\u001b[0m\u001b[0;34m\u001b[0m\u001b[0m\n\u001b[0m",
            "\u001b[0;31mAttributeError\u001b[0m: 'tuple' object has no attribute 'pop'"
          ]
        }
      ]
    },
    {
      "cell_type": "code",
      "source": [
        "tu = 1,2,3,4,5\n",
        "tu[0]"
      ],
      "metadata": {
        "colab": {
          "base_uri": "https://localhost:8080/"
        },
        "id": "qtT6ol5NmBj1",
        "outputId": "931a789f-9605-475e-a038-f8ae8c8bb5ed"
      },
      "execution_count": 53,
      "outputs": [
        {
          "output_type": "execute_result",
          "data": {
            "text/plain": [
              "1"
            ]
          },
          "metadata": {},
          "execution_count": 53
        }
      ]
    },
    {
      "cell_type": "code",
      "source": [
        "tu[0:3]"
      ],
      "metadata": {
        "colab": {
          "base_uri": "https://localhost:8080/"
        },
        "id": "i8f4x8iueTFA",
        "outputId": "14ed80be-86c4-4292-c014-bbfd113a57b3"
      },
      "execution_count": 54,
      "outputs": [
        {
          "output_type": "execute_result",
          "data": {
            "text/plain": [
              "(1, 2, 3)"
            ]
          },
          "metadata": {},
          "execution_count": 54
        }
      ]
    },
    {
      "cell_type": "code",
      "source": [
        "# 셋 Set\n",
        "\n",
        "# 특징\n",
        "# 1. 중괄호로 생성한다. {}\n",
        "# 2. 여러가지 자료형을 하나의 셋로 생성할 수 있다. (?)\n",
        "# 3. mutable 한 속성을 갖는다. (수정, 삭제가 가능하다.)\n",
        "# 4. indexing, slicing 이 불가능하다. 순서가 없다.\n",
        "# 5. 중복된 데이터를 함께 저장할 수 없다. (중복 불가능) 이 특징을 사용하기 위해 set을 사용\n",
        "\n",
        "set = {1,1,2,3}\n",
        "set"
      ],
      "metadata": {
        "colab": {
          "base_uri": "https://localhost:8080/"
        },
        "id": "vVFhcdljekiJ",
        "outputId": "e852d209-0b85-4943-853b-888befef2fae"
      },
      "execution_count": 37,
      "outputs": [
        {
          "output_type": "execute_result",
          "data": {
            "text/plain": [
              "{1, 2, 3}"
            ]
          },
          "metadata": {},
          "execution_count": 37
        }
      ]
    },
    {
      "cell_type": "code",
      "source": [
        "set.add(4) #4를 추가\n",
        "set"
      ],
      "metadata": {
        "colab": {
          "base_uri": "https://localhost:8080/"
        },
        "id": "9vVXjBl1f0t0",
        "outputId": "a2472bd6-f535-472b-e86e-5f5634986558"
      },
      "execution_count": 38,
      "outputs": [
        {
          "output_type": "execute_result",
          "data": {
            "text/plain": [
              "{1, 2, 3, 4}"
            ]
          },
          "metadata": {},
          "execution_count": 38
        }
      ]
    },
    {
      "cell_type": "code",
      "source": [
        "set.remove(3) #3을 삭제\n",
        "set"
      ],
      "metadata": {
        "colab": {
          "base_uri": "https://localhost:8080/"
        },
        "id": "zJeqGwKygEDs",
        "outputId": "53f283bf-4e9b-451a-e134-037090d56905"
      },
      "execution_count": 39,
      "outputs": [
        {
          "output_type": "execute_result",
          "data": {
            "text/plain": [
              "{1, 2, 4}"
            ]
          },
          "metadata": {},
          "execution_count": 39
        }
      ]
    },
    {
      "cell_type": "code",
      "source": [
        "# dict 딕셔너리 키값과 밸류값의 쌍으로 데이터를 저장하는 자료형\n",
        "# 자바에서의 map, JS에서의 json 과 유사한 파이썬의 자료형\n",
        "# 특징\n",
        "# 1. 중괄호로 생성한다. {} set은 원소가 1개1개씩들어감\n",
        "# 2. 여러가지 자료형을 하나의 딕셔너리로 생성할 수 있다. (?)\n",
        "# 3. mutable 한 속성을 갖는다. (수정, 삭제가 가능하다.)\n",
        "# 4. indexing, slicing 이 불가능하다. 순서가 없다. set과의 공통점\n",
        "# 5. 키와 밸류로 구분한다.\n",
        "\n",
        "dict={'name':'홍길동', 'age':24}\n",
        "\n",
        "d = {'a':'apple', 'b':'banana'}\n",
        "d['b']"
      ],
      "metadata": {
        "colab": {
          "base_uri": "https://localhost:8080/",
          "height": 35
        },
        "id": "rUqfBa2wgObz",
        "outputId": "1e6a272f-5022-4a3c-9aac-4b786d23a5bf"
      },
      "execution_count": 55,
      "outputs": [
        {
          "output_type": "execute_result",
          "data": {
            "application/vnd.google.colaboratory.intrinsic+json": {
              "type": "string"
            },
            "text/plain": [
              "'banana'"
            ]
          },
          "metadata": {},
          "execution_count": 55
        }
      ]
    },
    {
      "cell_type": "code",
      "source": [
        "d['c'] = 'cherry'\n",
        "d"
      ],
      "metadata": {
        "colab": {
          "base_uri": "https://localhost:8080/"
        },
        "id": "zgfT0ZZyiYO-",
        "outputId": "3d7e408d-17c3-47e7-9989-a5da53ef0880"
      },
      "execution_count": 56,
      "outputs": [
        {
          "output_type": "execute_result",
          "data": {
            "text/plain": [
              "{'a': 'apple', 'b': 'banana', 'c': 'cherry'}"
            ]
          },
          "metadata": {},
          "execution_count": 56
        }
      ]
    },
    {
      "cell_type": "code",
      "source": [
        "d['c'] = '체리'\n",
        "d"
      ],
      "metadata": {
        "colab": {
          "base_uri": "https://localhost:8080/"
        },
        "id": "_Mc56asPmIGt",
        "outputId": "0802eee4-c1a5-4423-80c3-2b246c60fbf2"
      },
      "execution_count": 57,
      "outputs": [
        {
          "output_type": "execute_result",
          "data": {
            "text/plain": [
              "{'a': 'apple', 'b': 'banana', 'c': '체리'}"
            ]
          },
          "metadata": {},
          "execution_count": 57
        }
      ]
    },
    {
      "cell_type": "code",
      "source": [
        "d.pop('c')\n",
        "d"
      ],
      "metadata": {
        "colab": {
          "base_uri": "https://localhost:8080/"
        },
        "id": "NFi9PIF7i82K",
        "outputId": "dc14bd83-f529-4e35-b6b6-4a480e28e409"
      },
      "execution_count": 58,
      "outputs": [
        {
          "output_type": "execute_result",
          "data": {
            "text/plain": [
              "{'a': 'apple', 'b': 'banana'}"
            ]
          },
          "metadata": {},
          "execution_count": 58
        }
      ]
    },
    {
      "cell_type": "code",
      "source": [
        "# mutable:리스트 셋 딕셔너리\n",
        "# immutable : 튜플 정수 실수 문자열\n",
        "\n",
        "me=[1,2,3]\n",
        "id(me) #실제 데이터가 저장된 메모리 위치"
      ],
      "metadata": {
        "colab": {
          "base_uri": "https://localhost:8080/"
        },
        "id": "QiYs3NbjjIwt",
        "outputId": "2029d941-65d3-4d0a-8c14-70dcb77c55ae"
      },
      "execution_count": 45,
      "outputs": [
        {
          "output_type": "execute_result",
          "data": {
            "text/plain": [
              "140321964689360"
            ]
          },
          "metadata": {},
          "execution_count": 45
        }
      ]
    },
    {
      "cell_type": "code",
      "source": [
        "me.append(4)\n",
        "id(me) #추가됐지만 메모리의 위치는 같음"
      ],
      "metadata": {
        "colab": {
          "base_uri": "https://localhost:8080/"
        },
        "id": "ZapQzsHQjw13",
        "outputId": "6f98cfd9-531a-4e29-be4b-ba27c5ff88e0"
      },
      "execution_count": 46,
      "outputs": [
        {
          "output_type": "execute_result",
          "data": {
            "text/plain": [
              "140321964689360"
            ]
          },
          "metadata": {},
          "execution_count": 46
        }
      ]
    },
    {
      "cell_type": "code",
      "source": [
        "me"
      ],
      "metadata": {
        "colab": {
          "base_uri": "https://localhost:8080/"
        },
        "id": "nuyHaHxbkGqs",
        "outputId": "2eb5bcf9-1f30-4ec3-ec53-b824fc0ef289"
      },
      "execution_count": 47,
      "outputs": [
        {
          "output_type": "execute_result",
          "data": {
            "text/plain": [
              "[1, 2, 3, 4]"
            ]
          },
          "metadata": {},
          "execution_count": 47
        }
      ]
    },
    {
      "cell_type": "code",
      "source": [
        "#immutable\n",
        "me=10\n",
        "id(me)\n",
        "# type(me) 무슨 형인지 알려줌"
      ],
      "metadata": {
        "colab": {
          "base_uri": "https://localhost:8080/"
        },
        "id": "-dhiB2fTkJl2",
        "outputId": "4a03261f-34c6-4277-b63f-0fd18e9f8d34"
      },
      "execution_count": 49,
      "outputs": [
        {
          "output_type": "execute_result",
          "data": {
            "text/plain": [
              "94906170166048"
            ]
          },
          "metadata": {},
          "execution_count": 49
        }
      ]
    },
    {
      "cell_type": "code",
      "source": [
        "me += 1  # me = me + 1   , (자바)me ++\n",
        "id(me)  # 메모리의 주소가 바뀐것을 확인할 수 있다."
      ],
      "metadata": {
        "colab": {
          "base_uri": "https://localhost:8080/"
        },
        "id": "XWEDE_7tk39i",
        "outputId": "bc0587e4-c928-41af-d1b9-1adc60155b34"
      },
      "execution_count": 59,
      "outputs": [
        {
          "output_type": "execute_result",
          "data": {
            "text/plain": [
              "94906170166080"
            ]
          },
          "metadata": {},
          "execution_count": 59
        }
      ]
    }
  ]
}