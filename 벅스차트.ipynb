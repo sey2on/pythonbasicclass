{
  "nbformat": 4,
  "nbformat_minor": 0,
  "metadata": {
    "colab": {
      "name": "벅스차트.ipynb",
      "provenance": [],
      "collapsed_sections": [],
      "authorship_tag": "ABX9TyMTaHZrxDER+RlRf2TEivtf",
      "include_colab_link": true
    },
    "kernelspec": {
      "name": "python3",
      "display_name": "Python 3"
    },
    "language_info": {
      "name": "python"
    }
  },
  "cells": [
    {
      "cell_type": "markdown",
      "metadata": {
        "id": "view-in-github",
        "colab_type": "text"
      },
      "source": [
        "<a href=\"https://colab.research.google.com/github/sey2on/pythonbasicclass/blob/main/%EB%B2%85%EC%8A%A4%EC%B0%A8%ED%8A%B8.ipynb\" target=\"_parent\"><img src=\"https://colab.research.google.com/assets/colab-badge.svg\" alt=\"Open In Colab\"/></a>"
      ]
    },
    {
      "cell_type": "code",
      "execution_count": null,
      "metadata": {
        "id": "-doCPUg5mjep"
      },
      "outputs": [],
      "source": [
        "import requests                     # 웹으로 사이트 연결\n",
        "from bs4 import BeautifulSoup as bs # 데이터 정제 \n",
        "import pandas as pd    \n",
        "\n",
        "html = requests.get('https://music.bugs.co.kr/chart')\n",
        "soup = bs(html.text)"
      ]
    },
    {
      "cell_type": "code",
      "source": [
        "len(soup.select('tr'))"
      ],
      "metadata": {
        "colab": {
          "base_uri": "https://localhost:8080/"
        },
        "id": "pqbUGAIzqYyE",
        "outputId": "dec9694d-4125-483a-9e58-9e08feb10d54"
      },
      "execution_count": null,
      "outputs": [
        {
          "output_type": "execute_result",
          "data": {
            "text/plain": [
              "104"
            ]
          },
          "metadata": {},
          "execution_count": 11
        }
      ]
    },
    {
      "cell_type": "code",
      "source": [
        "len(soup.select('p.title'))"
      ],
      "metadata": {
        "colab": {
          "base_uri": "https://localhost:8080/"
        },
        "id": "ElMosugHqZy0",
        "outputId": "2a25b52f-7171-44cd-ad7b-5f1ebe7ea8fe"
      },
      "execution_count": null,
      "outputs": [
        {
          "output_type": "execute_result",
          "data": {
            "text/plain": [
              "100"
            ]
          },
          "metadata": {},
          "execution_count": 12
        }
      ]
    },
    {
      "cell_type": "code",
      "source": [
        "songs = soup.select('p.title')"
      ],
      "metadata": {
        "id": "ji7q3NsZqakS"
      },
      "execution_count": null,
      "outputs": []
    },
    {
      "cell_type": "code",
      "source": [
        "songs[0]"
      ],
      "metadata": {
        "colab": {
          "base_uri": "https://localhost:8080/"
        },
        "id": "scCw2bPOqbcb",
        "outputId": "314e77a0-6e90-4bc4-f39d-36aaef9ebb3f"
      },
      "execution_count": null,
      "outputs": [
        {
          "output_type": "execute_result",
          "data": {
            "text/plain": [
              "<p adult_yn=\"N\" class=\"title\">\n",
              "<a adultcheckval=\"1\" aria-label=\"새창\" href=\"javascript:;\" onclick=\"bugs.wiselog.area('list_tr_09_chart');bugs.music.listen('32493447',true);\n",
              "\" title=\"MANIAC\">MANIAC</a>\n",
              "</p>"
            ]
          },
          "metadata": {},
          "execution_count": 14
        }
      ]
    },
    {
      "cell_type": "code",
      "source": [
        "songs[0].text"
      ],
      "metadata": {
        "colab": {
          "base_uri": "https://localhost:8080/",
          "height": 35
        },
        "id": "PjDms4Jcqece",
        "outputId": "380a392e-2306-4296-eabb-034e0f82c0d2"
      },
      "execution_count": null,
      "outputs": [
        {
          "output_type": "execute_result",
          "data": {
            "text/plain": [
              "'\\nMANIAC\\n'"
            ],
            "application/vnd.google.colaboratory.intrinsic+json": {
              "type": "string"
            }
          },
          "metadata": {},
          "execution_count": 15
        }
      ]
    },
    {
      "cell_type": "code",
      "source": [
        "songs[0].text.strip()"
      ],
      "metadata": {
        "colab": {
          "base_uri": "https://localhost:8080/",
          "height": 35
        },
        "id": "KoKBl7W_qfUa",
        "outputId": "daa86d5c-b16e-436a-9c4f-f8c0907943f3"
      },
      "execution_count": null,
      "outputs": [
        {
          "output_type": "execute_result",
          "data": {
            "text/plain": [
              "'MANIAC'"
            ],
            "application/vnd.google.colaboratory.intrinsic+json": {
              "type": "string"
            }
          },
          "metadata": {},
          "execution_count": 16
        }
      ]
    },
    {
      "cell_type": "code",
      "source": [
        "singer = soup.select('p.artist')\n",
        "singer[0]"
      ],
      "metadata": {
        "colab": {
          "base_uri": "https://localhost:8080/"
        },
        "id": "h3VLxTsvqgdl",
        "outputId": "a20f250b-01ff-4a83-ecf1-944cf408a9f5"
      },
      "execution_count": null,
      "outputs": [
        {
          "output_type": "execute_result",
          "data": {
            "text/plain": [
              "<p class=\"artist\">\n",
              "<a href=\"https://music.bugs.co.kr/artist/20046081?wl_ref=list_tr_10_chart\" onclick=\"\n",
              "\" title=\"Stray Kids (스트레이 키즈)\">Stray Kids (스트레이 키즈)</a>\n",
              "</p>"
            ]
          },
          "metadata": {},
          "execution_count": 17
        }
      ]
    },
    {
      "cell_type": "code",
      "source": [
        "singer[0].text.strip()"
      ],
      "metadata": {
        "colab": {
          "base_uri": "https://localhost:8080/",
          "height": 35
        },
        "id": "7yIR6o4LqhN3",
        "outputId": "61aa4943-f390-4c2a-9f6f-d0988da7c76a"
      },
      "execution_count": null,
      "outputs": [
        {
          "output_type": "execute_result",
          "data": {
            "text/plain": [
              "'Stray Kids (스트레이 키즈)'"
            ],
            "application/vnd.google.colaboratory.intrinsic+json": {
              "type": "string"
            }
          },
          "metadata": {},
          "execution_count": 18
        }
      ]
    },
    {
      "cell_type": "code",
      "source": [
        "album = soup.select('a.album')\n",
        "len(album)"
      ],
      "metadata": {
        "colab": {
          "base_uri": "https://localhost:8080/"
        },
        "id": "QYitUihkqhRn",
        "outputId": "8ff74f5b-3bbc-4e94-91f2-9be3a701a224"
      },
      "execution_count": null,
      "outputs": [
        {
          "output_type": "execute_result",
          "data": {
            "text/plain": [
              "101"
            ]
          },
          "metadata": {},
          "execution_count": 19
        }
      ]
    },
    {
      "cell_type": "code",
      "source": [
        "album = soup.select('td > a.album')\n",
        "len(album)"
      ],
      "metadata": {
        "colab": {
          "base_uri": "https://localhost:8080/"
        },
        "id": "e43UmK6Vvtuw",
        "outputId": "589bde7b-8ddd-4203-b733-9c6f8a2d6af7"
      },
      "execution_count": null,
      "outputs": [
        {
          "output_type": "execute_result",
          "data": {
            "text/plain": [
              "100"
            ]
          },
          "metadata": {},
          "execution_count": 23
        }
      ]
    },
    {
      "cell_type": "code",
      "source": [
        "album[1]"
      ],
      "metadata": {
        "colab": {
          "base_uri": "https://localhost:8080/"
        },
        "id": "1kf-20ImqjXi",
        "outputId": "6c1feab9-cbf3-4ee4-c1f9-b8875980b120"
      },
      "execution_count": null,
      "outputs": [
        {
          "output_type": "execute_result",
          "data": {
            "text/plain": [
              "<a class=\"album\" href=\"https://music.bugs.co.kr/album/4072414?wl_ref=list_tr_11_chart\" onclick=\"\n",
              "\" title=\"I NEVER DIE\">I NEVER DIE</a>"
            ]
          },
          "metadata": {},
          "execution_count": 24
        }
      ]
    },
    {
      "cell_type": "code",
      "source": [
        "album[0].text"
      ],
      "metadata": {
        "colab": {
          "base_uri": "https://localhost:8080/",
          "height": 35
        },
        "id": "Vnqw02nNqkPA",
        "outputId": "4a6965a3-987a-4447-d654-b7077f62ecd9"
      },
      "execution_count": null,
      "outputs": [
        {
          "output_type": "execute_result",
          "data": {
            "text/plain": [
              "'ODDINARY'"
            ],
            "application/vnd.google.colaboratory.intrinsic+json": {
              "type": "string"
            }
          },
          "metadata": {},
          "execution_count": 25
        }
      ]
    },
    {
      "cell_type": "code",
      "source": [
        "album[0].text.strip()"
      ],
      "metadata": {
        "colab": {
          "base_uri": "https://localhost:8080/",
          "height": 35
        },
        "id": "TFyUBrdIvots",
        "outputId": "12ba3f0a-6d6e-426a-acbe-2f58bc923b7b"
      },
      "execution_count": null,
      "outputs": [
        {
          "output_type": "execute_result",
          "data": {
            "text/plain": [
              "'ODDINARY'"
            ],
            "application/vnd.google.colaboratory.intrinsic+json": {
              "type": "string"
            }
          },
          "metadata": {},
          "execution_count": 26
        }
      ]
    },
    {
      "cell_type": "code",
      "source": [
        "songlist = []\n",
        "rank = 1\n",
        "songs = soup.select('table.byChart > tbody > tr')\n",
        "\n",
        "for song in songs:\n",
        "  title = song.select('p.title > a')[0].text.strip()\n",
        "  singer = song.select('p.artist > a')[0].text.strip()\n",
        "  songlist.append(['벅스', rank, title, singer])\n",
        "  rank += 1\n",
        "\n",
        "df = pd.DataFrame(songlist, columns = ['서비스', '순위', '타이틀', '가수'])\n",
        "\n",
        "df.to_excel('bugs.xlsx', index=False)"
      ],
      "metadata": {
        "id": "3rYhO4P2v0NT"
      },
      "execution_count": 30,
      "outputs": []
    },
    {
      "cell_type": "code",
      "source": [
        "html = requests.get('https://www.melon.com/chart/')\n",
        "soup = bs(html.text)\n",
        "soup #아무것도 안나옴 rock 걸어둠"
      ],
      "metadata": {
        "colab": {
          "base_uri": "https://localhost:8080/"
        },
        "id": "iVgQM2hm0-n1",
        "outputId": "c0886744-783b-4c42-c8f7-2d88957b2d50"
      },
      "execution_count": 33,
      "outputs": [
        {
          "output_type": "execute_result",
          "data": {
            "text/plain": [
              ""
            ]
          },
          "metadata": {},
          "execution_count": 33
        }
      ]
    },
    {
      "cell_type": "code",
      "source": [
        "html = requests.get('https://www.genie.co.kr/chart/top200')\n",
        "soup = bs(html.text)\n",
        "soup #지니는 못퍼가게 막아둠"
      ],
      "metadata": {
        "colab": {
          "base_uri": "https://localhost:8080/"
        },
        "id": "-jqJA0Dq1TkU",
        "outputId": "d54c9423-4c59-4875-db92-2dc7dad49292"
      },
      "execution_count": 35,
      "outputs": [
        {
          "output_type": "execute_result",
          "data": {
            "text/plain": [
              "<html><body><br/>\n",
              "<br/>\n",
              "<center>\n",
              "<img src=\"http://www.geniemusic.co.kr/images/common/logo_r1.png\"/><br/>\n",
              "<h2> <meta content=\"text/html;charset=utf-8\" http-equiv=\"Content-Type\"/> ì ììì²­ì´ ë³´ìì ì±\n",
              "ì ìí´ ì°¨ë¨ëììµëë¤. ë¹ì¬ ê³ ê°ì¼í°ë¡ ë¬¸ìí´ì£¼ì­ìì¤.<br/><br/>\n",
              "The security policy of the connection request is blocked. Contact your customer service representative.<br/><br/>\n",
              "ì§ëë®¤ì§ ê³ ê°ì¼í° 1577-5337<br/><br/>\n",
              "</h2>\n",
              "</center>\n",
              "<br/></body></html>"
            ]
          },
          "metadata": {},
          "execution_count": 35
        }
      ]
    }
  ]
}