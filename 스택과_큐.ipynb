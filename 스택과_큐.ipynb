{
  "nbformat": 4,
  "nbformat_minor": 0,
  "metadata": {
    "colab": {
      "name": "스택과 큐.ipynb",
      "provenance": [],
      "authorship_tag": "ABX9TyPqfnZRn/x8IFm88G4mwrbv",
      "include_colab_link": true
    },
    "kernelspec": {
      "name": "python3",
      "display_name": "Python 3"
    },
    "language_info": {
      "name": "python"
    }
  },
  "cells": [
    {
      "cell_type": "markdown",
      "metadata": {
        "id": "view-in-github",
        "colab_type": "text"
      },
      "source": [
        "<a href=\"https://colab.research.google.com/github/sey2on/pythonbasicclass/blob/main/%EC%8A%A4%ED%83%9D%EA%B3%BC_%ED%81%90.ipynb\" target=\"_parent\"><img src=\"https://colab.research.google.com/assets/colab-badge.svg\" alt=\"Open In Colab\"/></a>"
      ]
    },
    {
      "cell_type": "code",
      "execution_count": null,
      "metadata": {
        "id": "EvcEKGt0MkJ7"
      },
      "outputs": [],
      "source": [
        "알고리즘과 자료구조\n",
        "\n",
        "알고리즘 : 문제를 해결하기위한 절차\n",
        "자료구조 : 자료를 저장하고 자료를 꺼내는 방법\n",
        "\n",
        "스택 : 쌓는다. 식당 주방의 접시, 프링글스 \n",
        "       LIFO Last in First out 후입선출\n",
        "       - 키보드 입력 하다가 백스페이스 를 누르면 최근에 입력한 글자부터 지운다. \n",
        "       - 워드 파포 엑셀 등 작업을 하다가 뒤로가기를 누르면 마지막 작업이 취소된다. \n",
        "\n",
        "                 7\n",
        "           30    30     30\n",
        "     20    20    20     20      20 \n",
        "15   15    15    15     15      15     15"
      ]
    },
    {
      "cell_type": "code",
      "source": [
        "# 리스트를 이용한 스택\n",
        "\n",
        "class ListStack:\n",
        "  def __init__(self):\n",
        "    self.__stack = []\n",
        "    \n",
        "  # 스택에 자료 넣기\n",
        "  def push(self, x):\n",
        "    self.__stack.append(x)\n",
        "\n",
        "  # 스택에 자료 삭제  \n",
        "  def pop(self):\n",
        "    return self.__stack.pop()\n",
        "\n",
        "  # 스택 탑원소 알아내기\n",
        "  def top(self):\n",
        "    if self.isEmpty():\n",
        "      return None\n",
        "    else:\n",
        "      return self.__stack[-1]\n",
        "\n",
        "  # 스택이 비었는지 확인\n",
        "  def isEmpty(self):\n",
        "    return len(self.__stack)==0     #길이가 0인지 확인, not bool(self.__stack)\n",
        "\n",
        "  # 스택 한번에 비우기\n",
        "  def popAll(self):\n",
        "    self.__stack = []"
      ],
      "metadata": {
        "id": "TriYrbeLOgwz"
      },
      "execution_count": 17,
      "outputs": []
    },
    {
      "cell_type": "code",
      "source": [
        "st1 = ListStack()\n",
        "\n",
        "st1.push(100)\n",
        "st1.push(200)\n",
        "\n",
        "print(st1.top())\n",
        "\n",
        "print(st1.isEmpty())\n",
        "\n",
        "st1.push(300)\n",
        "print(st1.top())\n",
        "\n",
        "st1.popAll()\n",
        "print(st1.isEmpty())\n",
        "print(st1.top())"
      ],
      "metadata": {
        "colab": {
          "base_uri": "https://localhost:8080/"
        },
        "id": "CVZdV7ZaRDUj",
        "outputId": "86b18e7a-9399-492a-bbca-26e32dabaea0"
      },
      "execution_count": 21,
      "outputs": [
        {
          "output_type": "stream",
          "name": "stdout",
          "text": [
            "200\n",
            "False\n",
            "300\n",
            "True\n",
            "None\n"
          ]
        }
      ]
    },
    {
      "cell_type": "code",
      "source": [
        "#문자열 뒤집기\n",
        "\n",
        "# def reverseStack(str):\n",
        "#   return str[::-1]\n",
        "# print(reverseStack(\"Tree\")) 스택 안쓰고 문자열 뒤집기\n",
        "\n",
        "# 스택 사용하여 문자열 뒤집기\n",
        "def reverseStack(str):\n",
        "  ori = []\n",
        "  for i in str:\n",
        "    ori.append(i)\n",
        "  \n",
        "  while ori:\n",
        "    print(ori.pop(), end= \"\")\n",
        "\n",
        "reverseStack(\"Tree\")"
      ],
      "metadata": {
        "colab": {
          "base_uri": "https://localhost:8080/"
        },
        "id": "_HqWnGJcTDi7",
        "outputId": "7a97ede0-3cba-4119-b276-cccff84fc4eb"
      },
      "execution_count": 25,
      "outputs": [
        {
          "output_type": "stream",
          "name": "stdout",
          "text": [
            "eerT"
          ]
        }
      ]
    },
    {
      "cell_type": "code",
      "source": [
        "Queue : 줄선다. 식당에 음식 주문열, 은행에 번호표 \n",
        "        FIFO   First in First Out  선입선출\n",
        "\n",
        "\n",
        "\n",
        "스택 : 쌓는다. 식당 주방의 접시, 프링글스 \n",
        "       LIFO Last in First out 후입선출\n",
        "       - 키보드 입력 하다가 백스페이스 를 누르면 최근에 입력한 글자부터 지운다. \n",
        "       - 워드 파포 엑셀 등 작업을 하다가 뒤로가기를 누르면 마지막 작업이 취소된다. "
      ],
      "metadata": {
        "id": "tOUTNnl4asbg"
      },
      "execution_count": null,
      "outputs": []
    },
    {
      "cell_type": "code",
      "source": [
        "# 큐 Queue : 줄선다. 식당에 음식 주문열, 은행에 번호표 \n",
        "#            FIFO   First in First Out  선입선출\n",
        "#         - 프린터 프로그램 - 먼저 출력을 누른 파일이 먼저 출력된다. \n",
        "#         - 컴퓨터에서 여러개의 프로세스가 실행될 때 새로운 프로세스가 수행되면\n",
        "#           먼저 메모리에 올라왔던 프로세스가 아웃된다. \n",
        " \n",
        "def Queue():\n",
        "    queue = []\n",
        "    queue.append(1)\n",
        "    queue.append(2)\n",
        "    queue.append(3)\n",
        "    queue.append(4)  \n",
        "    queue.append(5)\n",
        "\n",
        "    print(queue)\n",
        "\n",
        "    while queue:\n",
        "      print(queue.pop(0), end=\" \")\n",
        "\n",
        "Queue()\n"
      ],
      "metadata": {
        "colab": {
          "base_uri": "https://localhost:8080/"
        },
        "id": "3mV1ptCucf0r",
        "outputId": "bfa0b818-af27-43ce-dc3a-0846f1fec16c"
      },
      "execution_count": 30,
      "outputs": [
        {
          "output_type": "stream",
          "name": "stdout",
          "text": [
            "[1, 2, 3, 4, 5]\n",
            "1 2 3 4 5 "
          ]
        }
      ]
    },
    {
      "cell_type": "code",
      "source": [
        "# 프린터 프로그램\n",
        "\n",
        "list = []\n",
        "\n",
        "# by 김현진 님\n",
        "while True:\n",
        "  fname = input('출력한 파일을 입력하세요(0을 누르시면 출력을 시작합니다.)>>')\n",
        "  if fname != '0':\n",
        "    list.append(fname)\n",
        "  else: # 0이 입력되면\n",
        "    print('\\n출력을 시작합니다.')\n",
        "    for n in range(len(list)):\n",
        "      print(f'{n+1}번째 파일을 출력합니다. : {list[n]}')\n",
        "    print('출력을 종료합니다.')\n",
        "    break\n",
        "\n",
        "# 1번째 파일을 출력합니다. : 포켓몬.docx\n",
        "# 2번째 파일을 출력합니다. : BTS.ppt\n",
        "# 3번째 파일을 출력합니다. : 파이썬.py\n",
        "# 출력을 종료합니다."
      ],
      "metadata": {
        "colab": {
          "base_uri": "https://localhost:8080/"
        },
        "id": "CDERWkAkciJw",
        "outputId": "0485216d-0f74-46b5-e98a-9eea760686f1"
      },
      "execution_count": 32,
      "outputs": [
        {
          "output_type": "stream",
          "name": "stdout",
          "text": [
            "출력한 파일을 입력하세요(0을 누르시면 출력을 시작합니다.)>>포켓몬.docx\n",
            "출력한 파일을 입력하세요(0을 누르시면 출력을 시작합니다.)>>BTS.ppt\n",
            "출력한 파일을 입력하세요(0을 누르시면 출력을 시작합니다.)>>파이썬.py\n",
            "출력한 파일을 입력하세요(0을 누르시면 출력을 시작합니다.)>>0\n",
            "\n",
            "출력을 시작합니다.\n",
            "1번째 파일을 출력합니다. : 포켓몬.docx\n",
            "2번째 파일을 출력합니다. : BTS.ppt\n",
            "3번째 파일을 출력합니다. : 파이썬.py\n",
            "출력을 종료합니다.\n"
          ]
        }
      ]
    },
    {
      "cell_type": "code",
      "source": [
        "# palindrome (스택과 큐를 사용)\n",
        "\n",
        "def palin(str):\n",
        "\n",
        "\n",
        "\n",
        "\n",
        "\n",
        "  return True\n",
        "\n",
        "print(palin('mam')) # True"
      ],
      "metadata": {
        "colab": {
          "base_uri": "https://localhost:8080/"
        },
        "id": "aUbzihAAhF8R",
        "outputId": "489fd1ca-ad62-4b83-c5c4-88f5cbc7fef9"
      },
      "execution_count": 33,
      "outputs": [
        {
          "output_type": "stream",
          "name": "stdout",
          "text": [
            "True\n"
          ]
        }
      ]
    }
  ]
}