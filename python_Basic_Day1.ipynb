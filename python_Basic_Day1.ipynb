{
  "nbformat": 4,
  "nbformat_minor": 0,
  "metadata": {
    "colab": {
      "name": "python Basic Day1.ipynb",
      "provenance": [],
      "authorship_tag": "ABX9TyNlvCiDx0mT+eWxaVHMx+Wj",
      "include_colab_link": true
    },
    "kernelspec": {
      "name": "python3",
      "display_name": "Python 3"
    },
    "language_info": {
      "name": "python"
    }
  },
  "cells": [
    {
      "cell_type": "markdown",
      "metadata": {
        "id": "view-in-github",
        "colab_type": "text"
      },
      "source": [
        "<a href=\"https://colab.research.google.com/github/sey2on/pythonbasicclass/blob/main/python_Basic_Day1.ipynb\" target=\"_parent\"><img src=\"https://colab.research.google.com/assets/colab-badge.svg\" alt=\"Open In Colab\"/></a>"
      ]
    },
    {
      "cell_type": "code",
      "execution_count": 1,
      "metadata": {
        "colab": {
          "base_uri": "https://localhost:8080/"
        },
        "id": "zA7GwRE11JZN",
        "outputId": "aa310867-e252-439c-a4a2-0904451457e4"
      },
      "outputs": [
        {
          "output_type": "stream",
          "name": "stdout",
          "text": [
            "Hello World\n"
          ]
        }
      ],
      "source": [
        "# 주석처리 ctrl+/\n",
        "'''주석''', \"\"\"주석\"\"\" 진짜 주석은 아닌데 주석의 기능을 갖은거임. 컴퓨터가 읽었는데 안읽은척\n",
        "\n",
        "# 파이썬의 특징\n",
        "#  1) 파이썬은 인터프리터 언어이다. (컴파일러가 아님)\n",
        "#    - 인터프리터란 한줄한줄 실행됨\n",
        "#  2) 플랫폼에 독립적이다. 윈도우, 맥 모두 쓸 수 있음\n",
        "#  3) 객체 지향 언어이다.\n",
        "#  4) 동적 타이핑 언어이다.\n",
        "#  5) 개발 속도가 빠르다.\n",
        "#  * 개발 환경 - 웹 : colab, local : Anaconda or vs code\n"
      ]
    },
    {
      "cell_type": "code",
      "source": [
        "#주석 comment\n",
        "#코드에 설명을 작성하는 부분\n",
        "#주석은 프로그램 실행에 전혀 영향을 주지 않음."
      ],
      "metadata": {
        "id": "kbXf3fpi-HaX"
      },
      "execution_count": null,
      "outputs": []
    },
    {
      "cell_type": "code",
      "source": [
        "'''      Docstring\n",
        "파일명: Ex02-1.py\n",
        "개요: 반지름을 전달하면 원의 넓이를 반환\n",
        "작성자: 홍길동\n",
        "작성일: 2020-0825\n",
        "'''\n",
        "# 여러줄을 주석처리\n",
        "\n"
      ],
      "metadata": {
        "colab": {
          "base_uri": "https://localhost:8080/",
          "height": 35
        },
        "id": "dKLP3mPl_TyE",
        "outputId": "b75e76e9-e658-44d1-b41e-31320a48a537"
      },
      "execution_count": 11,
      "outputs": [
        {
          "output_type": "execute_result",
          "data": {
            "application/vnd.google.colaboratory.intrinsic+json": {
              "type": "string"
            },
            "text/plain": [
              "'      Docstring\\n파일명: Ex02-1.py\\n개요: 반지름을 전달하면 원의 넓이를 반환\\n작성자: 홍길동\\n작성일: 2020-0825\\n'"
            ]
          },
          "metadata": {},
          "execution_count": 11
        }
      ]
    },
    {
      "cell_type": "code",
      "source": [
        "#math 모듈 포함\n",
        "import math\n",
        "\n",
        "def get_area(radius):\n",
        "  \"\"\"반지름을 입력받아 원의 넓이를 반환하는 get_area()함수\"\"\" #읽긴 읽음\n",
        "  area = math.pi* math.pow(radius,2)\n",
        "  return area\n",
        "\n",
        "radius = 1.5\n",
        "#get_area()함수 호출 결과를 area변수에 저장\n",
        "area = get_area(radius)\n",
        "print(area)  #area를 출력한다.\n",
        "print(get_area.__doc__)"
      ],
      "metadata": {
        "colab": {
          "base_uri": "https://localhost:8080/"
        },
        "id": "5uRXVZZFA3qB",
        "outputId": "74c53d45-f253-4bc2-d29d-7a8cfc4ab85f"
      },
      "execution_count": 10,
      "outputs": [
        {
          "output_type": "stream",
          "name": "stdout",
          "text": [
            "7.0685834705770345\n",
            "반지름을 입력받아 원의 넓이를 반환하는 get_area()함수\n"
          ]
        }
      ]
    },
    {
      "cell_type": "code",
      "source": [
        "#변수 variable\n",
        "\n",
        "score = 100 # score라는 이름의 변수에 100을 넣는다.\n",
        "print(score)\n",
        "\n",
        "# 변수 이름 생성 규칙\n",
        "# 1. 영문, 한글, 숫자, 밑줄로 구성된다.(한글을 변수명으로 사용하지 말자.) 학교=200 되긴 함.\n",
        "# 2. 특수문자는 사용할 수 없다. @=100 안됨\n",
        "# 3. 대문자와 소문자는 구분한다. a = 100, A = 100\n",
        "# 4. 변수명의 첫문자에는 숫자는 쓸 수 없다.\n",
        "# 5. 예약어(키워드)는 사용할 수 없다. print, if, for 같은 것들\n",
        "\n",
        "# *가급적 소문자로만 만든다. \n",
        "# *가급적 한글은 사용하지 말자.\n",
        "# *가급적 의미있는 단어를 사용하자."
      ],
      "metadata": {
        "colab": {
          "base_uri": "https://localhost:8080/"
        },
        "id": "oFBNH9CnCYYu",
        "outputId": "75ebb34a-7795-4702-cce2-2a6fee905288"
      },
      "execution_count": 14,
      "outputs": [
        {
          "output_type": "stream",
          "name": "stdout",
          "text": [
            "100\n",
            "100\n",
            "100\n"
          ]
        }
      ]
    },
    {
      "cell_type": "code",
      "source": [
        "name='Ailce'\n",
        "age=25\n",
        "address='''우편번호12345\n",
        "서울시 영등포구 여의도동\n",
        "서울빌딩 501호''' #줄바꿈을 인식함\n",
        "address2='우편번호12345 \\n서울시 영등포구 여의도동 \\n서울빌딩 501호'\n",
        "boyfriend=None\n",
        "height=168.5\n",
        "\n",
        "print(name)\n",
        "print(age)\n",
        "print(address)\n",
        "print(address2)\n",
        "print(boyfriend)\n",
        "print(height)"
      ],
      "metadata": {
        "colab": {
          "base_uri": "https://localhost:8080/"
        },
        "id": "BffP2rrSIV_6",
        "outputId": "cd1b96c6-c84c-4666-fce2-691b1cfa754f"
      },
      "execution_count": 16,
      "outputs": [
        {
          "output_type": "stream",
          "name": "stdout",
          "text": [
            "Ailce\n",
            "25\n",
            "우편번호12345\n",
            "서울시 영등포구 여의도동\n",
            "서울빌딩 501호\n",
            "우편번호12345 \n",
            "서울시 영등포구 여의도동 \n",
            "서울빌딩 501호\n",
            "None\n",
            "168.5\n"
          ]
        }
      ]
    }
  ]
}