{
  "nbformat": 4,
  "nbformat_minor": 0,
  "metadata": {
    "colab": {
      "name": "Python Basic Day4.ipynb",
      "provenance": [],
      "authorship_tag": "ABX9TyNIrCwzhUdRb4kdp0k+pGeX",
      "include_colab_link": true
    },
    "kernelspec": {
      "name": "python3",
      "display_name": "Python 3"
    },
    "language_info": {
      "name": "python"
    }
  },
  "cells": [
    {
      "cell_type": "markdown",
      "metadata": {
        "id": "view-in-github",
        "colab_type": "text"
      },
      "source": [
        "<a href=\"https://colab.research.google.com/github/sey2on/pythonbasicclass/blob/main/Python_Basic_Day4.ipynb\" target=\"_parent\"><img src=\"https://colab.research.google.com/assets/colab-badge.svg\" alt=\"Open In Colab\"/></a>"
      ]
    },
    {
      "cell_type": "code",
      "execution_count": 1,
      "metadata": {
        "colab": {
          "base_uri": "https://localhost:8080/"
        },
        "id": "-BbeXY1C6SxN",
        "outputId": "f2512101-d857-427b-ef27-36fc000dd51e"
      },
      "outputs": [
        {
          "output_type": "stream",
          "name": "stdout",
          "text": [
            "정수를 입력하세요 >>>3\n",
            "<class 'str'>\n"
          ]
        }
      ],
      "source": [
        "# input() 함수를 사용할 때 주의할 점\n",
        "# input()은 모든 입력을 str(문자열)로 저장한다는 점이다. \n",
        "# 따라서 숫자를 입력해도 문자로 받아들인다. \n",
        "\n",
        "n = input('정수를 입력하세요 >>>')\n",
        "print(type(n))"
      ]
    },
    {
      "cell_type": "code",
      "source": [
        "n = int(input('정수를 입력하세요 >>>')) # 형변환이 필요하다. casting\n",
        "print(type(n))"
      ],
      "metadata": {
        "colab": {
          "base_uri": "https://localhost:8080/"
        },
        "id": "6DUp6neA6WyF",
        "outputId": "f640dda0-5ea9-47dc-a95c-cee2a06a7b36"
      },
      "execution_count": 2,
      "outputs": [
        {
          "output_type": "stream",
          "name": "stdout",
          "text": [
            "정수를 입력하세요 >>>43\n",
            "<class 'int'>\n"
          ]
        }
      ]
    },
    {
      "cell_type": "code",
      "source": [
        "price = 50000\n",
        "n = int(input('할부 개월 입력 >>>'))\n",
        "print('매달 내는 돈은 {}입니다.'.format(price/n))"
      ],
      "metadata": {
        "colab": {
          "base_uri": "https://localhost:8080/"
        },
        "id": "uPXsjFFl6Ywr",
        "outputId": "e8878d24-c903-4a85-9e79-fe2be9ad899c"
      },
      "execution_count": 3,
      "outputs": [
        {
          "output_type": "stream",
          "name": "stdout",
          "text": [
            "할부 개월 입력 >>>2\n",
            "매달 내는 돈은 25000.0입니다.\n"
          ]
        }
      ]
    },
    {
      "cell_type": "code",
      "source": [
        "price = 50000\n",
        "n = input('할부 개월 입력 >>>')\n",
        "print('매달 내는 돈은 {}입니다.'.format(price/n))"
      ],
      "metadata": {
        "colab": {
          "base_uri": "https://localhost:8080/",
          "height": 229
        },
        "id": "IbAZkAvd6bhw",
        "outputId": "bf9206b5-cd63-4ea6-df22-3a281c54dcc8"
      },
      "execution_count": 4,
      "outputs": [
        {
          "name": "stdout",
          "output_type": "stream",
          "text": [
            "할부 개월 입력 >>>4\n"
          ]
        },
        {
          "output_type": "error",
          "ename": "TypeError",
          "evalue": "ignored",
          "traceback": [
            "\u001b[0;31m---------------------------------------------------------------------------\u001b[0m",
            "\u001b[0;31mTypeError\u001b[0m                                 Traceback (most recent call last)",
            "\u001b[0;32m<ipython-input-4-dc00b4818ebd>\u001b[0m in \u001b[0;36m<module>\u001b[0;34m()\u001b[0m\n\u001b[1;32m      1\u001b[0m \u001b[0mprice\u001b[0m \u001b[0;34m=\u001b[0m \u001b[0;36m50000\u001b[0m\u001b[0;34m\u001b[0m\u001b[0;34m\u001b[0m\u001b[0m\n\u001b[1;32m      2\u001b[0m \u001b[0mn\u001b[0m \u001b[0;34m=\u001b[0m \u001b[0minput\u001b[0m\u001b[0;34m(\u001b[0m\u001b[0;34m'할부 개월 입력 >>>'\u001b[0m\u001b[0;34m)\u001b[0m\u001b[0;34m\u001b[0m\u001b[0;34m\u001b[0m\u001b[0m\n\u001b[0;32m----> 3\u001b[0;31m \u001b[0mprint\u001b[0m\u001b[0;34m(\u001b[0m\u001b[0;34m'매달 내는 돈은 {}입니다.'\u001b[0m\u001b[0;34m.\u001b[0m\u001b[0mformat\u001b[0m\u001b[0;34m(\u001b[0m\u001b[0mprice\u001b[0m\u001b[0;34m/\u001b[0m\u001b[0mn\u001b[0m\u001b[0;34m)\u001b[0m\u001b[0;34m)\u001b[0m\u001b[0;34m\u001b[0m\u001b[0;34m\u001b[0m\u001b[0m\n\u001b[0m",
            "\u001b[0;31mTypeError\u001b[0m: unsupported operand type(s) for /: 'int' and 'str'"
          ]
        }
      ]
    },
    {
      "cell_type": "code",
      "source": [
        "# 1\n",
        "a = input('첫 번째 실수를 입력하세요 >>>')\n",
        "b = input('두 번째 실수를 입력하세요 >>>')\n",
        "\n",
        "print(f'{a}와 {b}의 합은 {a+b}입니다.')"
      ],
      "metadata": {
        "colab": {
          "base_uri": "https://localhost:8080/"
        },
        "id": "knf1U51U6fAC",
        "outputId": "a0d03f56-3dab-4f5a-b184-3b290296490f"
      },
      "execution_count": 5,
      "outputs": [
        {
          "output_type": "stream",
          "name": "stdout",
          "text": [
            "첫 번째 실수를 입력하세요 >>>2.56\n",
            "두 번째 실수를 입력하세요 >>>32.\n",
            "2.56와 32.의 합은 2.5632.입니다.\n"
          ]
        }
      ]
    },
    {
      "cell_type": "code",
      "source": [
        "a = float(input('첫 번째 실수를 입력하세요 >>>'))\n",
        "b = float(input('두 번째 실수를 입력하세요 >>>'))\n",
        "\n",
        "print(f'{a}와 {b}의 합은 {a+b}입니다.')"
      ],
      "metadata": {
        "colab": {
          "base_uri": "https://localhost:8080/"
        },
        "id": "GxKYSLD56iMI",
        "outputId": "ae4f9e56-83d2-48e6-f5b7-30337010db21"
      },
      "execution_count": 6,
      "outputs": [
        {
          "output_type": "stream",
          "name": "stdout",
          "text": [
            "첫 번째 실수를 입력하세요 >>>1.23\n",
            "두 번째 실수를 입력하세요 >>>2.56\n",
            "1.23와 2.56의 합은 3.79입니다.\n"
          ]
        }
      ]
    },
    {
      "cell_type": "code",
      "source": [
        "# 2\n",
        "\n",
        "month = [31,28,31,30,31,30,31,31,30,31,30,31]\n",
        "#        0   1  2  3  index는 0에서 시작한다.        \n",
        "a = int(input('1~12 사이의 월을 입력하세요 >>>'))\n",
        "print(f'{a}월은 {month[a-1]}일까지 있습니다.')"
      ],
      "metadata": {
        "colab": {
          "base_uri": "https://localhost:8080/"
        },
        "id": "OglSR3fk6kjl",
        "outputId": "537c90be-e40e-49e6-ffcd-bf17c0524698"
      },
      "execution_count": 7,
      "outputs": [
        {
          "output_type": "stream",
          "name": "stdout",
          "text": [
            "1~12 사이의 월을 입력하세요 >>>6\n",
            "6월은 30일까지 있습니다.\n"
          ]
        }
      ]
    },
    {
      "cell_type": "code",
      "source": [
        "# 3\n",
        "english_dict = {\n",
        "    'flower':'꽃',\n",
        "    'fly':'날다',\n",
        "    'floor':'바닥'\n",
        "}\n",
        "word = input('영어 단어를 입력하세요 >>>')\n",
        "print(f'{word} : {english_dict[word]}')"
      ],
      "metadata": {
        "colab": {
          "base_uri": "https://localhost:8080/"
        },
        "id": "PvsqwMRl6msh",
        "outputId": "0db80fb7-0b51-4ad0-80b9-22feff9fae24"
      },
      "execution_count": 8,
      "outputs": [
        {
          "output_type": "stream",
          "name": "stdout",
          "text": [
            "영어 단어를 입력하세요 >>>flower\n",
            "flower : 꽃\n"
          ]
        }
      ]
    },
    {
      "cell_type": "code",
      "source": [
        "# 복합 대입 연산자. \n",
        "a = 1\n",
        "print(a)\n",
        "\n",
        "#a=a+1  a++(이건 안씀)\n",
        "a += 1 #많이씀 자기 자신에 1을 증가\n",
        "print(a)\n",
        "a+=1\n",
        "print(a)\n",
        "a=a-1 #자기 자신에 1을 감소\n",
        "print(a)\n",
        "a-=1\n",
        "print(a)"
      ],
      "metadata": {
        "colab": {
          "base_uri": "https://localhost:8080/"
        },
        "id": "jmWowEds6zKZ",
        "outputId": "e25ae8e0-a9db-4636-b799-e0337346862a"
      },
      "execution_count": 10,
      "outputs": [
        {
          "output_type": "stream",
          "name": "stdout",
          "text": [
            "1\n",
            "2\n",
            "3\n",
            "2\n",
            "1\n"
          ]
        }
      ]
    },
    {
      "cell_type": "code",
      "source": [
        "a, b = 10, 20\n",
        "print('a = %d, b = %d' % (a,b))\n",
        "\n",
        "a, b = b, a\n",
        "print('a = %d, b = %d' % (a,b))"
      ],
      "metadata": {
        "colab": {
          "base_uri": "https://localhost:8080/"
        },
        "id": "sJT3PFZV__7t",
        "outputId": "403f59c9-af5b-4f94-d6a1-56ca5abdb61f"
      },
      "execution_count": 12,
      "outputs": [
        {
          "output_type": "stream",
          "name": "stdout",
          "text": [
            "a = 10, b = 20\n",
            "a = 20, b = 10\n"
          ]
        }
      ]
    },
    {
      "cell_type": "code",
      "source": [
        "a = 10\n",
        "b = 20\n",
        "\n",
        "t = a\n",
        "a = b\n",
        "b = t\n",
        "print('a = %d, b = %d' % (a,b))"
      ],
      "metadata": {
        "colab": {
          "base_uri": "https://localhost:8080/"
        },
        "id": "uwwaL1M6A7Y3",
        "outputId": "6482cfe6-d7d0-4065-8976-6786338f4f79"
      },
      "execution_count": 13,
      "outputs": [
        {
          "output_type": "stream",
          "name": "stdout",
          "text": [
            "a = 20, b = 10\n"
          ]
        }
      ]
    },
    {
      "cell_type": "code",
      "source": [
        "1==1"
      ],
      "metadata": {
        "colab": {
          "base_uri": "https://localhost:8080/"
        },
        "id": "mjeMY4qDBQIl",
        "outputId": "d7bd9c57-81d3-4b06-dd9d-2e7cf5186059"
      },
      "execution_count": 14,
      "outputs": [
        {
          "output_type": "execute_result",
          "data": {
            "text/plain": [
              "True"
            ]
          },
          "metadata": {},
          "execution_count": 14
        }
      ]
    },
    {
      "cell_type": "code",
      "source": [
        "1!=1"
      ],
      "metadata": {
        "colab": {
          "base_uri": "https://localhost:8080/"
        },
        "id": "kThvgGG1BRZm",
        "outputId": "e17f21fd-522c-4ccb-bc52-67f69b7adac5"
      },
      "execution_count": 15,
      "outputs": [
        {
          "output_type": "execute_result",
          "data": {
            "text/plain": [
              "False"
            ]
          },
          "metadata": {},
          "execution_count": 15
        }
      ]
    },
    {
      "cell_type": "code",
      "source": [
        "1<>1#같지 않다라는 뜻임 근데 파이썬에서는 안씀"
      ],
      "metadata": {
        "colab": {
          "base_uri": "https://localhost:8080/",
          "height": 137
        },
        "id": "ttIwGY4LBSyq",
        "outputId": "cb928148-332e-423c-9255-f929b0cb6801"
      },
      "execution_count": 16,
      "outputs": [
        {
          "output_type": "error",
          "ename": "SyntaxError",
          "evalue": "ignored",
          "traceback": [
            "\u001b[0;36m  File \u001b[0;32m\"<ipython-input-16-13ec8c4fc4db>\"\u001b[0;36m, line \u001b[0;32m1\u001b[0m\n\u001b[0;31m    1<>1\u001b[0m\n\u001b[0m      ^\u001b[0m\n\u001b[0;31mSyntaxError\u001b[0m\u001b[0;31m:\u001b[0m invalid syntax\n"
          ]
        }
      ]
    },
    {
      "cell_type": "code",
      "source": [
        "#시퀀스 연산자:순서가 있는 구조 시퀀스(리스트, 튜플, 문자열, range) 에서 사용된다.\n",
        "[1,3,5]+[2,4,6]"
      ],
      "metadata": {
        "colab": {
          "base_uri": "https://localhost:8080/"
        },
        "id": "_GUl1hSACCRR",
        "outputId": "ead5dc37-a6c1-4160-b058-91e27f80b68f"
      },
      "execution_count": 17,
      "outputs": [
        {
          "output_type": "execute_result",
          "data": {
            "text/plain": [
              "[1, 3, 5, 2, 4, 6]"
            ]
          },
          "metadata": {},
          "execution_count": 17
        }
      ]
    },
    {
      "cell_type": "code",
      "source": [
        "'hello'+' '+'python'"
      ],
      "metadata": {
        "colab": {
          "base_uri": "https://localhost:8080/",
          "height": 35
        },
        "id": "dkrD0KK8CG1f",
        "outputId": "d8756f16-9833-4340-d792-455ce4b36eef"
      },
      "execution_count": 19,
      "outputs": [
        {
          "output_type": "execute_result",
          "data": {
            "application/vnd.google.colaboratory.intrinsic+json": {
              "type": "string"
            },
            "text/plain": [
              "'hello python'"
            ]
          },
          "metadata": {},
          "execution_count": 19
        }
      ]
    },
    {
      "cell_type": "code",
      "source": [
        "[1,3,5]*2"
      ],
      "metadata": {
        "colab": {
          "base_uri": "https://localhost:8080/"
        },
        "id": "jtf9TbIgCykQ",
        "outputId": "ea9d00ea-07ea-48e0-83d9-d80019d143f6"
      },
      "execution_count": 20,
      "outputs": [
        {
          "output_type": "execute_result",
          "data": {
            "text/plain": [
              "[1, 3, 5, 1, 3, 5]"
            ]
          },
          "metadata": {},
          "execution_count": 20
        }
      ]
    },
    {
      "cell_type": "code",
      "source": [
        "'-'*50"
      ],
      "metadata": {
        "colab": {
          "base_uri": "https://localhost:8080/",
          "height": 35
        },
        "id": "YcE5zBRyC9yj",
        "outputId": "16e65006-1c23-486d-d537-935b669acca5"
      },
      "execution_count": 21,
      "outputs": [
        {
          "output_type": "execute_result",
          "data": {
            "application/vnd.google.colaboratory.intrinsic+json": {
              "type": "string"
            },
            "text/plain": [
              "'--------------------------------------------------'"
            ]
          },
          "metadata": {},
          "execution_count": 21
        }
      ]
    },
    {
      "cell_type": "code",
      "source": [
        "#멤버쉽 연산자\n",
        "5in[1,2,3,4,5]"
      ],
      "metadata": {
        "colab": {
          "base_uri": "https://localhost:8080/"
        },
        "id": "dP1X-fOdDE7H",
        "outputId": "5e84434a-59ba-4a7e-e87c-7377fca34bc9"
      },
      "execution_count": 22,
      "outputs": [
        {
          "output_type": "execute_result",
          "data": {
            "text/plain": [
              "True"
            ]
          },
          "metadata": {},
          "execution_count": 22
        }
      ]
    },
    {
      "cell_type": "code",
      "source": [
        "5 not in[1,2,3,4,5]"
      ],
      "metadata": {
        "colab": {
          "base_uri": "https://localhost:8080/"
        },
        "id": "0M8WiIdGDdSw",
        "outputId": "6076a936-eda5-4488-f015-4eac8474533d"
      },
      "execution_count": 23,
      "outputs": [
        {
          "output_type": "execute_result",
          "data": {
            "text/plain": [
              "False"
            ]
          },
          "metadata": {},
          "execution_count": 23
        }
      ]
    },
    {
      "cell_type": "code",
      "source": [
        "'a'in'apple'"
      ],
      "metadata": {
        "colab": {
          "base_uri": "https://localhost:8080/"
        },
        "id": "aUE0TUpTDfRj",
        "outputId": "f74184dd-be3c-4ba8-ae45-0668cbd438a6"
      },
      "execution_count": 24,
      "outputs": [
        {
          "output_type": "execute_result",
          "data": {
            "text/plain": [
              "True"
            ]
          },
          "metadata": {},
          "execution_count": 24
        }
      ]
    },
    {
      "cell_type": "code",
      "source": [
        "'a'in{'a':'apple','b':'banana'}"
      ],
      "metadata": {
        "colab": {
          "base_uri": "https://localhost:8080/"
        },
        "id": "fOCsoHBFDiKi",
        "outputId": "3046e09d-eb84-4493-98e6-ec54c1977b11"
      },
      "execution_count": 25,
      "outputs": [
        {
          "output_type": "execute_result",
          "data": {
            "text/plain": [
              "True"
            ]
          },
          "metadata": {},
          "execution_count": 25
        }
      ]
    },
    {
      "cell_type": "code",
      "source": [
        "#응용예제 p86\n",
        "no=input('10~99사이의 정수를 입력하세요>>>')\n",
        "\n",
        "print(f'십의자리:{no[0]}')\n",
        "print(f'일의자리:{no[1]}')"
      ],
      "metadata": {
        "colab": {
          "base_uri": "https://localhost:8080/"
        },
        "id": "WF-cn13UEAzX",
        "outputId": "ceb93244-6044-4ee4-d03c-9f50bbfb23f3"
      },
      "execution_count": 26,
      "outputs": [
        {
          "output_type": "stream",
          "name": "stdout",
          "text": [
            "10~99사이의 정수를 입력하세요>>>78\n",
            "십의자리:7\n",
            "일의자리:8\n"
          ]
        }
      ]
    },
    {
      "cell_type": "code",
      "source": [
        "#응용예제 p86\n",
        "no=int(input('10~99사이의 정수를 입력하세요>>>'))\n",
        "\n",
        "print(f'십의 자리 : {no//10}')\n",
        "print(f'일의 자리 : {no%10}')"
      ],
      "metadata": {
        "colab": {
          "base_uri": "https://localhost:8080/"
        },
        "id": "T7_4Se1_FQb9",
        "outputId": "a94691df-f360-400c-aea3-3b48cf2fd372"
      },
      "execution_count": 31,
      "outputs": [
        {
          "output_type": "stream",
          "name": "stdout",
          "text": [
            "10~99사이의 정수를 입력하세요>>>45\n",
            "십의 자리 : 4\n",
            "일의 자리 : 5\n"
          ]
        }
      ]
    },
    {
      "cell_type": "code",
      "source": [
        "#2\n",
        "\n",
        "no=int(input('초를 입력하세요>>>'))\n",
        "# cho=3690\n",
        "# hour=3690//3600\n",
        "# minute=3590%3600 // 60\n",
        "# second=cho%60\n",
        "print(f'변환 결과는 {no//3600}시간 {no%3600//60}분 {no%60}초입니다.')"
      ],
      "metadata": {
        "colab": {
          "base_uri": "https://localhost:8080/"
        },
        "id": "7L0uhg7vF3Rf",
        "outputId": "442e8d05-719f-4bcb-ef2a-28a86af9cae6"
      },
      "execution_count": 47,
      "outputs": [
        {
          "output_type": "stream",
          "name": "stdout",
          "text": [
            "초를 입력하세요>>>3690\n",
            "변환 결과는 1시간 1분 30초입니다.\n"
          ]
        }
      ]
    },
    {
      "cell_type": "code",
      "source": [
        "#3\n",
        "no=int(input('4자리 사원번호를 입력하세요>>>'))\n",
        "no_1=no%10\n",
        "if no%10>=5:\n",
        "  print('근무시간은 오전입니다.')\n",
        "else :\n",
        "  print('근무시간은 오후입니다.')"
      ],
      "metadata": {
        "colab": {
          "base_uri": "https://localhost:8080/"
        },
        "id": "GMmIeRiEL322",
        "outputId": "906a8236-69c2-4b3a-9a34-e757b77139b1"
      },
      "execution_count": 55,
      "outputs": [
        {
          "output_type": "stream",
          "name": "stdout",
          "text": [
            "4자리 사원번호를 입력하세요>>>1233\n",
            "근무시간은 오후입니다.\n"
          ]
        }
      ]
    },
    {
      "cell_type": "code",
      "source": [
        "# 조건문 IF\n",
        "# 조건문은 특정 조건을 만족하는지의 여부에 따라 실행되는 코드가 달라져야 할때 사용\n",
        "\n",
        "a= 0\n",
        "\n",
        "if a > 0:\n",
        "  print('양수')"
      ],
      "metadata": {
        "id": "nh6wf1_ONi-Q"
      },
      "execution_count": 57,
      "outputs": []
    }
  ]
}