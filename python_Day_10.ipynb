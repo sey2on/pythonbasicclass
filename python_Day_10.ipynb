{
  "nbformat": 4,
  "nbformat_minor": 0,
  "metadata": {
    "colab": {
      "name": "python Day 10.ipynb",
      "provenance": [],
      "authorship_tag": "ABX9TyNnIzzX2bl6P6LlnyOghwdI",
      "include_colab_link": true
    },
    "kernelspec": {
      "name": "python3",
      "display_name": "Python 3"
    },
    "language_info": {
      "name": "python"
    }
  },
  "cells": [
    {
      "cell_type": "markdown",
      "metadata": {
        "id": "view-in-github",
        "colab_type": "text"
      },
      "source": [
        "<a href=\"https://colab.research.google.com/github/sey2on/pythonbasicclass/blob/main/python_Day_10.ipynb\" target=\"_parent\"><img src=\"https://colab.research.google.com/assets/colab-badge.svg\" alt=\"Open In Colab\"/></a>"
      ]
    },
    {
      "cell_type": "code",
      "execution_count": 1,
      "metadata": {
        "colab": {
          "base_uri": "https://localhost:8080/"
        },
        "id": "gJJP6WJT5j1F",
        "outputId": "e8ff4951-3635-4026-9a32-ec1314fabb89"
      },
      "outputs": [
        {
          "output_type": "stream",
          "name": "stdout",
          "text": [
            "Requirement already satisfied: requests in /usr/local/lib/python3.7/dist-packages (2.23.0)\n",
            "Requirement already satisfied: idna<3,>=2.5 in /usr/local/lib/python3.7/dist-packages (from requests) (2.10)\n",
            "Requirement already satisfied: chardet<4,>=3.0.2 in /usr/local/lib/python3.7/dist-packages (from requests) (3.0.4)\n",
            "Requirement already satisfied: certifi>=2017.4.17 in /usr/local/lib/python3.7/dist-packages (from requests) (2021.10.8)\n",
            "Requirement already satisfied: urllib3!=1.25.0,!=1.25.1,<1.26,>=1.21.1 in /usr/local/lib/python3.7/dist-packages (from requests) (1.24.3)\n"
          ]
        }
      ],
      "source": [
        "!pip install requests #크롤리을 위해 인터넷 페이지 요청 모듈"
      ]
    },
    {
      "cell_type": "code",
      "source": [
        "!pip install BeautifulSoup4 #필요한 내요 추츨 모듈"
      ],
      "metadata": {
        "colab": {
          "base_uri": "https://localhost:8080/"
        },
        "id": "Cw6I1P6P6TFm",
        "outputId": "7222adf8-d832-4bd6-9a96-ae641cf58161"
      },
      "execution_count": 3,
      "outputs": [
        {
          "output_type": "stream",
          "name": "stdout",
          "text": [
            "Requirement already satisfied: BeautifulSoup4 in /usr/local/lib/python3.7/dist-packages (4.6.3)\n"
          ]
        }
      ]
    },
    {
      "cell_type": "code",
      "source": [
        "# import requests #왕창 긁어옴\n",
        "\n",
        "# url = 'http://www.naver.com'\n",
        "# response = requests.get(url)\n",
        "# print('응답코드:{}'.format(response.status_code))\n",
        "# print(response.text)\n",
        "\n",
        "# import requests\n",
        "\n",
        "# url = 'https://search.naver.com/search.naver'\n",
        "# param = {'query':'파이썬'}\n",
        "# response = requests.get(url,params=param)\n",
        "# print('응답코드:{}'.format(response.status_code))\n",
        "# print(response.text)\n",
        "\n",
        "# import requests\n",
        "# url = 'https://music.bugs.co.kr/chart' param필요 없음 검색이 아니라 그냥 가져오는 것이기 때문\n",
        "# response = requests.get(url)\n",
        "# print(response.text)\n",
        "\n",
        "#우클릭 -> 검사 누르면 진짜 코드가 주르륵 나옴\n",
        "\n",
        "import requests #왕창 긁어옴\n",
        "from bs4 import BeautifulSoup as bs\n",
        "\n",
        "url = 'https://music.bugs.co.kr/chart'\n",
        "\n",
        "response = requests.get(url)\n",
        "\n",
        "soup = bs(response.text) #추출할 수 있게 가공"
      ],
      "metadata": {
        "id": "NMz0ls_M8nRI"
      },
      "execution_count": 10,
      "outputs": []
    },
    {
      "cell_type": "code",
      "source": [
        "len(soup.select('tr')) #벅스에서 tr들어간 코드가 노래였음, tr 태그들을 전부 선택"
      ],
      "metadata": {
        "colab": {
          "base_uri": "https://localhost:8080/"
        },
        "id": "3rIURu1-CV3b",
        "outputId": "ee0e3532-5964-42e8-f5b6-f95a47e5a29d"
      },
      "execution_count": 12,
      "outputs": [
        {
          "output_type": "execute_result",
          "data": {
            "text/plain": [
              "104"
            ]
          },
          "metadata": {},
          "execution_count": 12
        }
      ]
    },
    {
      "cell_type": "code",
      "source": [
        "len(soup.select('tbody > tr'))  "
      ],
      "metadata": {
        "colab": {
          "base_uri": "https://localhost:8080/"
        },
        "id": "fNr27V6sMcUh",
        "outputId": "f8e65249-a10a-4ced-d561-2fc75544edf9"
      },
      "execution_count": 13,
      "outputs": [
        {
          "output_type": "execute_result",
          "data": {
            "text/plain": [
              "103"
            ]
          },
          "metadata": {},
          "execution_count": 13
        }
      ]
    },
    {
      "cell_type": "code",
      "source": [
        "len(soup.select('table.byChart > tbody > tr'))  "
      ],
      "metadata": {
        "colab": {
          "base_uri": "https://localhost:8080/"
        },
        "id": "TPXFrXgrMdtc",
        "outputId": "7e68aeb0-448c-4c68-83e9-cbf8a6c329fb"
      },
      "execution_count": 14,
      "outputs": [
        {
          "output_type": "execute_result",
          "data": {
            "text/plain": [
              "100"
            ]
          },
          "metadata": {},
          "execution_count": 14
        }
      ]
    },
    {
      "cell_type": "code",
      "source": [
        "songs = soup.select('table.byChart > tbody > tr')"
      ],
      "metadata": {
        "id": "FRvZJI5-MezM"
      },
      "execution_count": 15,
      "outputs": []
    },
    {
      "cell_type": "code",
      "source": [
        "song = songs[0]"
      ],
      "metadata": {
        "id": "iN1upBnfMf-O"
      },
      "execution_count": 16,
      "outputs": []
    },
    {
      "cell_type": "code",
      "source": [
        "len(song.select('a')) #a태그 링크"
      ],
      "metadata": {
        "colab": {
          "base_uri": "https://localhost:8080/"
        },
        "id": "m9Zqlk7xMhCj",
        "outputId": "ad231802-41f6-40c1-dfcb-6f9a0b2bc01e"
      },
      "execution_count": 17,
      "outputs": [
        {
          "output_type": "execute_result",
          "data": {
            "text/plain": [
              "11"
            ]
          },
          "metadata": {},
          "execution_count": 17
        }
      ]
    },
    {
      "cell_type": "code",
      "source": [
        "len(song.select('p > a'))"
      ],
      "metadata": {
        "colab": {
          "base_uri": "https://localhost:8080/"
        },
        "id": "JJKBrEXAMhex",
        "outputId": "69f51c15-43ce-4167-9a4e-4127f1e53a50"
      },
      "execution_count": 18,
      "outputs": [
        {
          "output_type": "execute_result",
          "data": {
            "text/plain": [
              "2"
            ]
          },
          "metadata": {},
          "execution_count": 18
        }
      ]
    },
    {
      "cell_type": "code",
      "source": [
        "song.select('p > a')"
      ],
      "metadata": {
        "colab": {
          "base_uri": "https://localhost:8080/"
        },
        "id": "hInMcD9MMipf",
        "outputId": "4ea3bd70-48b8-4789-85dc-eb94282c7110"
      },
      "execution_count": 19,
      "outputs": [
        {
          "output_type": "execute_result",
          "data": {
            "text/plain": [
              "[<a adultcheckval=\"1\" aria-label=\"새창\" href=\"javascript:;\" onclick=\"bugs.wiselog.area('list_tr_09_chart');bugs.music.listen('6150789',true);\n",
              " \" title=\"TOMBOY\">TOMBOY</a>,\n",
              " <a href=\"https://music.bugs.co.kr/artist/20056456?wl_ref=list_tr_10_chart\" onclick=\"\n",
              " \" title=\"(여자)아이들\">(여자)아이들</a>]"
            ]
          },
          "metadata": {},
          "execution_count": 19
        }
      ]
    },
    {
      "cell_type": "code",
      "source": [
        "title = song.select('p.title > a')\n",
        "title"
      ],
      "metadata": {
        "colab": {
          "base_uri": "https://localhost:8080/"
        },
        "id": "BYjbPaO2MkKk",
        "outputId": "1e171d0b-7220-4bf1-d991-1e384339eac9"
      },
      "execution_count": 22,
      "outputs": [
        {
          "output_type": "execute_result",
          "data": {
            "text/plain": [
              "[<a adultcheckval=\"1\" aria-label=\"새창\" href=\"javascript:;\" onclick=\"bugs.wiselog.area('list_tr_09_chart');bugs.music.listen('6150789',true);\n",
              " \" title=\"TOMBOY\">TOMBOY</a>]"
            ]
          },
          "metadata": {},
          "execution_count": 22
        }
      ]
    },
    {
      "cell_type": "code",
      "source": [
        "title = song.select('p.title > a')[0].text #위에 한 덩어리에서 0번째의 글자만 뽑아냄\n",
        "title"
      ],
      "metadata": {
        "colab": {
          "base_uri": "https://localhost:8080/",
          "height": 35
        },
        "id": "NgFYLN_pMxxy",
        "outputId": "9edf39c3-6882-4fdb-87c5-5c55aa588258"
      },
      "execution_count": 24,
      "outputs": [
        {
          "output_type": "execute_result",
          "data": {
            "text/plain": [
              "'TOMBOY'"
            ],
            "application/vnd.google.colaboratory.intrinsic+json": {
              "type": "string"
            }
          },
          "metadata": {},
          "execution_count": 24
        }
      ]
    },
    {
      "cell_type": "code",
      "source": [
        "singer = song.select('p.artist > a')[0].text\n",
        "singer"
      ],
      "metadata": {
        "colab": {
          "base_uri": "https://localhost:8080/",
          "height": 35
        },
        "id": "BIqXCmVRNVrY",
        "outputId": "eb7c14fd-dc22-4759-e96b-df1203f0d806"
      },
      "execution_count": 32,
      "outputs": [
        {
          "output_type": "execute_result",
          "data": {
            "text/plain": [
              "'(여자)아이들'"
            ],
            "application/vnd.google.colaboratory.intrinsic+json": {
              "type": "string"
            }
          },
          "metadata": {},
          "execution_count": 32
        }
      ]
    },
    {
      "cell_type": "code",
      "source": [
        "album = song.select('td.left > a')[0].text\n",
        "album"
      ],
      "metadata": {
        "colab": {
          "base_uri": "https://localhost:8080/",
          "height": 35
        },
        "id": "2Dsue8_dQ3St",
        "outputId": "6e36cb3d-6175-4d0e-a7ff-ace3220b6e2e"
      },
      "execution_count": 31,
      "outputs": [
        {
          "output_type": "execute_result",
          "data": {
            "text/plain": [
              "'I NEVER DIE'"
            ],
            "application/vnd.google.colaboratory.intrinsic+json": {
              "type": "string"
            }
          },
          "metadata": {},
          "execution_count": 31
        }
      ]
    },
    {
      "cell_type": "code",
      "source": [
        "rank = song.select('div.ranking > strong')[0].text\n",
        "rank"
      ],
      "metadata": {
        "colab": {
          "base_uri": "https://localhost:8080/",
          "height": 35
        },
        "id": "s5pxTIIVQ8Ds",
        "outputId": "758bcda7-7a4f-4ff3-ede8-a424b7564645"
      },
      "execution_count": 34,
      "outputs": [
        {
          "output_type": "execute_result",
          "data": {
            "text/plain": [
              "'1'"
            ],
            "application/vnd.google.colaboratory.intrinsic+json": {
              "type": "string"
            }
          },
          "metadata": {},
          "execution_count": 34
        }
      ]
    },
    {
      "cell_type": "code",
      "source": [
        "song_data = []\n",
        "\n",
        "songs = soup.select('table.byChart > tbody > tr')\n",
        "\n",
        "for song in songs:\n",
        "  title = song.select('p.title > a')[0].text\n",
        "  singer = song.select('p.artist > a')[0].text\n",
        "  album = song.select('td.left > a')[0].text\n",
        "  rank = song.select('div.ranking > strong')[0].text\n",
        "\n",
        "  song_data.append([rank, title, singer, album])\n",
        "\n",
        "song_data"
      ],
      "metadata": {
        "colab": {
          "base_uri": "https://localhost:8080/"
        },
        "id": "ftxxdX2MVeAg",
        "outputId": "31a89f1e-0b36-418c-c335-6a6983eae766"
      },
      "execution_count": 35,
      "outputs": [
        {
          "output_type": "execute_result",
          "data": {
            "text/plain": [
              "[['1', 'TOMBOY', '(여자)아이들', 'I NEVER DIE'],\n",
              " ['2', 'GANADARA (Feat. 아이유)', '박재범', 'GANADARA'],\n",
              " ['3', 'Thank You', '브레이브걸스(Brave Girls)', 'THANK YOU'],\n",
              " ['4', '말리지 마', '(여자)아이들', 'I NEVER DIE'],\n",
              " ['5', 'VILLAIN DIES', '(여자)아이들', 'I NEVER DIE'],\n",
              " ['6', '사랑인가 봐', '멜로망스(MeloMance)', '사랑인가 봐 (사내맞선 OST 스페셜 트랙)'],\n",
              " ['7', '우린 어떠한 별보다 빛날 거야', '이하이', '우린 어떠한 별보다 빛날 거야 (이하이 X soundtrack#1)'],\n",
              " ['8', 'BORN TO LOVE YOU', '강승윤', 'BORN TO LOVE YOU'],\n",
              " ['9', 'INVU', '태연 (TAEYEON)', 'INVU - The 3rd Album'],\n",
              " ['10', 'ESCAPE', '(여자)아이들', 'I NEVER DIE'],\n",
              " ['11', 'LIAR', '(여자)아이들', 'I NEVER DIE'],\n",
              " ['12', 'ALREADY', '(여자)아이들', 'I NEVER DIE'],\n",
              " ['13', 'MY BAG', '(여자)아이들', 'I NEVER DIE'],\n",
              " ['14', 'POLAROID', '(여자)아이들', 'I NEVER DIE'],\n",
              " ['15', '듣고 싶을까', 'MSG워너비(M.O.M)', '듣고 싶을까'],\n",
              " ['16', 'RUN2U', 'STAYC(스테이씨)', 'YOUNG-LUV.COM'],\n",
              " ['17', '존재만으로', '원슈타인', '스물다섯 스물하나 OST Part 4'],\n",
              " ['18', '우리끼리 (You and I)', '브레이브걸스(Brave Girls)', 'THANK YOU'],\n",
              " ['19', 'SMILEY (Feat. BIBI)', 'YENA (최예나)', 'ˣ‿ˣ (SMiLEY)'],\n",
              " ['20', '물거품 (Love Is Gone)', '브레이브걸스(Brave Girls)', 'THANK YOU'],\n",
              " ['21', '이렇게 둘이', '창모(CHANGMO)', '이렇게 둘이'],\n",
              " ['22', '어제처럼', '폴킴(Paul Kim)', '어제처럼'],\n",
              " ['23', 'abcdefu', 'GAYLE', 'abcdefu'],\n",
              " ['24', 'Can I Love You', '브레이브걸스(Brave Girls)', 'THANK YOU'],\n",
              " ['25', '꽃 (With 김민석 of 멜로망스)', '박봄 (Park Bom)', '꽃'],\n",
              " ['26', 'With', '김태리(Kim Tae Ri)', '스물다섯 스물하나 OST Part 7'],\n",
              " ['27', 'Thank You (remix)', '브레이브걸스(Brave Girls)', 'THANK YOU'],\n",
              " ['28', '취중고백', '김민석 (멜로망스)', '취중고백'],\n",
              " ['29', 'ELEVEN', 'IVE (아이브)', 'ELEVEN'],\n",
              " ['30', '손을 잡는다거나, 같이 걷는다거나', '적재', 'Trip:Tape #01'],\n",
              " ['31', '아주, 천천히', '비비(BIBI)', '스물다섯 스물하나 OST Part 3'],\n",
              " ['32', '사랑은 늘 도망가', '임영웅', '신사와 아가씨 OST Part.2'],\n",
              " ['33', '드라마', '아이유(IU)', '조각집'],\n",
              " ['34', 'Step Back', 'GOT the beat', 'Step Back'],\n",
              " ['35', 'Starlight', '태일 (TAEIL)', '스물다섯 스물하나 OST Part 1'],\n",
              " ['36', 'O.O', 'NMIXX', 'AD MARE'],\n",
              " ['37',\n",
              "  \"Stronger (What Doesn't Kill You)\",\n",
              "  'Kelly Clarkson(켈리 클락슨)',\n",
              "  \"Stronger (What Doesn't Kill You)\"],\n",
              " ['38', 'strawberry moon', '아이유(IU)', 'strawberry moon'],\n",
              " ['39', '신호등', '이무진', '신호등'],\n",
              " ['40', '나를 (BE MYSELF) (duet with 양다일)', '하동균', '나를 (BE MYSELF)'],\n",
              " ['41', '니가 내리는 날에', '존 박', '기상청 사람들 : 사내연애 잔혹사 편 OST Part.5'],\n",
              " ['42', 'Next Level', 'aespa', 'Next Level'],\n",
              " ['43',\n",
              "  '회전목마 (Feat. Zion.T, 원슈타인) (Prod. Slom)',\n",
              "  'sokodomo',\n",
              "  '쇼미더머니 10 Episode 2'],\n",
              " ['44', '그런 밤 (Some Nights)', '태연 (TAEYEON)', 'INVU - The 3rd Album'],\n",
              " ['45', \"Can't Control Myself\", '태연 (TAEYEON)', \"Can't Control Myself\"],\n",
              " ['46', 'STAY', 'The Kid LAROI', 'STAY'],\n",
              " ['47', '사랑인걸', '한동근', '사랑인걸'],\n",
              " ['48', 'Weekend', '태연 (TAEYEON)', 'Weekend'],\n",
              " ['49', 'Dreams Come True', 'aespa', 'Dreams Come True - SM STATION'],\n",
              " ['50', 'Light Switch', 'Charlie Puth(찰리 푸스)', 'Light Switch'],\n",
              " ['51', '언제나 사랑해', '케이시', '조영수 리메이크 프로젝트 Part.2'],\n",
              " ['52', 'Counting Stars (Feat. Beenzino)', \"BE'O (비오)\", 'Counting Stars'],\n",
              " ['53', '너머 (The Other Side)', '백예린 (Yerin Baek)', '너머 (The Other Side)'],\n",
              " ['54', '다정히 내 이름을 부르면', '경서예지', '다정히 내 이름을 부르면 (경서예지 x 전건호)'],\n",
              " ['55', '리무진 (Feat. MINO) (Prod. GRAY)', \"BE'O (비오)\", '쇼미더머니 10 Episode 3'],\n",
              " ['56', '그래서 그래 (Feat. 윤하)', '에픽하이 (EPIK HIGH)', 'Epik High Is Here 下'],\n",
              " ['57', '겨울잠', '아이유(IU)', '조각집'],\n",
              " ['58', '서랍', '10CM', '그 해 우리는 OST Part.1'],\n",
              " ['59', '우리가 헤어져야 했던 이유', '비비(BIBI)', '그 해 우리는 OST Part.2'],\n",
              " ['60', 'Savage', 'aespa', 'Savage - The 1st Mini Album'],\n",
              " ['61', '노래 (The Song)', '비투비', 'Be Together'],\n",
              " ['62', '대낮에 한 이별', '선예', '대낮에 한 이별'],\n",
              " ['63', '새벽을 믿지 말자', '개코', '새벽을 믿지 말자'],\n",
              " ['64', 'Dynamite', '방탄소년단', 'Dynamite (DayTime Version)'],\n",
              " ['65', 'Tiny Riot', 'Sam Ryder', 'The Sun’s Gonna Rise'],\n",
              " ['66', '라일락', '아이유(IU)', \"IU 5th Album 'LILAC'\"],\n",
              " ['67', 'Stardust love song', '지효 (TWICE)', '스물다섯 스물하나 OST Part 6 '],\n",
              " ['68',\n",
              "  '만남은 쉽고 이별은 어려워 (Feat. Leellamarz) (Prod. TOIL)',\n",
              "  '베이식(Basick)',\n",
              "  '쇼미더머니 10 Episode 3'],\n",
              " ['69', '어른아이 (Toddler)', '태연 (TAEYEON)', 'INVU - The 3rd Album'],\n",
              " ['70', '호랑수월가', '탑현', '호랑수월가'],\n",
              " ['71', 'Celebrity', '아이유(IU)', \"IU 5th Album 'LILAC'\"],\n",
              " ['72', 'Butter', '방탄소년단', 'Butter'],\n",
              " ['73', 'BOP BOP!', 'VIVIZ (비비지)', \"The 1st Mini Album 'Beam Of Prism'\"],\n",
              " ['74', '문득', \"BE'O (비오)\", 'Bipolar'],\n",
              " ['75', 'DM', '프로미스나인', 'Midnight Guest'],\n",
              " ['76', '스물다섯, 스물하나', '자우림(Jaurim)', 'Goodbye, grief.'],\n",
              " ['77', '비가 오는 날엔 (2021)', '헤이즈(Heize)', '비가 오는 날엔 (2021)'],\n",
              " ['78', '눈이 오잖아(Feat.헤이즈)', '이무진', '눈이 오잖아(Feat.헤이즈)'],\n",
              " ['79', 'Permission to Dance', '방탄소년단', 'Butter / Permission to Dance'],\n",
              " ['80', 'Christmas Tree', 'V', '그 해 우리는 OST Part.5'],\n",
              " ['81', '내 생에 아름다운', '이예준', '내 생에 아름다운'],\n",
              " ['82', 'My Universe', 'Coldplay(콜드플레이)', 'My Universe'],\n",
              " ['83', '헤픈 우연', '헤이즈(Heize)', 'HAPPEN'],\n",
              " ['84', '너의 모든 순간', '성시경', '별에서 온 그대 (SBS 수목드라마) OST - Part.7'],\n",
              " ['85', 'Timeless', '태연 (TAEYEON)', 'INVU - The 3rd Album'],\n",
              " ['86', 'WA DA DA', 'Kep1er (케플러)', 'FIRST IMPACT'],\n",
              " ['87',\n",
              "  '너, 너 (N번째 연애 X 휘인 (Whee In))',\n",
              "  '휘인(Whee In)',\n",
              "  '너, 너 (N번째 연애 X 휘인 (Whee In))'],\n",
              " ['88', '낙하 (with 아이유)', 'AKMU(악뮤)', 'NEXT EPISODE'],\n",
              " ['89', '너를 생각해', '주시크 (Joosiq)', '너를 생각해'],\n",
              " ['90', 'Dun Dun Dance', '오마이걸(OH MY GIRL)', 'Dear OHMYGIRL'],\n",
              " ['91', 'Go!', '도겸 (SEVENTEEN)', '스물다섯 스물하나 OST Part 5'],\n",
              " ['92', 'Bad Habits', 'Ed Sheeran(에드 시런)', '='],\n",
              " ['93', '잊을 수 있을까', '노을', '이별을 말하는'],\n",
              " ['94', 'Set Myself On Fire', '태연 (TAEYEON)', 'INVU - The 3rd Album'],\n",
              " ['95', 'Blueming', '아이유(IU)', 'Love poem'],\n",
              " ['96',\n",
              "  '모든 날, 모든 순간 (Every day, Every Moment)',\n",
              "  '폴킴(Paul Kim)',\n",
              "  \"'키스 먼저 할까요?' OST Part.3\"],\n",
              " ['97', '너 아니면 안돼', '먼데이 키즈(Monday Kiz)', '너 아니면 안돼'],\n",
              " ['98', '여름비', '샘김(Sam Kim)', '그 해 우리는 OST Part.8'],\n",
              " ['99', '바라만 본다', 'MSG워너비(M.O.M)', 'MSG워너비 1집'],\n",
              " ['100', 'The Weekend', '88rising', 'The Weekend']]"
            ]
          },
          "metadata": {},
          "execution_count": 35
        }
      ]
    },
    {
      "cell_type": "code",
      "source": [
        "import pandas as pd\n",
        "\n",
        "df = pd.DataFrame(song_data, columns = ['순위', '타이틀','가수','앨범'])\n",
        "df.to_excel('bugs.xlsx', index=False)"
      ],
      "metadata": {
        "id": "WnSbrTaeVgkF"
      },
      "execution_count": 36,
      "outputs": []
    },
    {
      "cell_type": "code",
      "source": [
        "import requests\n",
        "from bs4 import BeautifulSoup as bs\n",
        "\n",
        "url = 'https://www.genie.co.kr/chart/top200'\n",
        "\n",
        "response = requests.get(url)\n",
        "\n",
        "soup = bs(response.text)\n",
        "soup"
      ],
      "metadata": {
        "colab": {
          "base_uri": "https://localhost:8080/"
        },
        "id": "KtZAtnOJXUWa",
        "outputId": "59acf910-ec36-406e-f2e3-bda017b840b7"
      },
      "execution_count": 37,
      "outputs": [
        {
          "output_type": "execute_result",
          "data": {
            "text/plain": [
              "<html><body><br/>\n",
              "<br/>\n",
              "<center>\n",
              "<img src=\"http://www.geniemusic.co.kr/images/common/logo_r1.png\"/><br/>\n",
              "<h2> <meta content=\"text/html;charset=utf-8\" http-equiv=\"Content-Type\"/> ì ììì²­ì´ ë³´ìì ì±\n",
              "ì ìí´ ì°¨ë¨ëììµëë¤. ë¹ì¬ ê³ ê°ì¼í°ë¡ ë¬¸ìí´ì£¼ì­ìì¤.<br/><br/>\n",
              "The security policy of the connection request is blocked. Contact your customer service representative.<br/><br/>\n",
              "ì§ëë®¤ì§ ê³ ê°ì¼í° 1577-5337<br/><br/>\n",
              "</h2>\n",
              "</center>\n",
              "<br/></body></html>"
            ]
          },
          "metadata": {},
          "execution_count": 37
        }
      ]
    },
    {
      "cell_type": "code",
      "source": [
        "songs[0]"
      ],
      "metadata": {
        "colab": {
          "base_uri": "https://localhost:8080/"
        },
        "id": "_9sxpRdeMlL2",
        "outputId": "2d8ae45a-993f-4f63-93f5-2e4896d51c7f"
      },
      "execution_count": 21,
      "outputs": [
        {
          "output_type": "execute_result",
          "data": {
            "text/plain": [
              "<tr albumid=\"4072414\" artistid=\"20056456\" multiartist=\"N\" mvid=\"606847\" rowtype=\"track\" trackid=\"6150789\">\n",
              "<input name=\"_isStream\" type=\"hidden\" value=\"6150789\"/>\n",
              "<input name=\"_isDown\" type=\"hidden\" value=\"6150789\"/>\n",
              "<td class=\"check\"><input buyminquality=\"T\" disc_id=\"1\" name=\"check\" title=\"TOMBOY\" type=\"checkbox\" value=\"6150789\"/></td>\n",
              "<td>\n",
              "<div class=\"ranking\">\n",
              "<strong>1</strong>\n",
              "<p class=\"change hot\"><em>HOT</em></p>\n",
              "</div>\n",
              "</td>\n",
              "<td>\n",
              "<a class=\"thumbnail\" href=\"https://music.bugs.co.kr/album/4072414?wl_ref=list_tr_07_chart\" onclick=\"\n",
              "\">\n",
              "<span class=\"mask\"></span>\n",
              "<img alt=\"I NEVER DIE 대표이미지\" onerror=\"bugs.utils.imgError(this);\" src=\"https://image.bugsm.co.kr/album/images/50/40724/4072414.jpg?version=20220314180012.0\"/>\n",
              "</a>\n",
              "</td>\n",
              "<td>\n",
              "<a class=\"trackInfo\" href=\"https://music.bugs.co.kr/track/6150789?wl_ref=list_tr_08_chart\" onclick=\"\n",
              "\">곡정보</a>\n",
              "</td>\n",
              "<th scope=\"row\">\n",
              "<p adult_yn=\"N\" class=\"title\">\n",
              "<a adultcheckval=\"1\" aria-label=\"새창\" href=\"javascript:;\" onclick=\"bugs.wiselog.area('list_tr_09_chart');bugs.music.listen('6150789',true);\n",
              "\" title=\"TOMBOY\">TOMBOY</a>\n",
              "</p>\n",
              "</th>\n",
              "<td class=\"left\">\n",
              "<p class=\"artist\">\n",
              "<a href=\"https://music.bugs.co.kr/artist/20056456?wl_ref=list_tr_10_chart\" onclick=\"\n",
              "\" title=\"(여자)아이들\">(여자)아이들</a>\n",
              "</p>\n",
              "</td>\n",
              "<td class=\"left\">\n",
              "<a class=\"album\" href=\"https://music.bugs.co.kr/album/4072414?wl_ref=list_tr_11_chart\" onclick=\"\n",
              "\" title=\"I NEVER DIE\">I NEVER DIE</a>\n",
              "</td>\n",
              "<td>\n",
              "<a adultcheckval=\"1\" aria-label=\"새창\" class=\"btn play\" href=\"javascript:;\" onclick=\"bugs.wiselog.area('list_tr_12_chart');bugs.music.listen('6150789',true);\n",
              "\">듣기</a>\n",
              "</td>\n",
              "<td>\n",
              "<a adultcheckval=\"1\" aria-label=\"새창\" class=\"btn addPlaylist\" href=\"javascript:;\" onclick=\"bugs.wiselog.area('list_tr_13_chart');bugs.music.listen('6150789');\n",
              "\">재생목록에 추가</a>\n",
              "</td>\n",
              "<td>\n",
              "<a class=\"btn addAlbum\" href=\"javascript:;\" onclick=\"bugs.wiselog.area('list_tr_14_chart');bugs.music.addTrackToMyAlbum(this,'6150789');\n",
              "\" track_title=\"TOMBOY\">내 앨범에 담기</a>\n",
              "</td>\n",
              "<td>\n",
              "<a adultcheckval=\"1\" aria-label=\"새창\" class=\"btn download flac\" href=\"javascript:;\" onclick=\"bugs.wiselog.area('list_tr_15_chart');bugs.layermenu.down(this,'6150789','true','true','44.1','true','96', null );\n",
              "\"><em class=\"flac\">flac </em>다운로드</a>\n",
              "</td>\n",
              "<td>\n",
              "<a aria-label=\"새창\" class=\"btn viewMV\" href=\"javascript:;\" onclick=\"bugs.wiselog.area('list_tr_16_chart');\n",
              "bugs.layermenu.mv(this,6150789, 606847, 'Y', 'Y', 'Y', 'Y', 6150789, 'N','OVER_15', 'Y');\n",
              "\">영상 재생</a>\n",
              "</td>\n",
              "<td>\n",
              "<a artist_disp_nm=\"(여자)아이들\" artist_id=\"20056456\" class=\"btnActions\" href=\"javascript:;\" layer_type=\"CHART\" layerpositiontarget=\"td\" onclick=\"bugs.wiselog.area('list_tr_17_chart');\n",
              "bugs.layermenu.trackMoreAction(this,'6150789','0','4072414','bugs.music.listenRadioFromSeed(\\'6150789\\',\\'track\\');','N', 'Y', '_chart');\n",
              "\" track_title=\"TOMBOY\">기타 기능</a>\n",
              "</td>\n",
              "</tr>"
            ]
          },
          "metadata": {},
          "execution_count": 21
        }
      ]
    },
    {
      "cell_type": "code",
      "source": [
        "singer = "
      ],
      "metadata": {
        "id": "zO1y4WB4NJBF"
      },
      "execution_count": null,
      "outputs": []
    }
  ]
}