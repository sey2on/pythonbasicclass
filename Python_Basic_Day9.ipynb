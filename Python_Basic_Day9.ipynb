{
  "nbformat": 4,
  "nbformat_minor": 0,
  "metadata": {
    "colab": {
      "name": "Python Basic Day9.ipynb",
      "provenance": [],
      "authorship_tag": "ABX9TyM/JNVCYCbku6T6S4PeyFP2",
      "include_colab_link": true
    },
    "kernelspec": {
      "name": "python3",
      "display_name": "Python 3"
    },
    "language_info": {
      "name": "python"
    }
  },
  "cells": [
    {
      "cell_type": "markdown",
      "metadata": {
        "id": "view-in-github",
        "colab_type": "text"
      },
      "source": [
        "<a href=\"https://colab.research.google.com/github/sey2on/pythonbasicclass/blob/main/Python_Basic_Day9.ipynb\" target=\"_parent\"><img src=\"https://colab.research.google.com/assets/colab-badge.svg\" alt=\"Open In Colab\"/></a>"
      ]
    },
    {
      "cell_type": "code",
      "execution_count": null,
      "metadata": {
        "id": "0Q-6BBisJHaE"
      },
      "outputs": [],
      "source": [
        "# 클래스  class  객체 object\n",
        "# c언어에는 클래스가 없다 <- 클래스가 필수는 아니다. "
      ]
    },
    {
      "cell_type": "code",
      "source": [
        ""
      ],
      "metadata": {
        "id": "OiZ1YWijJOWd"
      },
      "execution_count": null,
      "outputs": []
    },
    {
      "cell_type": "code",
      "source": [
        ""
      ],
      "metadata": {
        "id": "AAUHFsdzJOYz"
      },
      "execution_count": null,
      "outputs": []
    },
    {
      "cell_type": "code",
      "source": [
        "result1 = 0\n",
        "\n",
        "def add1(num):\n",
        "  global result1  # 전역변수\n",
        "  result1 += num\n",
        "  return result1\n",
        "\n",
        "result2 = 0\n",
        "\n",
        "def add2(num):\n",
        "  global result2  # 전역변수\n",
        "  result2 += num\n",
        "  return result2\n",
        "\n",
        "\n",
        "print(add1(3))\n",
        "print(add1(4))\n",
        "\n",
        "print(add2(2))\n",
        "print(add2(5))"
      ],
      "metadata": {
        "colab": {
          "base_uri": "https://localhost:8080/"
        },
        "id": "StYNODNcJOqB",
        "outputId": "43f130c4-368a-4792-eeeb-6662e1ae55c7"
      },
      "execution_count": 14,
      "outputs": [
        {
          "output_type": "stream",
          "name": "stdout",
          "text": [
            "3\n",
            "7\n",
            "2\n",
            "7\n"
          ]
        }
      ]
    },
    {
      "cell_type": "code",
      "source": [
        "print(add1(3))\n",
        "print(add2(5))"
      ],
      "metadata": {
        "colab": {
          "base_uri": "https://localhost:8080/"
        },
        "id": "F46Liu4dK1fI",
        "outputId": "7ca7f4cd-d901-43b0-a6f9-f34e832f680a"
      },
      "execution_count": 15,
      "outputs": [
        {
          "output_type": "stream",
          "name": "stdout",
          "text": [
            "10\n",
            "12\n"
          ]
        }
      ]
    },
    {
      "cell_type": "code",
      "source": [
        "class Calculator: # 위 방식대로가 아니라 객체만 호출하면 됨 붕어빵 틀임\n",
        "  def __init__(self): #__init__ 생성자는 객체를 생성할 때 자동으로 호출\n",
        "    self.result=0\n",
        "  def add(self, num): #self 는 호출한 그 객체를 말한다.\n",
        "     self.result += num\n",
        "     return self.result #self 는 호출한 그 객체를 말한다.\n",
        "\n",
        "\n",
        "cal1 = Calculator()\n",
        "cal2 = Calculator()"
      ],
      "metadata": {
        "id": "pJK9F0g_K5Pi"
      },
      "execution_count": 17,
      "outputs": []
    },
    {
      "cell_type": "code",
      "source": [
        "cal1.add(2)#cal1객체 생성. Calculator 라는 class에서 찍어냄"
      ],
      "metadata": {
        "colab": {
          "base_uri": "https://localhost:8080/"
        },
        "id": "iWNwAGJXLOl6",
        "outputId": "f4a383fc-0d68-4bf9-e5a6-e1353c4b7f68"
      },
      "execution_count": 24,
      "outputs": [
        {
          "output_type": "execute_result",
          "data": {
            "text/plain": [
              "10"
            ]
          },
          "metadata": {},
          "execution_count": 24
        }
      ]
    },
    {
      "cell_type": "code",
      "source": [
        "cal2.add(2)"
      ],
      "metadata": {
        "colab": {
          "base_uri": "https://localhost:8080/"
        },
        "id": "wAhZRukULqaN",
        "outputId": "29445299-8f26-4741-8cf1-e0089550f473"
      },
      "execution_count": 26,
      "outputs": [
        {
          "output_type": "execute_result",
          "data": {
            "text/plain": [
              "8"
            ]
          },
          "metadata": {},
          "execution_count": 26
        }
      ]
    },
    {
      "cell_type": "code",
      "source": [
        "class FourCal__1: #빈껍데기 클래스\n",
        "  pass #비워두고 싶을 때"
      ],
      "metadata": {
        "id": "qwk96jQONsKY"
      },
      "execution_count": null,
      "outputs": []
    },
    {
      "cell_type": "code",
      "source": [
        "a=FourCal__!() #빈껍데기 객체 동작은 없음"
      ],
      "metadata": {
        "id": "9XnhHWWgNvCX"
      },
      "execution_count": null,
      "outputs": []
    },
    {
      "cell_type": "code",
      "source": [
        "class FourCal:\n",
        "  def setdata(self, first, second): #setdata라는 메소드 self = a(객체의 이름), first = 4, second = 2\n",
        "\n",
        "    self.first = first #a.first=4\n",
        "    self.second = second #a.second=2"
      ],
      "metadata": {
        "id": "Y94szUZfN1mG"
      },
      "execution_count": 27,
      "outputs": []
    },
    {
      "cell_type": "code",
      "source": [
        "a=FourCal()\n",
        "b=FourCal()"
      ],
      "metadata": {
        "id": "_c54Bu5bOP9s"
      },
      "execution_count": 34,
      "outputs": []
    },
    {
      "cell_type": "code",
      "source": [
        "a.setdata(4,2) #메소드 호출 에엥 인수는 3개인데 2개?? -> self = a(객체의 이름), first = 4, second = 2\n",
        "b.setdata(3,5)"
      ],
      "metadata": {
        "id": "gZ0qTtY-OR1W"
      },
      "execution_count": 36,
      "outputs": []
    },
    {
      "cell_type": "code",
      "source": [
        "print(a.first)\n",
        "print(a.second)\n",
        "print(b.first)\n",
        "print(b.second)"
      ],
      "metadata": {
        "colab": {
          "base_uri": "https://localhost:8080/"
        },
        "id": "iEf47VrzO069",
        "outputId": "dd9b26ef-d786-49be-bd10-11d0bfd44dac"
      },
      "execution_count": 37,
      "outputs": [
        {
          "output_type": "stream",
          "name": "stdout",
          "text": [
            "4\n",
            "2\n",
            "3\n",
            "5\n"
          ]
        }
      ]
    },
    {
      "cell_type": "code",
      "source": [
        "class FourCal:\n",
        "  def setdata(self, first, second):  # self = a(객체의이름), first = 4, second = 2\n",
        "    self.first = first   # a.first = 4\n",
        "    self.second = second # a.second = 2\n",
        "\n",
        "  def add(self):\n",
        "    result = self.first + self.second\n",
        "    return result\n"
      ],
      "metadata": {
        "id": "VQCfxj0fPhLg"
      },
      "execution_count": 38,
      "outputs": []
    },
    {
      "cell_type": "code",
      "source": [
        "a = FourCal()\n",
        "a.setdata(4,2)\n",
        "print(a.first)\n",
        "print(a.second)"
      ],
      "metadata": {
        "colab": {
          "base_uri": "https://localhost:8080/"
        },
        "id": "kBLXRF7-RNtt",
        "outputId": "80d1f214-2bc0-4ac6-f37f-748266fb3c65"
      },
      "execution_count": 39,
      "outputs": [
        {
          "output_type": "stream",
          "name": "stdout",
          "text": [
            "4\n",
            "2\n"
          ]
        }
      ]
    },
    {
      "cell_type": "code",
      "source": [
        "print(a.add())"
      ],
      "metadata": {
        "colab": {
          "base_uri": "https://localhost:8080/"
        },
        "id": "SqKmbNQpRPHL",
        "outputId": "f2a12087-15b9-434e-893d-088a2266baf9"
      },
      "execution_count": 40,
      "outputs": [
        {
          "output_type": "stream",
          "name": "stdout",
          "text": [
            "6\n"
          ]
        }
      ]
    },
    {
      "cell_type": "code",
      "source": [
        "b = FourCal()\n",
        "b.setdata(3,5)\n",
        "print(b.first)\n",
        "print(b.second)\n",
        "print(b.add())"
      ],
      "metadata": {
        "colab": {
          "base_uri": "https://localhost:8080/"
        },
        "id": "gOfFcOXARQGS",
        "outputId": "7020fdca-dfd4-4999-dabc-b270312a755d"
      },
      "execution_count": 41,
      "outputs": [
        {
          "output_type": "stream",
          "name": "stdout",
          "text": [
            "3\n",
            "5\n",
            "8\n"
          ]
        }
      ]
    },
    {
      "cell_type": "code",
      "source": [
        ""
      ],
      "metadata": {
        "id": "ZKKpi694RVeB"
      },
      "execution_count": null,
      "outputs": []
    },
    {
      "cell_type": "code",
      "source": [
        ""
      ],
      "metadata": {
        "id": "L8nbNSHRRVhK"
      },
      "execution_count": null,
      "outputs": []
    },
    {
      "cell_type": "code",
      "source": [
        "class FourCal: #4칙연산\n",
        "  def setdata(self, first, second):  # self = a(객체의이름), first = 4, second = 2\n",
        "    self.first = first   # a.first = 4\n",
        "    self.second = second # a.second = 2\n",
        "\n",
        "  def add(self):\n",
        "    result = self.first + self.second\n",
        "    return result\n",
        "\n",
        "  def mul(self):\n",
        "    result = self.first - self.second\n",
        "    return result\n",
        "\n",
        "  def sub(self):\n",
        "    result = self.first * self.second\n",
        "    return result\n",
        "\n",
        "  def div(self):\n",
        "    result = self.first / self.second\n",
        "    return result\n"
      ],
      "metadata": {
        "id": "EBJBAcZtRVj7"
      },
      "execution_count": 42,
      "outputs": []
    },
    {
      "cell_type": "code",
      "source": [
        "c  = FourCal()\n",
        "c.setdata(1,2)\n",
        "print(c.add())\n",
        "print(c.mul())\n",
        "print(c.sub())"
      ],
      "metadata": {
        "colab": {
          "base_uri": "https://localhost:8080/"
        },
        "id": "CZmTGdCfSP2J",
        "outputId": "31985724-2316-411e-fcf5-f7e74551ce5d"
      },
      "execution_count": 43,
      "outputs": [
        {
          "output_type": "stream",
          "name": "stdout",
          "text": [
            "3\n",
            "-1\n",
            "2\n"
          ]
        }
      ]
    },
    {
      "cell_type": "code",
      "source": [
        "class FourCal:\n",
        "  def __init__(self, first, second): #생성자\n",
        "    self.first = first\n",
        "    self.second = second\n",
        "    \n",
        "  def setdata(self, first, second):  # self = a(객체의이름), first = 4, second = 2\n",
        "    self.first = first   # a.first = 4\n",
        "    self.second = second # a.second = 2\n",
        "\n",
        "  def add(self):\n",
        "    result = self.first + self.second\n",
        "    return result\n",
        "\n",
        "  def mul(self):\n",
        "    result = self.first * self.second\n",
        "    return result\n",
        "\n",
        "  def sub(self):\n",
        "    result = self.first - self.second\n",
        "    return result\n",
        "\n",
        "  def div(self):\n",
        "    result = self.first / self.second\n",
        "    return result\n"
      ],
      "metadata": {
        "id": "PTY_FefAYoDm"
      },
      "execution_count": 45,
      "outputs": []
    },
    {
      "cell_type": "code",
      "source": [
        " # 생성자     __init__"
      ],
      "metadata": {
        "id": "Z7L3JP5bTOym"
      },
      "execution_count": null,
      "outputs": []
    },
    {
      "cell_type": "code",
      "source": [
        "d = FourCal(1,2)\n",
        "print(d.add())\n",
        "print(d.mul())\n",
        "print(d.div())"
      ],
      "metadata": {
        "colab": {
          "base_uri": "https://localhost:8080/"
        },
        "id": "fVEisCL_YmLT",
        "outputId": "31728876-f662-4c7c-bbb1-b9fbf5b2f27a"
      },
      "execution_count": 48,
      "outputs": [
        {
          "output_type": "stream",
          "name": "stdout",
          "text": [
            "3\n",
            "2\n",
            "0.5\n"
          ]
        }
      ]
    },
    {
      "cell_type": "code",
      "source": [
        "#상속 inheritance\n",
        "#어떤 클래스를 만들때 다른 클래스의 기능을 물려받을 수 있는 기능\n",
        "#보통 상속은 기존 클래스를 변경하지 않고 기능을 추가하거나\n",
        "#기존 기능을 변경하려고 할때 사용된다."
      ],
      "metadata": {
        "id": "68fs1AzuZBIo"
      },
      "execution_count": null,
      "outputs": []
    },
    {
      "cell_type": "code",
      "source": [
        "class MoreFourCal(FourCal):\n",
        "  def pow(self):\n",
        "    result = self.first ** self.second\n",
        "    return result\n",
        "\n",
        "e = MoreFourCal(3,2)\n"
      ],
      "metadata": {
        "id": "iyqE-XQpZRM8"
      },
      "execution_count": 53,
      "outputs": []
    },
    {
      "cell_type": "code",
      "source": [
        "print(e.add())\n",
        "print(e.pow())"
      ],
      "metadata": {
        "colab": {
          "base_uri": "https://localhost:8080/"
        },
        "id": "TD8BPNpObXuH",
        "outputId": "edbf07c5-4f19-442d-b43b-f65d080570f9"
      },
      "execution_count": 51,
      "outputs": [
        {
          "output_type": "stream",
          "name": "stdout",
          "text": [
            "5\n",
            "9\n"
          ]
        }
      ]
    },
    {
      "cell_type": "code",
      "source": [
        "# 매서드 오버라이딩 mathod overriding\n",
        "\n",
        "a=FourCal(4,0)\n",
        "a.div() #0으로 나누면 에러가 발생하는 오류가 있어서 상속을 받을 때 if문으로 0으로 나눌 수 있게 해결\n",
        "#0으로 나누면 에러가 발생=> ZeroKivisionError"
      ],
      "metadata": {
        "colab": {
          "base_uri": "https://localhost:8080/",
          "height": 339
        },
        "id": "3zjXxyrsbYpE",
        "outputId": "5d3149bc-069f-4b3e-8c77-7320ac8620d5"
      },
      "execution_count": 54,
      "outputs": [
        {
          "output_type": "error",
          "ename": "ZeroDivisionError",
          "evalue": "ignored",
          "traceback": [
            "\u001b[0;31m---------------------------------------------------------------------------\u001b[0m",
            "\u001b[0;31mZeroDivisionError\u001b[0m                         Traceback (most recent call last)",
            "\u001b[0;32m<ipython-input-54-8e9ef9353e24>\u001b[0m in \u001b[0;36m<module>\u001b[0;34m()\u001b[0m\n\u001b[1;32m      2\u001b[0m \u001b[0;34m\u001b[0m\u001b[0m\n\u001b[1;32m      3\u001b[0m \u001b[0ma\u001b[0m\u001b[0;34m=\u001b[0m\u001b[0mFourCal\u001b[0m\u001b[0;34m(\u001b[0m\u001b[0;36m4\u001b[0m\u001b[0;34m,\u001b[0m\u001b[0;36m0\u001b[0m\u001b[0;34m)\u001b[0m\u001b[0;34m\u001b[0m\u001b[0;34m\u001b[0m\u001b[0m\n\u001b[0;32m----> 4\u001b[0;31m \u001b[0ma\u001b[0m\u001b[0;34m.\u001b[0m\u001b[0mdiv\u001b[0m\u001b[0;34m(\u001b[0m\u001b[0;34m)\u001b[0m\u001b[0;34m\u001b[0m\u001b[0;34m\u001b[0m\u001b[0m\n\u001b[0m\u001b[1;32m      5\u001b[0m \u001b[0;31m#0으로 나누면 에러가 발생=> ZeroKivisionError\u001b[0m\u001b[0;34m\u001b[0m\u001b[0;34m\u001b[0m\u001b[0;34m\u001b[0m\u001b[0m\n",
            "\u001b[0;32m<ipython-input-45-283139467f63>\u001b[0m in \u001b[0;36mdiv\u001b[0;34m(self)\u001b[0m\n\u001b[1;32m     21\u001b[0m \u001b[0;34m\u001b[0m\u001b[0m\n\u001b[1;32m     22\u001b[0m   \u001b[0;32mdef\u001b[0m \u001b[0mdiv\u001b[0m\u001b[0;34m(\u001b[0m\u001b[0mself\u001b[0m\u001b[0;34m)\u001b[0m\u001b[0;34m:\u001b[0m\u001b[0;34m\u001b[0m\u001b[0;34m\u001b[0m\u001b[0m\n\u001b[0;32m---> 23\u001b[0;31m     \u001b[0mresult\u001b[0m \u001b[0;34m=\u001b[0m \u001b[0mself\u001b[0m\u001b[0;34m.\u001b[0m\u001b[0mfirst\u001b[0m \u001b[0;34m/\u001b[0m \u001b[0mself\u001b[0m\u001b[0;34m.\u001b[0m\u001b[0msecond\u001b[0m\u001b[0;34m\u001b[0m\u001b[0;34m\u001b[0m\u001b[0m\n\u001b[0m\u001b[1;32m     24\u001b[0m     \u001b[0;32mreturn\u001b[0m \u001b[0mresult\u001b[0m\u001b[0;34m\u001b[0m\u001b[0;34m\u001b[0m\u001b[0m\n",
            "\u001b[0;31mZeroDivisionError\u001b[0m: division by zero"
          ]
        }
      ]
    },
    {
      "cell_type": "code",
      "source": [
        "class SafeFourCal(FourCal):\n",
        "  def div(self): #자식의 div로 호출->매서드 오버라이딩. 부모의 기능에 덮어씀\n",
        "    if self.second == 0: #만약 0으로 나누라고 하면 0을 리턴\n",
        "      return 0\n",
        "    else:\n",
        "      return self.first / self.second\n",
        "\n",
        "f=SafeFourCal(4,0)\n",
        "f.div()"
      ],
      "metadata": {
        "colab": {
          "base_uri": "https://localhost:8080/"
        },
        "id": "gz1hFIm6b_Lc",
        "outputId": "e41532a6-ae80-4fa8-aa1b-5310412a1cdd"
      },
      "execution_count": 56,
      "outputs": [
        {
          "output_type": "execute_result",
          "data": {
            "text/plain": [
              "0"
            ]
          },
          "metadata": {},
          "execution_count": 56
        }
      ]
    },
    {
      "cell_type": "code",
      "source": [
        "#클래스 변수 (객체변수가 더 중요함)\n",
        "\n",
        "#객체변수는 다른 객체들에 영향을 받지 않고 독립적으로 그 값을 유지한다는 것이 중요하다.\n",
        "#클래스 변수는 객체 생성 없이도 사용할 수 있다. 객체를 안찍고 사용 가능\n",
        "#실무에서는 클래스 변수보다는 객체 변수를 사용하는 비율이 훠어어어얼씬 높다.\n",
        "\n",
        "class Family :\n",
        "  lastname=\"김\" #클래스 변수 선언 \n",
        "#클래스로 접근 가능\n",
        "Family.lastname"
      ],
      "metadata": {
        "colab": {
          "base_uri": "https://localhost:8080/",
          "height": 35
        },
        "id": "4nkf62kTdLid",
        "outputId": "54b23a0f-8be6-4151-834d-84af47129c78"
      },
      "execution_count": 57,
      "outputs": [
        {
          "output_type": "execute_result",
          "data": {
            "application/vnd.google.colaboratory.intrinsic+json": {
              "type": "string"
            },
            "text/plain": [
              "'김'"
            ]
          },
          "metadata": {},
          "execution_count": 57
        }
      ]
    },
    {
      "cell_type": "code",
      "source": [
        "a=Family()\n",
        "b=Family()\n",
        "#객체로 접근 가능\n",
        "print(a.lastname)\n",
        "print(b.lastname)"
      ],
      "metadata": {
        "colab": {
          "base_uri": "https://localhost:8080/"
        },
        "id": "XPl52GtLeTCr",
        "outputId": "3a27ff0f-bc73-44f4-b7f3-c04965b1c9b2"
      },
      "execution_count": 58,
      "outputs": [
        {
          "output_type": "stream",
          "name": "stdout",
          "text": [
            "김\n",
            "김\n"
          ]
        }
      ]
    },
    {
      "cell_type": "code",
      "source": [
        "Family.lastname=\"박\""
      ],
      "metadata": {
        "id": "fd9Qw2rdeqd_"
      },
      "execution_count": 59,
      "outputs": []
    },
    {
      "cell_type": "code",
      "source": [
        "print(a.lastname)\n",
        "print(b.lastname)#전부 공유해서 결과가 박, 박 으로 나옴"
      ],
      "metadata": {
        "colab": {
          "base_uri": "https://localhost:8080/"
        },
        "id": "2nxs9RjBet6m",
        "outputId": "6616e268-edef-43aa-8615-accea1a135f7"
      },
      "execution_count": 60,
      "outputs": [
        {
          "output_type": "stream",
          "name": "stdout",
          "text": [
            "박\n",
            "박\n"
          ]
        }
      ]
    },
    {
      "cell_type": "code",
      "source": [
        "class Book:\n",
        "  def print_info(self):\n",
        "    print(f'책 제목: {self.bookn}')\n",
        "    print(f'책 저자: {self.booka}')\n",
        "  def set_info(self, bookn, booka):\n",
        "    self.bookn = bookn\n",
        "    self.booka = booka\n",
        "\n",
        "book1 = Book()\n",
        "book2 = Book()\n",
        "\n",
        "book1.set_info('파이썬','민경태')\n",
        "book2.set_info('어린왕자','생택쥐배리')\n",
        "\n",
        "book1.print_info()\n",
        "book2.print_info()"
      ],
      "metadata": {
        "colab": {
          "base_uri": "https://localhost:8080/"
        },
        "id": "8tO_UgFomVPN",
        "outputId": "b87a1a9b-c2a1-4243-c903-82b3a131c31b"
      },
      "execution_count": 61,
      "outputs": [
        {
          "output_type": "stream",
          "name": "stdout",
          "text": [
            "책 제목: 파이썬\n",
            "책 저자: 민경태\n",
            "책 제목: 어린왕자\n",
            "책 저자: 생택쥐배리\n"
          ]
        }
      ]
    },
    {
      "cell_type": "code",
      "source": [
        "# 예외 처리 Exception \n",
        "\n",
        "a = int(input('제수를 입력하세요'))\n",
        "b = int(input('피제수를 입력하세요'))\n",
        "\n",
        "if b==0:\n",
        "  print('0으로 나누는 것은 불가능합니다.')#에러나기 전에 불가능하다고 메세지 줌\n",
        "else: \n",
        "  print(a/b) # 위 if문을 쓰지 않고 0입력하면 에러남 그래서 예외처리를 해줘야 좋음\n"
      ],
      "metadata": {
        "colab": {
          "base_uri": "https://localhost:8080/"
        },
        "id": "fYKndhODmWf9",
        "outputId": "b0698aaa-3d0f-4ef5-f837-3adff988c134"
      },
      "execution_count": 64,
      "outputs": [
        {
          "output_type": "stream",
          "name": "stdout",
          "text": [
            "제수를 입력하세요2\n",
            "피제수를 입력하세요0\n",
            "0으로 나누는 것은 불가능합니다.\n"
          ]
        }
      ]
    },
    {
      "cell_type": "code",
      "source": [
        ""
      ],
      "metadata": {
        "id": "kX4dmBqesdx2"
      },
      "execution_count": null,
      "outputs": []
    },
    {
      "cell_type": "code",
      "source": [
        "try:\n",
        "  a=int(input('제수를 입력하세요'))\n",
        "  b=int(input('피제수를 입력하세요'))\n",
        "  print(a/b)\n",
        "except ZeroDivisionError:\n",
        "  print('0으로 나누는 것은 불가능합니다.')\n",
        "except ValueError:#에러명을 적어주면 해당 에러에 대해 출력되는 문구가 다름\n",
        "  print('정수만 입력할수 있습니다.')\n",
        "except Exception:#뭔 에러인지 모를 때\n",
        "  print('알수 없는 예외가 발생했습니다.')"
      ],
      "metadata": {
        "colab": {
          "base_uri": "https://localhost:8080/"
        },
        "id": "PEb4pdLTnnwj",
        "outputId": "a192a79d-7fdf-4aea-fe90-f8cdc9661513"
      },
      "execution_count": 69,
      "outputs": [
        {
          "output_type": "stream",
          "name": "stdout",
          "text": [
            "제수를 입력하세요2\n",
            "피제수를 입력하세요0\n",
            "0으로 나누는 것은 불가능합니다.\n"
          ]
        }
      ]
    },
    {
      "cell_type": "code",
      "source": [
        "a = [10,20,30,40,50]\n",
        "try:\n",
        "  a[10]\n",
        "except IndexError:\n",
        "  print(\"에러발생\")"
      ],
      "metadata": {
        "colab": {
          "base_uri": "https://localhost:8080/"
        },
        "id": "gbYLtTCMsbjG",
        "outputId": "eaaa740f-269f-45ba-91f6-a87831267094"
      },
      "execution_count": 65,
      "outputs": [
        {
          "output_type": "stream",
          "name": "stdout",
          "text": [
            "에러발생\n"
          ]
        }
      ]
    },
    {
      "cell_type": "code",
      "source": [
        "a = [10,20,30,40,50]\n",
        "try:\n",
        "  a[10]\n",
        "except IndexError as e:\n",
        "  print(e)"
      ],
      "metadata": {
        "colab": {
          "base_uri": "https://localhost:8080/"
        },
        "id": "hGB3fYAcseep",
        "outputId": "f59fef66-049c-4c15-d542-91b0266e5e61"
      },
      "execution_count": 66,
      "outputs": [
        {
          "output_type": "stream",
          "name": "stdout",
          "text": [
            "list index out of range\n"
          ]
        }
      ]
    },
    {
      "cell_type": "code",
      "source": [
        "try:\n",
        "  a = int(input('제수를 입력하세요'))\n",
        "  b = int(input('피제수를 입력하세요'))\n",
        "  result = a / b\n",
        "except ZeroDivisionError:\n",
        "  print('0으로 나누는 것은 불가능합니다.')\n",
        "except ValueError:\n",
        "  print('정수만 입력할수 있습니다.')\n",
        "except Exception:\n",
        "  print('알수 없는 예외가 발생했습니다.')\n",
        "else:  # 예외가 발생하지 않았을 경우 접근\n",
        "  print(result)\n",
        "finally: # 예외 발생 여부와는 상관없이 항상 마지막에 접근\n",
        "  print('프로그램을 종료합니다.')"
      ],
      "metadata": {
        "colab": {
          "base_uri": "https://localhost:8080/"
        },
        "id": "IkBY5w1wsibv",
        "outputId": "c4f9188c-95d1-4c22-bc5d-c2d877098368"
      },
      "execution_count": 67,
      "outputs": [
        {
          "output_type": "stream",
          "name": "stdout",
          "text": [
            "제수를 입력하세요2\n",
            "피제수를 입력하세요0\n",
            "0으로 나누는 것은 불가능합니다.\n",
            "프로그램을 종료합니다.\n"
          ]
        }
      ]
    },
    {
      "cell_type": "code",
      "source": [
        "\n",
        "# 강제 예외 발생\n",
        "\n",
        "try:\n",
        "  raise Exception('강제 예외 발생')\n",
        "except Exception as e:\n",
        "  print('발생 한 예외 메세지')\n",
        "  print(e)"
      ],
      "metadata": {
        "colab": {
          "base_uri": "https://localhost:8080/"
        },
        "id": "P3njGpwgslGu",
        "outputId": "376e789f-6bdb-4bc0-94d4-208761c49e33"
      },
      "execution_count": 68,
      "outputs": [
        {
          "output_type": "stream",
          "name": "stdout",
          "text": [
            "발생 한 예외 메세지\n",
            "강제 예외 발생\n"
          ]
        }
      ]
    },
    {
      "cell_type": "code",
      "source": [
        "# page 306 \n",
        "# 2\n",
        "\n",
        "import random\n",
        "\n",
        "class UpDown():\n",
        "  def __init__(self):#아하 이게 객체구나\n",
        "    self.answer=random.randint(1,100)#1에서 100까지 랜덤으로 생성\n",
        "    self.count=0 #몇번만에 맞췄는지 알기 위해 count 생성자\n",
        "\n",
        "  def play(self):\n",
        "    while True:\n",
        "      try:\n",
        "        no = self.challenge()  #no로 chllenge 호출 입력받은걸 받음\n",
        "      except Exception as e:\n",
        "        print(e)\n",
        "      else:\n",
        "        if self.answer < no:\n",
        "          print('Down!')\n",
        "        elif self.answer > no:\n",
        "          print('Up!')\n",
        "        else:\n",
        "          print(f'{self.count}번만의 정답니다.')\n",
        "          break\n",
        "\n",
        "  def challenge(self): #play가 challenge를 호출하고, challenge로 입력 받음\n",
        "    self.count +=1 #몇번 시도했는지 알기 위해 여기에 +1을 넣음\n",
        "    no=int(input('입력(1~100)>>>'))\n",
        "    if no<1 or no>100: #1~100가 아니면 에러메세지 출력\n",
        "      raise Exception('1~100사이만 입력하세요')\n",
        "    return no #에러 없으면 입력받은걸 처리\n",
        "\n",
        "\n",
        "\n",
        "game = UpDown()\n",
        "game.play()#play 메소드가 필요"
      ],
      "metadata": {
        "colab": {
          "base_uri": "https://localhost:8080/"
        },
        "id": "Y-Fgte33smUr",
        "outputId": "f890d9ee-987d-46f5-8a19-cd64350ff4ea"
      },
      "execution_count": 78,
      "outputs": [
        {
          "output_type": "stream",
          "name": "stdout",
          "text": [
            "입력(1~100)>>>50\n",
            "Down!\n",
            "입력(1~100)>>>25\n",
            "Up!\n",
            "입력(1~100)>>>38\n",
            "Up!\n",
            "입력(1~100)>>>43\n",
            "Up!\n",
            "입력(1~100)>>>48\n",
            "Down!\n",
            "입력(1~100)>>>46\n",
            "Down!\n",
            "입력(1~100)>>>45\n",
            "Down!\n",
            "입력(1~100)>>>44\n",
            "8만의 정답니다.\n"
          ]
        }
      ]
    }
  ]
}