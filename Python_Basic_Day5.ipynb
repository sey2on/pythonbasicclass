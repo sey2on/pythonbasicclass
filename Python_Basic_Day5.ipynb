{
  "nbformat": 4,
  "nbformat_minor": 0,
  "metadata": {
    "colab": {
      "name": "Python Basic Day5.ipynb",
      "provenance": [],
      "authorship_tag": "ABX9TyP6sbzOmSASUDQhHQWjdKvx",
      "include_colab_link": true
    },
    "kernelspec": {
      "name": "python3",
      "display_name": "Python 3"
    },
    "language_info": {
      "name": "python"
    }
  },
  "cells": [
    {
      "cell_type": "markdown",
      "metadata": {
        "id": "view-in-github",
        "colab_type": "text"
      },
      "source": [
        "<a href=\"https://colab.research.google.com/github/sey2on/pythonbasicclass/blob/main/Python_Basic_Day5.ipynb\" target=\"_parent\"><img src=\"https://colab.research.google.com/assets/colab-badge.svg\" alt=\"Open In Colab\"/></a>"
      ]
    },
    {
      "cell_type": "code",
      "execution_count": null,
      "metadata": {
        "id": "1StzG5oDDqXd"
      },
      "outputs": [],
      "source": [
        "#조건문 if\n",
        "# 조건문은 특정 조건을 만족하는지 여부에 따라 실행되는 코드가 달라진다. \n",
        "a=-1\n",
        "if a>0:\n",
        "  print('양수')"
      ]
    },
    {
      "cell_type": "code",
      "source": [
        "a=1\n",
        "if a>=0:\n",
        "  print('양수')\n",
        "else:\n",
        "    print('음수')"
      ],
      "metadata": {
        "colab": {
          "base_uri": "https://localhost:8080/"
        },
        "id": "-vEHf-5iDxvl",
        "outputId": "c1a1d74a-8d92-49c9-a00a-a1fe51b4bb8d"
      },
      "execution_count": null,
      "outputs": [
        {
          "output_type": "stream",
          "name": "stdout",
          "text": [
            "양수\n"
          ]
        }
      ]
    },
    {
      "cell_type": "code",
      "source": [
        "a = 1\n",
        "if a > 0:\n",
        "  print('양수')\n",
        "elif a == 0:\n",
        "  print('0')\n",
        "else:\n",
        "  print('음수')"
      ],
      "metadata": {
        "colab": {
          "base_uri": "https://localhost:8080/"
        },
        "id": "Re1fOokeKttJ",
        "outputId": "a5c34b23-6ff2-4d41-8c4e-4e1bc1ac20b0"
      },
      "execution_count": null,
      "outputs": [
        {
          "output_type": "stream",
          "name": "stdout",
          "text": [
            "양수\n"
          ]
        }
      ]
    },
    {
      "cell_type": "code",
      "source": [
        "# page 99\n",
        "#1\n",
        "\n",
        "score = int(input('점수를 입력하세요 >>> '))\n",
        "\n",
        "if score >= 90:\n",
        "  print(f'점수는 {score}점이고, 학점은 A학점입니다.')\n",
        "elif score >= 80:\n",
        "  print(f'점수는 {score}점이고, 학점은 B학점입니다.')\n",
        "elif score >= 70:\n",
        "  print(f'점수는 {score}점이고, 학점은 C학점입니다.')\n",
        "elif score >= 60:\n",
        "  print(f'점수는 {score}점이고, 학점은 D학점입니다.')\n",
        "else:\n",
        "  print(f'점수는 {score}점이고, 학점은 F학점입니다.')\n"
      ],
      "metadata": {
        "colab": {
          "base_uri": "https://localhost:8080/"
        },
        "id": "hQb6DD-5Kww5",
        "outputId": "76b0137b-47fc-4787-815d-90c8bc4d7e42"
      },
      "execution_count": null,
      "outputs": [
        {
          "output_type": "stream",
          "name": "stdout",
          "text": [
            "점수를 입력하세요 >>> 46\n",
            "점수는 46점이고, 학점은 F학점입니다.\n"
          ]
        }
      ]
    },
    {
      "cell_type": "code",
      "source": [
        "score = int(input('점수를 입력하세요 >>> '))\n",
        "\n",
        "if score >= 90:\n",
        "  hak = 'A'\n",
        "elif score >= 80:\n",
        "  hak = 'B'\n",
        "elif score >= 70:\n",
        "  hak = 'C'\n",
        "elif score >= 60:\n",
        "  hak = 'D'\n",
        "else:\n",
        "  hak = 'F'\n",
        "\n",
        "print(f'점수는 {score}점이고, 학점은 {hak}학점입니다.')"
      ],
      "metadata": {
        "colab": {
          "base_uri": "https://localhost:8080/"
        },
        "id": "GtgqG0T5QImo",
        "outputId": "8f4912e4-92e4-4efa-9fcc-189395d89ff3"
      },
      "execution_count": null,
      "outputs": [
        {
          "output_type": "stream",
          "name": "stdout",
          "text": [
            "점수를 입력하세요 >>> 78\n",
            "점수는 78점이고, 학점은 C학점입니다.\n"
          ]
        }
      ]
    },
    {
      "cell_type": "code",
      "source": [
        "#2\n",
        "num = int(input('점수를 입력하세요 >>> '))\n",
        "if num%3==0:\n",
        "  print(f'{num}은 3의 배수입니다.')\n",
        "else:\n",
        "  print(f'{num}은 3의 배수가 아닙니다.')"
      ],
      "metadata": {
        "colab": {
          "base_uri": "https://localhost:8080/"
        },
        "id": "0bzSeL8tK4nJ",
        "outputId": "e37df101-02b4-4a10-e557-d1d32eb52dc0"
      },
      "execution_count": null,
      "outputs": [
        {
          "output_type": "stream",
          "name": "stdout",
          "text": [
            "점수를 입력하세요 >>> 12\n",
            "12은 3의 배수입니다.\n"
          ]
        }
      ]
    },
    {
      "cell_type": "code",
      "source": [
        "# 3\n",
        "no1 = int(input('정수 1입력 >>> '))\n",
        "no2 = int(input('정수 2입력 >>> '))\n",
        "no3 = int(input('정수 3입력 >>> '))\n",
        "\n",
        "if no1 > no2 and no1 > no3:\n",
        "  print(f'가장 큰수는 {no1}입니다.')\n",
        "elif no2 > no1 and no2 > no3:\n",
        "  print(f'가장 큰수는 {no2}입니다.')\n",
        "else:\n",
        "  print(f'가장 큰수는 {no3}입니다.')"
      ],
      "metadata": {
        "colab": {
          "base_uri": "https://localhost:8080/"
        },
        "id": "M7as_unjS8gA",
        "outputId": "9add9eeb-7833-4572-deb1-e796597250c5"
      },
      "execution_count": null,
      "outputs": [
        {
          "output_type": "stream",
          "name": "stdout",
          "text": [
            "정수 1입력 >>> 2\n",
            "정수 2입력 >>> 5\n",
            "정수 3입력 >>> 6\n",
            "가장 큰수는 6입니다.\n"
          ]
        }
      ]
    },
    {
      "cell_type": "code",
      "source": [
        "no1 = int(input('정수 1입력 >>> '))\n",
        "no2 = int(input('정수 2입력 >>> '))\n",
        "no3 = int(input('정수 3입력 >>> '))\n",
        "\n",
        "if no1 > no2 and no1 > no3:\n",
        "  max = no1\n",
        "elif no2 > no1 and no2 > no3:\n",
        "  max = no2\n",
        "else:\n",
        "  max = no3\n",
        "\n",
        "print(f'가장 큰수는 {max}입니다.')\n"
      ],
      "metadata": {
        "colab": {
          "base_uri": "https://localhost:8080/"
        },
        "id": "HvA0CZctTF7X",
        "outputId": "0f6d8218-6386-4f17-d7b1-32708383979a"
      },
      "execution_count": null,
      "outputs": [
        {
          "output_type": "stream",
          "name": "stdout",
          "text": [
            "정수 1입력 >>> 5\n",
            "정수 2입력 >>> 4\n",
            "정수 3입력 >>> 9\n",
            "가장 큰수는 9입니다.\n"
          ]
        }
      ]
    },
    {
      "cell_type": "code",
      "source": [
        "#4\n",
        "no = input('차량번호를 입력하세요 >>> ')\n",
        "\n",
        "if int(no[-1])% 2 == 0:\n",
        "  print(f\"차량번호 '{no}'는 오늘 운행가능입니다.\")\n",
        "else:\n",
        "  print(f\"차량번호 '{no}'는 오늘 운행불가입니다.\")"
      ],
      "metadata": {
        "colab": {
          "base_uri": "https://localhost:8080/"
        },
        "id": "Pu6uz0JNTPSX",
        "outputId": "eba283bc-41aa-4bd4-b423-521be59ef146"
      },
      "execution_count": null,
      "outputs": [
        {
          "output_type": "stream",
          "name": "stdout",
          "text": [
            "차량번호를 입력하세요 >>> 651가1239\n",
            "차량번호 '651가1239'는 오늘 운행불가입니다.\n"
          ]
        }
      ]
    },
    {
      "cell_type": "code",
      "source": [
        "# 반복문\n",
        "# while 반복획수가 불명확할때 주로 사용\n",
        "# for   반복횟수가 명확할때 주로 사용 \n",
        "\n",
        "        # while 조건식:\n",
        "        #   반복실행문\n",
        "\n",
        "# while True:  #무한반복\n",
        "#   print('Hello Python')"
      ],
      "metadata": {
        "id": "dCfT5O-mVllb"
      },
      "execution_count": null,
      "outputs": []
    },
    {
      "cell_type": "code",
      "source": [
        "n = 1 \n",
        "\n",
        "while n <= 10:\n",
        "  print(n)\n",
        "  n += 1"
      ],
      "metadata": {
        "colab": {
          "base_uri": "https://localhost:8080/"
        },
        "id": "0Y2WUl7jXLXX",
        "outputId": "82f10263-a376-4f16-b12c-2045cd02cf16"
      },
      "execution_count": 28,
      "outputs": [
        {
          "output_type": "stream",
          "name": "stdout",
          "text": [
            "1\n",
            "2\n",
            "3\n",
            "4\n",
            "5\n",
            "6\n",
            "7\n",
            "8\n",
            "9\n",
            "10\n"
          ]
        }
      ]
    },
    {
      "cell_type": "code",
      "source": [
        "n = 10\n",
        "\n",
        "while n >= 1:\n",
        "  print(n)\n",
        "  n -= 1"
      ],
      "metadata": {
        "colab": {
          "base_uri": "https://localhost:8080/"
        },
        "id": "dxdoQlgHXOAF",
        "outputId": "252e5ba2-7269-4742-d358-7d739ddc6c81"
      },
      "execution_count": 29,
      "outputs": [
        {
          "output_type": "stream",
          "name": "stdout",
          "text": [
            "10\n",
            "9\n",
            "8\n",
            "7\n",
            "6\n",
            "5\n",
            "4\n",
            "3\n",
            "2\n",
            "1\n"
          ]
        }
      ]
    },
    {
      "cell_type": "code",
      "source": [
        "day = 1\n",
        "while day <= 5:\n",
        "  hour = 1\n",
        "  while hour <= 3:\n",
        "    print(f'{day}일차 {hour}입니다.')\n",
        "    hour += 1\n",
        "  day +=1"
      ],
      "metadata": {
        "colab": {
          "base_uri": "https://localhost:8080/"
        },
        "id": "lAUbGO95ZkLv",
        "outputId": "48209e1a-ef46-4ba3-b18b-956c5d964d32"
      },
      "execution_count": 30,
      "outputs": [
        {
          "output_type": "stream",
          "name": "stdout",
          "text": [
            "1일차 1입니다.\n",
            "1일차 2입니다.\n",
            "1일차 3입니다.\n",
            "2일차 1입니다.\n",
            "2일차 2입니다.\n",
            "2일차 3입니다.\n",
            "3일차 1입니다.\n",
            "3일차 2입니다.\n",
            "3일차 3입니다.\n",
            "4일차 1입니다.\n",
            "4일차 2입니다.\n",
            "4일차 3입니다.\n",
            "5일차 1입니다.\n",
            "5일차 2입니다.\n",
            "5일차 3입니다.\n"
          ]
        }
      ]
    },
    {
      "cell_type": "code",
      "source": [
        "no = int(input('정수를 입력하세요 >>>'))\n",
        "\n",
        "if no <= 0:\n",
        "  print('잘못된 입력입니다.')\n",
        "else:\n",
        "  while no > 0:\n",
        "    print(f'{no}번째 Hello')\n",
        "    no -= 1"
      ],
      "metadata": {
        "colab": {
          "base_uri": "https://localhost:8080/"
        },
        "id": "jAxs6DVEZk7g",
        "outputId": "15eac5f5-aace-4a2f-e905-b287a95a9c28"
      },
      "execution_count": 35,
      "outputs": [
        {
          "output_type": "stream",
          "name": "stdout",
          "text": [
            "정수를 입력하세요 >>>5\n",
            "5번째 Hello\n",
            "4번째 Hello\n",
            "3번째 Hello\n",
            "2번째 Hello\n",
            "1번째 Hello\n"
          ]
        }
      ]
    },
    {
      "cell_type": "code",
      "source": [
        "#위의 출력에서 결과를 거꾸로 출력하려면\n",
        "no = int(input('정수를 입력하세요 >>>'))\n",
        "\n",
        "if no <= 0:\n",
        "  print('잘못된 입력입니다.')\n",
        "else:\n",
        "  n = 0\n",
        "  while no > n:\n",
        "    print(f'{n+1}번째 Hello')\n",
        "    n += 1"
      ],
      "metadata": {
        "colab": {
          "base_uri": "https://localhost:8080/"
        },
        "id": "XiYMNEGYZ_oZ",
        "outputId": "d4200fa3-8b0a-48ec-d97d-10caf24493e6"
      },
      "execution_count": 37,
      "outputs": [
        {
          "output_type": "stream",
          "name": "stdout",
          "text": [
            "정수를 입력하세요 >>>5\n",
            "1번째 Hello\n",
            "2번째 Hello\n",
            "3번째 Hello\n",
            "4번째 Hello\n",
            "5번째 Hello\n"
          ]
        }
      ]
    },
    {
      "cell_type": "code",
      "source": [
        ""
      ],
      "metadata": {
        "id": "5SqlV3L1aHAm"
      },
      "execution_count": null,
      "outputs": []
    }
  ]
}