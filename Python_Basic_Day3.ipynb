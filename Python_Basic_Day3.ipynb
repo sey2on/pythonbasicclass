{
  "nbformat": 4,
  "nbformat_minor": 0,
  "metadata": {
    "colab": {
      "name": "Python Basic Day3.ipynb",
      "provenance": [],
      "authorship_tag": "ABX9TyPSlsxIyRtx08znEl/TOW34",
      "include_colab_link": true
    },
    "kernelspec": {
      "name": "python3",
      "display_name": "Python 3"
    },
    "language_info": {
      "name": "python"
    }
  },
  "cells": [
    {
      "cell_type": "markdown",
      "metadata": {
        "id": "view-in-github",
        "colab_type": "text"
      },
      "source": [
        "<a href=\"https://colab.research.google.com/github/sey2on/pythonbasicclass/blob/main/Python_Basic_Day3.ipynb\" target=\"_parent\"><img src=\"https://colab.research.google.com/assets/colab-badge.svg\" alt=\"Open In Colab\"/></a>"
      ]
    },
    {
      "cell_type": "code",
      "execution_count": null,
      "metadata": {
        "colab": {
          "base_uri": "https://localhost:8080/"
        },
        "id": "5pGb3zXfVtTE",
        "outputId": "7bc4515b-2e47-4e57-accd-84866257417f"
      },
      "outputs": [
        {
          "output_type": "stream",
          "name": "stdout",
          "text": [
            "3 학년 10 반 25 번\n",
            "3학년 10반 25번\n"
          ]
        }
      ],
      "source": [
        "no='31025'\n",
        "a=no[0]#indexing\n",
        "b=no[1:3]#slicing\n",
        "c=no[3:]#slicing\n",
        "print(a,'학년', b,'반', c,'번')\n",
        "print(f'{a}학년 {b}반 {c}번')#f스트링"
      ]
    },
    {
      "cell_type": "code",
      "source": [
        "no = '서울2가1234'  # 10가1234 , 288가1234\n",
        "no4 = no[-4:]\n",
        "print(no,'의 차량번호 4자리는', no4, '입니다.')\n",
        "print(f'{no} 의 차량번호 4자리는 {no4} 입니다.')"
      ],
      "metadata": {
        "id": "DkTZ05yIYyMG",
        "colab": {
          "base_uri": "https://localhost:8080/"
        },
        "outputId": "717fa136-c784-4f29-e9e4-85b39ca9dbe5"
      },
      "execution_count": 7,
      "outputs": [
        {
          "output_type": "stream",
          "name": "stdout",
          "text": [
            "서울2가1234 의 차량번호 4자리는 1234 입니다.\n",
            "서울2가1234 의 차량번호 4자리는 1234 입니다.\n"
          ]
        }
      ]
    },
    {
      "cell_type": "code",
      "source": [
        "# 3 \n",
        "s = 'maple'  #가운데 p출력\n",
        "center = s[len(s) // 2] # // 나머지를 버리고 몫만 취한다 \n",
        "                     #  % 몫은 버리고 나머지만 취한다 (홀/짝/배)\n",
        "print(s,'의 가운데 글자는',center,'입니다')\n",
        "print(f'{s}의 가운데 글자는 {center}입니다.')\n"
      ],
      "metadata": {
        "id": "ud7plb_Pbcjs",
        "colab": {
          "base_uri": "https://localhost:8080/"
        },
        "outputId": "b2538b8b-f7d4-43ff-a591-70f9c61b5250"
      },
      "execution_count": 6,
      "outputs": [
        {
          "output_type": "stream",
          "name": "stdout",
          "text": [
            "maple 의 가운데 글자는 p 입니다\n",
            "maple의 가운데 글자는 p입니다.\n"
          ]
        }
      ]
    },
    {
      "cell_type": "code",
      "source": [
        "#4\n",
        "li=[10,20,30,40,50,60,70,80,90.100]\n",
        "print('3번째 요소부터 7번째 요소 =',li[2:7])\n",
        "print('3번째 요소부터 7번째 요소 중 2번째 요소',li[2:7][1])"
      ],
      "metadata": {
        "colab": {
          "base_uri": "https://localhost:8080/"
        },
        "id": "bVhZefKFf3O1",
        "outputId": "ced9115c-ffb4-4c97-81b8-fb8bd764c705"
      },
      "execution_count": 12,
      "outputs": [
        {
          "output_type": "stream",
          "name": "stdout",
          "text": [
            "3번째 요소부터 7번째 요소 = [30, 40, 50, 60, 70]\n",
            "3번째 요소부터 7번째 요소 중 2번째 요소 40\n"
          ]
        }
      ]
    },
    {
      "cell_type": "code",
      "source": [
        "#5\n",
        "dict={'금요일':'탕수육',\n",
        "      '토요일':'유산슬',\n",
        "      '일요일':'팔보채'}\n",
        "print('금요일:',dict['금요일'])"
      ],
      "metadata": {
        "colab": {
          "base_uri": "https://localhost:8080/"
        },
        "id": "yAl7WOJMg1_D",
        "outputId": "d2895763-7c67-4a18-f744-aa210af5f0eb"
      },
      "execution_count": 16,
      "outputs": [
        {
          "output_type": "stream",
          "name": "stdout",
          "text": [
            "금요일: 탕수육\n"
          ]
        }
      ]
    },
    {
      "cell_type": "code",
      "source": [
        "# \\  따옴표의 기능을 무력화시키고 글자로 표현\n",
        "# \\n 줄바꿈  line feed\n",
        "# \\t 탭      tab\n",
        "\n",
        "print('Hello \\'World\\'')\n",
        "print(\"Hello 'World'\")\n",
        "\n",
        "print(\"Hello \\\"World\\\"\")\n",
        "print('Hello \"World\"')\n",
        "\n",
        "print('*\\n**\\n***')\n",
        "\n",
        "print('Hello\\nWorld')\n",
        "\n",
        "print('이름\\t연락처')\n",
        "print('제시카\\t01-123-4567')\n",
        "print('마틴\\t010-6789-7890')"
      ],
      "metadata": {
        "colab": {
          "base_uri": "https://localhost:8080/"
        },
        "id": "Gr7p82R9kWsh",
        "outputId": "45a9d04e-a0b5-4e11-9a75-dd4711f12e7e"
      },
      "execution_count": 18,
      "outputs": [
        {
          "output_type": "stream",
          "name": "stdout",
          "text": [
            "Hello 'World'\n",
            "Hello 'World'\n",
            "Hello \"World\"\n",
            "Hello \"World\"\n",
            "*\n",
            "**\n",
            "***\n",
            "Hello\n",
            "World\n",
            "이름\t연락처\n",
            "제시카\t01-123-4567\n",
            "마틴\t010-6789-7890\n"
          ]
        }
      ]
    },
    {
      "cell_type": "code",
      "source": [
        "# print() 함수\n",
        "\n",
        "print('재미있는','파이썬')\n",
        "print('재미있는','파이썬', sep=',') # 구분자\n",
        "print('재미있는','파이썬', sep='/')\n",
        "print('재미있는','파이썬', sep=':')"
      ],
      "metadata": {
        "colab": {
          "base_uri": "https://localhost:8080/"
        },
        "id": "HGlaKqlemU3t",
        "outputId": "6dde7e20-afab-404c-e228-b0251de0a7d8"
      },
      "execution_count": 19,
      "outputs": [
        {
          "output_type": "stream",
          "name": "stdout",
          "text": [
            "재미있는 파이썬\n",
            "재미있는,파이썬\n",
            "재미있는/파이썬\n",
            "재미있는:파이썬\n"
          ]
        }
      ]
    },
    {
      "cell_type": "code",
      "source": [
        "print('영화 타이타닉')\n",
        "print('평점', end=' ')\n",
        "print('5점')"
      ],
      "metadata": {
        "colab": {
          "base_uri": "https://localhost:8080/"
        },
        "id": "-ReURoCEmVwR",
        "outputId": "2663cb99-75c6-415c-9706-466d18e4c3b8"
      },
      "execution_count": 20,
      "outputs": [
        {
          "output_type": "stream",
          "name": "stdout",
          "text": [
            "영화 타이타닉\n",
            "평점 5점\n"
          ]
        }
      ]
    },
    {
      "cell_type": "code",
      "source": [
        "# % 연산자  (비추)\n",
        "\n",
        "print('%d' % 11)   # %d 정수 10진수 자리표시자 decimal\n",
        "print('%o' % 10)   # %o 정수 8진수 자리표시자 octal\n",
        "print('%x' % 10)   # %x 정수 16진수 자리표시자 hexa\n",
        "print('%f' % 3.14)\n",
        "\n",
        "print('%s' % 'python')\n",
        "print('%s' % 3.14)"
      ],
      "metadata": {
        "colab": {
          "base_uri": "https://localhost:8080/"
        },
        "id": "SHBPexr3sd4d",
        "outputId": "29dd5626-cbb0-41df-e2c4-fc88f8d90d91"
      },
      "execution_count": 21,
      "outputs": [
        {
          "output_type": "stream",
          "name": "stdout",
          "text": [
            "11\n",
            "12\n",
            "a\n",
            "3.140000\n",
            "python\n",
            "3.14\n"
          ]
        }
      ]
    },
    {
      "cell_type": "code",
      "source": [
        "print('%d' % 1)\n",
        "print('%5d' % 1) #다섯칸을 확보하고 오른쪽에 출력\n",
        "print('%5d' % 11) #다섯칸을 확보하고 오른쪽부터 출력"
      ],
      "metadata": {
        "colab": {
          "base_uri": "https://localhost:8080/"
        },
        "id": "Sg_thACWu-hM",
        "outputId": "2b0f2ae5-e855-408f-bcdb-a7c590018ed5"
      },
      "execution_count": 22,
      "outputs": [
        {
          "output_type": "stream",
          "name": "stdout",
          "text": [
            "1\n",
            "    1\n",
            "   11\n"
          ]
        }
      ]
    },
    {
      "cell_type": "code",
      "source": [
        "print('%-5d' % 1) #다섯칸을 확보하고 왼쪽에 출력\n",
        "print('%-5d' % 11) #다섯칸을 확보하고 왼쪽쪽부터 출력"
      ],
      "metadata": {
        "colab": {
          "base_uri": "https://localhost:8080/"
        },
        "id": "JG4N4F2RvAGv",
        "outputId": "c45f91df-d924-45dd-8ff4-22955f633667"
      },
      "execution_count": 23,
      "outputs": [
        {
          "output_type": "stream",
          "name": "stdout",
          "text": [
            "1    \n",
            "11   \n"
          ]
        }
      ]
    },
    {
      "cell_type": "code",
      "source": [
        "print('%5.2f' % 3.14) #다섯칸을 확보하고 소수 2자리까지 오른쪽에 실수출력\n",
        "print('%5.1f' % 3.14) #다섯칸을 확보하고 소수 1자리까지 오른쪽에 실수출력"
      ],
      "metadata": {
        "colab": {
          "base_uri": "https://localhost:8080/"
        },
        "id": "vD_ZfMVRvCDM",
        "outputId": "2b8b0856-e462-4ded-ca52-2e72c40509ca"
      },
      "execution_count": 24,
      "outputs": [
        {
          "output_type": "stream",
          "name": "stdout",
          "text": [
            " 3.14\n",
            "  3.1\n"
          ]
        }
      ]
    },
    {
      "cell_type": "code",
      "source": [
        "print('%-5.2f' % 3.14) #다섯칸을 확보하고 소수 2자리까지 왼쪽에 실수출력\n",
        "print('%-5.1f' % 3.14) #다섯칸을 확보하고 소수 1자리까지 왼쪽에 실수출력"
      ],
      "metadata": {
        "colab": {
          "base_uri": "https://localhost:8080/"
        },
        "id": "jE6bENYrvJml",
        "outputId": "a3f34917-390a-4d37-f3ed-678491394708"
      },
      "execution_count": 25,
      "outputs": [
        {
          "output_type": "stream",
          "name": "stdout",
          "text": [
            "3.14 \n",
            "3.1  \n"
          ]
        }
      ]
    },
    {
      "cell_type": "code",
      "source": [
        "print('%.2f' % 3.14) #소수 2자리까지 실수출력\n",
        "print('%.1f' % 3.14) #소수 1자리까지 실수출력"
      ],
      "metadata": {
        "colab": {
          "base_uri": "https://localhost:8080/"
        },
        "id": "YIlvkBROvK06",
        "outputId": "2f638e80-8521-4d21-fbf0-39440401a955"
      },
      "execution_count": 26,
      "outputs": [
        {
          "output_type": "stream",
          "name": "stdout",
          "text": [
            "3.14\n",
            "3.1\n"
          ]
        }
      ]
    },
    {
      "cell_type": "code",
      "source": [
        "print('%s' % 3.14) #소수 1자리까지 실수출력"
      ],
      "metadata": {
        "colab": {
          "base_uri": "https://localhost:8080/"
        },
        "id": "omhhmvLEvL9Y",
        "outputId": "9f82da5d-13af-4ab6-9f61-dc72dbb44598"
      },
      "execution_count": 27,
      "outputs": [
        {
          "output_type": "stream",
          "name": "stdout",
          "text": [
            "3.14\n"
          ]
        }
      ]
    },
    {
      "cell_type": "code",
      "source": [
        "a='학생'\n",
        "\n",
        "# 기본 출력 방법\n",
        "print(a,'입니다.')\n",
        "\n",
        "# f string 출력 방법\n",
        "print(f'{a} 입니다.')\n",
        "\n",
        "# %  연산자 출력 방법\n",
        "print('%s 입니다.' % a)\n",
        "\n",
        "# format() 출력 방법\n",
        "print('{} 입니다.'.format(a))"
      ],
      "metadata": {
        "colab": {
          "base_uri": "https://localhost:8080/"
        },
        "id": "jbTdkaCYv_8u",
        "outputId": "a64841cb-7156-4788-dce8-12555a1e4dba"
      },
      "execution_count": 28,
      "outputs": [
        {
          "output_type": "stream",
          "name": "stdout",
          "text": [
            "학생 입니다.\n",
            "학생 입니다.\n",
            "학생 입니다.\n",
            "학생 입니다.\n"
          ]
        }
      ]
    },
    {
      "cell_type": "code",
      "source": [
        "# format() 매서드\n",
        "\n",
        "print('My name is {}'.format('James'))"
      ],
      "metadata": {
        "colab": {
          "base_uri": "https://localhost:8080/"
        },
        "id": "Zt03WJktxPYf",
        "outputId": "9c50fe9f-b4a6-45b6-ff17-1baaabd00990"
      },
      "execution_count": 29,
      "outputs": [
        {
          "output_type": "stream",
          "name": "stdout",
          "text": [
            "My name is James\n"
          ]
        }
      ]
    },
    {
      "cell_type": "code",
      "source": [
        "print('My name is {0}'.format('James'))"
      ],
      "metadata": {
        "colab": {
          "base_uri": "https://localhost:8080/"
        },
        "id": "r8bci7njxQbh",
        "outputId": "d269efcf-d7a2-436d-94a3-bd21acea4d50"
      },
      "execution_count": 30,
      "outputs": [
        {
          "output_type": "stream",
          "name": "stdout",
          "text": [
            "My name is James\n"
          ]
        }
      ]
    },
    {
      "cell_type": "code",
      "source": [
        "print('My name is {name}'.format(name='James'))"
      ],
      "metadata": {
        "colab": {
          "base_uri": "https://localhost:8080/"
        },
        "id": "kWEDZvgAxRf9",
        "outputId": "d5d98a90-d3c1-470e-b4ba-1bd33870a266"
      },
      "execution_count": 31,
      "outputs": [
        {
          "output_type": "stream",
          "name": "stdout",
          "text": [
            "My name is James\n"
          ]
        }
      ]
    },
    {
      "cell_type": "code",
      "source": [
        "print('My name is {}. I\\'m {} years old.'.format('James', 20))"
      ],
      "metadata": {
        "colab": {
          "base_uri": "https://localhost:8080/"
        },
        "id": "wNIh69huxSnI",
        "outputId": "2f45a8c0-b9a4-4e8b-bff7-e8d371475960"
      },
      "execution_count": 32,
      "outputs": [
        {
          "output_type": "stream",
          "name": "stdout",
          "text": [
            "My name is James. I'm 20 years old.\n"
          ]
        }
      ]
    },
    {
      "cell_type": "code",
      "source": [
        "print('My name is {1}. I\\'m {0} years old.'.format('James', 20)) #1번째를 앞에 0번째로 앞에 이렇게 쓸 수 있음"
      ],
      "metadata": {
        "colab": {
          "base_uri": "https://localhost:8080/"
        },
        "id": "RW6RtjFFxVtv",
        "outputId": "150e41a4-4ff6-4a24-8824-b5c8946eea1b"
      },
      "execution_count": 33,
      "outputs": [
        {
          "output_type": "stream",
          "name": "stdout",
          "text": [
            "My name is 20. I'm James years old.\n"
          ]
        }
      ]
    },
    {
      "cell_type": "code",
      "source": [
        "print('My name is {name}. I\\'m {age} years old.'.format(name='James', age=20))"
      ],
      "metadata": {
        "colab": {
          "base_uri": "https://localhost:8080/"
        },
        "id": "q3tWjUe6xv6A",
        "outputId": "10669a5d-ff1d-48be-a5e3-b49a07328a5e"
      },
      "execution_count": 34,
      "outputs": [
        {
          "output_type": "stream",
          "name": "stdout",
          "text": [
            "My name is James. I'm 20 years old.\n"
          ]
        }
      ]
    },
    {
      "cell_type": "code",
      "source": [
        "# f-strings\n",
        "\n",
        "who = 'you'\n",
        "how = 'happy'\n",
        "\n",
        "print(f'{who} make me {how}')"
      ],
      "metadata": {
        "colab": {
          "base_uri": "https://localhost:8080/"
        },
        "id": "bnQ6m40_yOkd",
        "outputId": "33cc44b1-a660-4bde-8f7a-37485578a22c"
      },
      "execution_count": 35,
      "outputs": [
        {
          "output_type": "stream",
          "name": "stdout",
          "text": [
            "you make me happy\n"
          ]
        }
      ]
    },
    {
      "cell_type": "code",
      "source": [
        "age=25\n",
        "print(f'내년엔 {age+1}가 됩니다.')"
      ],
      "metadata": {
        "colab": {
          "base_uri": "https://localhost:8080/"
        },
        "id": "OY2qBXqPy8W7",
        "outputId": "2579089c-1761-41e6-837f-13ae8f95b34a"
      },
      "execution_count": 36,
      "outputs": [
        {
          "output_type": "stream",
          "name": "stdout",
          "text": [
            "내년엔 26가 됩니다.\n"
          ]
        }
      ]
    },
    {
      "cell_type": "code",
      "source": [
        "# 표준입력\n",
        "\n",
        "a = input()\n",
        "print(a)"
      ],
      "metadata": {
        "colab": {
          "base_uri": "https://localhost:8080/"
        },
        "id": "F0JWz339y8a-",
        "outputId": "04baa0b5-c44b-4746-9a4f-6bd69a44243a"
      },
      "execution_count": 39,
      "outputs": [
        {
          "output_type": "stream",
          "name": "stdout",
          "text": [
            "sdf\n",
            "sdf\n"
          ]
        }
      ]
    },
    {
      "cell_type": "code",
      "source": [
        "n = input('정수를 입력하세요 : ')\n",
        "print(n)"
      ],
      "metadata": {
        "colab": {
          "base_uri": "https://localhost:8080/"
        },
        "id": "nXWPjixHz9-A",
        "outputId": "35a23fca-f2f8-4314-c7c9-1cdd5ab84c49"
      },
      "execution_count": 40,
      "outputs": [
        {
          "output_type": "stream",
          "name": "stdout",
          "text": [
            "정수를 입력하세요 : df\n",
            "df\n"
          ]
        }
      ]
    },
    {
      "cell_type": "code",
      "source": [
        "n = input('정수를 입력하세요 : ')\n",
        "print('입력한 정수는', n,'입니다.')\n",
        "\n",
        "n = input('정수를 입력하세요 : ')\n",
        "print(f'입력한 정수는 {n} 입니다.')\n",
        "\n",
        "n = input('정수를 입력하세요 : ')\n",
        "print('입력한 정수는 %s 입니다.' %n)\n",
        "\n",
        "n = input('정수를 입력하세요 : ')\n",
        "print('입력한 정수는 {} 입니다.'.format(n))"
      ],
      "metadata": {
        "colab": {
          "base_uri": "https://localhost:8080/"
        },
        "id": "UZ0Dxm0T0NYB",
        "outputId": "3259734f-d019-4261-9a96-a22427c5c4e9"
      },
      "execution_count": 43,
      "outputs": [
        {
          "output_type": "stream",
          "name": "stdout",
          "text": [
            "정수를 입력하세요 : 12\n",
            "입력한 정수는 12 입니다.\n",
            "정수를 입력하세요 : 35\n",
            "입력한 정수는 35 입니다.\n",
            "정수를 입력하세요 : 65\n",
            "입력한 정수는 65 입니다.\n",
            "정수를 입력하세요 : 7\n",
            "입력한 정수는 7 입니다.\n"
          ]
        }
      ]
    },
    {
      "cell_type": "code",
      "source": [
        "name = input('이름을 입력하세요 >>> ')\n",
        "age = input('나이를 입력하세요 >>> ')\n",
        "\n",
        "print('입력된 이름은 {}입니다.'.format(name))\n",
        "print('입력된 나이는 {}입니다.'.format(age))\n",
        "\n",
        "print('입력된 이름은 %s입니다.'%name)\n",
        "print('입력된 나이는 %s입니다.'%age)\n",
        "\n",
        "print('입력된 이름은', name, '입니다.')\n",
        "print('입력된 나이는', age, '입니다.')\n",
        "\n",
        "print(f'입력된 이름은 {name}입니다.')\n",
        "print(f'입력된 나이는 {age}입니다.')"
      ],
      "metadata": {
        "colab": {
          "base_uri": "https://localhost:8080/"
        },
        "id": "ByaiZxjS1BF0",
        "outputId": "542d117f-20e6-40e9-a953-4957325a7fbb"
      },
      "execution_count": 46,
      "outputs": [
        {
          "output_type": "stream",
          "name": "stdout",
          "text": [
            "이름을 입력하세요 >>> 박세연\n",
            "나이를 입력하세요 >>> 25\n",
            "입력된 이름은 박세연입니다.\n",
            "입력된 나이는 25입니다.\n",
            "입력된 이름은 박세연입니다.\n",
            "입력된 나이는 25입니다.\n",
            "입력된 이름은 박세연 입니다.\n",
            "입력된 나이는 25 입니다.\n",
            "입력된 이름은 박세연입니다.\n",
            "입력된 나이는 25입니다.\n"
          ]
        }
      ]
    }
  ]
}