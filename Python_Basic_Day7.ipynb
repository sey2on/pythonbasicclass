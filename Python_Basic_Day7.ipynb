{
  "nbformat": 4,
  "nbformat_minor": 0,
  "metadata": {
    "colab": {
      "name": "Python Basic Day7.ipynb",
      "provenance": [],
      "authorship_tag": "ABX9TyPenU9cXXz3AaaEDbmd9pSO",
      "include_colab_link": true
    },
    "kernelspec": {
      "name": "python3",
      "display_name": "Python 3"
    },
    "language_info": {
      "name": "python"
    }
  },
  "cells": [
    {
      "cell_type": "markdown",
      "metadata": {
        "id": "view-in-github",
        "colab_type": "text"
      },
      "source": [
        "<a href=\"https://colab.research.google.com/github/sey2on/pythonbasicclass/blob/main/Python_Basic_Day7.ipynb\" target=\"_parent\"><img src=\"https://colab.research.google.com/assets/colab-badge.svg\" alt=\"Open In Colab\"/></a>"
      ]
    },
    {
      "cell_type": "code",
      "execution_count": 1,
      "metadata": {
        "colab": {
          "base_uri": "https://localhost:8080/",
          "height": 35
        },
        "id": "F1hLOxr9Vvrl",
        "outputId": "5fe9e335-e06a-4bc6-be72-0a1bc17e5b98"
      },
      "outputs": [
        {
          "output_type": "execute_result",
          "data": {
            "application/vnd.google.colaboratory.intrinsic+json": {
              "type": "string"
            },
            "text/plain": [
              "'0'"
            ]
          },
          "metadata": {},
          "execution_count": 1
        }
      ],
      "source": [
        "chr(48)#아스키 코드에서 48이 뭔지"
      ]
    },
    {
      "cell_type": "code",
      "source": [
        "chr(65)#아스키 코드에서 65이 뭔지"
      ],
      "metadata": {
        "colab": {
          "base_uri": "https://localhost:8080/",
          "height": 35
        },
        "id": "DiljnoEWVx-I",
        "outputId": "4fbec192-d0c9-4a60-c56a-d6cf2c448235"
      },
      "execution_count": 2,
      "outputs": [
        {
          "output_type": "execute_result",
          "data": {
            "application/vnd.google.colaboratory.intrinsic+json": {
              "type": "string"
            },
            "text/plain": [
              "'A'"
            ]
          },
          "metadata": {},
          "execution_count": 2
        }
      ]
    },
    {
      "cell_type": "code",
      "source": [
        ""
      ],
      "metadata": {
        "id": "bCsP0dq1V2XC"
      },
      "execution_count": null,
      "outputs": []
    },
    {
      "cell_type": "code",
      "source": [
        ""
      ],
      "metadata": {
        "id": "KAdzy4IJV3U1"
      },
      "execution_count": null,
      "outputs": []
    },
    {
      "cell_type": "code",
      "source": [
        "ord('A')#아스키 코드로 A는 뭔지"
      ],
      "metadata": {
        "id": "ZOgNmcRBV3w7"
      },
      "execution_count": null,
      "outputs": []
    },
    {
      "cell_type": "code",
      "source": [
        "for item in enumerate(['가위','바위','보']):#넘버링\n",
        "  print(item)"
      ],
      "metadata": {
        "colab": {
          "base_uri": "https://localhost:8080/"
        },
        "id": "GjQp2YBwV6le",
        "outputId": "1fc1ad17-f9ce-4dab-ab40-8a6648a32fdf"
      },
      "execution_count": 3,
      "outputs": [
        {
          "output_type": "stream",
          "name": "stdout",
          "text": [
            "(0, '가위')\n",
            "(1, '바위')\n",
            "(2, '보')\n"
          ]
        }
      ]
    },
    {
      "cell_type": "code",
      "source": [
        "for idx, item in enumerate(['가위','바위','보']): \n",
        "  print(idx+1, item)"
      ],
      "metadata": {
        "colab": {
          "base_uri": "https://localhost:8080/"
        },
        "id": "8T_UT4k7V8hE",
        "outputId": "78887ca0-513b-44c0-87ea-46f5400746a0"
      },
      "execution_count": 4,
      "outputs": [
        {
          "output_type": "stream",
          "name": "stdout",
          "text": [
            "1 가위\n",
            "2 바위\n",
            "3 보\n"
          ]
        }
      ]
    },
    {
      "cell_type": "code",
      "source": [
        "# page 164 Method\n",
        "\n",
        "name = input('이름을 입력하세요 >>> ')\n",
        "\n",
        "list = []\n",
        "\n",
        "list.append(name)\n",
        "\n",
        "print(list)"
      ],
      "metadata": {
        "colab": {
          "base_uri": "https://localhost:8080/"
        },
        "id": "HT0ve2URWANy",
        "outputId": "de3084ae-b450-4e46-a6c9-6a7d86a6f1f6"
      },
      "execution_count": 5,
      "outputs": [
        {
          "output_type": "stream",
          "name": "stdout",
          "text": [
            "이름을 입력하세요 >>> 박세연\n",
            "['박세연']\n"
          ]
        }
      ]
    },
    {
      "cell_type": "code",
      "source": [
        "s = '내가 그린 기린 그림은 목 긴 기린 그림이과, 네가 그린 기린 그림은 목짧은 기린 그림이다.'\n",
        "s.count('기린')#기린이 몇개들어갔나"
      ],
      "metadata": {
        "colab": {
          "base_uri": "https://localhost:8080/"
        },
        "id": "sbw5xrRCWEAu",
        "outputId": "4d622b88-8150-4c2c-c86c-7c6c2ee7d50f"
      },
      "execution_count": 8,
      "outputs": [
        {
          "output_type": "execute_result",
          "data": {
            "text/plain": [
              "4"
            ]
          },
          "metadata": {},
          "execution_count": 8
        }
      ]
    },
    {
      "cell_type": "code",
      "source": [
        "s = 'best of best'\n",
        "s.count('best', 5)"
      ],
      "metadata": {
        "colab": {
          "base_uri": "https://localhost:8080/"
        },
        "id": "-ML0NKSHWFPh",
        "outputId": "2d2286ae-a8f1-4d73-e26b-362a6aabbcbe"
      },
      "execution_count": 9,
      "outputs": [
        {
          "output_type": "execute_result",
          "data": {
            "text/plain": [
              "1"
            ]
          },
          "metadata": {},
          "execution_count": 9
        }
      ]
    },
    {
      "cell_type": "code",
      "source": [
        "s = 'Life is to short'\n",
        "\n",
        "s.split()"
      ],
      "metadata": {
        "colab": {
          "base_uri": "https://localhost:8080/"
        },
        "id": "cDZuAIL7WLvh",
        "outputId": "6fdbf5ce-ee41-4af0-da91-1f8a62571525"
      },
      "execution_count": 10,
      "outputs": [
        {
          "output_type": "execute_result",
          "data": {
            "text/plain": [
              "['Life', 'is', 'to', 'short']"
            ]
          },
          "metadata": {},
          "execution_count": 10
        }
      ]
    },
    {
      "cell_type": "code",
      "source": [
        "s = '010-1234-5678' \n",
        "\n",
        "s.split('-')#-을 기준으로 나누기"
      ],
      "metadata": {
        "colab": {
          "base_uri": "https://localhost:8080/"
        },
        "id": "g3T_yqa3WN-z",
        "outputId": "80385bdb-0133-407f-a4ac-22b794b6a3f8"
      },
      "execution_count": 12,
      "outputs": [
        {
          "output_type": "execute_result",
          "data": {
            "text/plain": [
              "['010', '1234', '5678']"
            ]
          },
          "metadata": {},
          "execution_count": 12
        }
      ]
    },
    {
      "cell_type": "code",
      "source": [
        "s = '제임스,25,남,서울'\n",
        "s.split(',')"
      ],
      "metadata": {
        "colab": {
          "base_uri": "https://localhost:8080/"
        },
        "id": "jUGYIgTrWS3A",
        "outputId": "8fe120e1-390e-412f-80af-abedf929a9ab"
      },
      "execution_count": 13,
      "outputs": [
        {
          "output_type": "execute_result",
          "data": {
            "text/plain": [
              "['제임스', '25', '남', '서울']"
            ]
          },
          "metadata": {},
          "execution_count": 13
        }
      ]
    },
    {
      "cell_type": "code",
      "source": [
        "ques = input('이름과 나이를 함께 입력하세요(예 : 홍길동 26)>>>')\n",
        "ques.split()"
      ],
      "metadata": {
        "colab": {
          "base_uri": "https://localhost:8080/"
        },
        "id": "HzEJUVi4WUqb",
        "outputId": "f43aef0b-29b5-4f2e-b7f2-5a86a29b6544"
      },
      "execution_count": 16,
      "outputs": [
        {
          "name": "stdout",
          "output_type": "stream",
          "text": [
            "이름과 나이를 함께 입력하세요(예 : 홍길동 26)>>>박세연 26\n"
          ]
        },
        {
          "output_type": "execute_result",
          "data": {
            "text/plain": [
              "['박세연', '26']"
            ]
          },
          "metadata": {},
          "execution_count": 16
        }
      ]
    },
    {
      "cell_type": "code",
      "source": [
        "# 사용자 정의 함수 - 사용자가 직접 만든 함수.\n",
        "\n",
        "# 입력 input\n",
        "# 출력 output\n",
        "\n",
        "# 1. 입력이 있고 리턴이 있는 함수\n",
        "# 2. 입력이 있고 리턴은 없는 함수\n",
        "# 3. 입력이 없고 리턴은 있는 함수\n",
        "# 4. 입력도 없고 리턴도 없는 함수\n",
        "\n",
        "\n",
        "            # def 함수이름(매개변수):\n",
        "            #   본문\n",
        "            #   return 반환값\n",
        "\n"
      ],
      "metadata": {
        "id": "EJpzYwqwWcgC"
      },
      "execution_count": null,
      "outputs": []
    },
    {
      "cell_type": "code",
      "source": [
        "#  입력도 없고 리턴도 없는 함수\n",
        "def welcome():\n",
        "  print('Hello python')\n",
        "  print('Nice to meet you')\n",
        "\n",
        "welcome()  "
      ],
      "metadata": {
        "colab": {
          "base_uri": "https://localhost:8080/"
        },
        "id": "lotah5RrWdnA",
        "outputId": "fa706e1a-4641-4f4d-eb1c-ff1d87a1d771"
      },
      "execution_count": 17,
      "outputs": [
        {
          "output_type": "stream",
          "name": "stdout",
          "text": [
            "Hello python\n",
            "Nice to meet you\n"
          ]
        }
      ]
    },
    {
      "cell_type": "code",
      "source": [
        "# 입력이 있고 리턴은 없는 함수\n",
        "\n",
        "def introduce(name, age):\n",
        "  print(f'내 이름은 {name}이고, 나이는 {age}입니다.')\n",
        "\n",
        "introduce('james', 25)\n",
        "introduce('andy', 22)"
      ],
      "metadata": {
        "colab": {
          "base_uri": "https://localhost:8080/"
        },
        "id": "at5bbykCWfOV",
        "outputId": "dfb88e6d-eb9c-4f66-b160-3cda4a2cacc0"
      },
      "execution_count": 18,
      "outputs": [
        {
          "output_type": "stream",
          "name": "stdout",
          "text": [
            "내 이름은 james이고, 나이는 25입니다.\n",
            "내 이름은 andy이고, 나이는 22입니다.\n"
          ]
        }
      ]
    },
    {
      "cell_type": "code",
      "source": [
        "def show(*items):\n",
        "  for item in items:\n",
        "    print(item)\n",
        "\n",
        "show('python')\n",
        "show('happy','birthday')"
      ],
      "metadata": {
        "colab": {
          "base_uri": "https://localhost:8080/"
        },
        "id": "A2OXmf7hWgSC",
        "outputId": "e61930cc-b133-4b0d-9b63-bfca3ff6641d"
      },
      "execution_count": 19,
      "outputs": [
        {
          "output_type": "stream",
          "name": "stdout",
          "text": [
            "python\n",
            "happy\n",
            "birthday\n"
          ]
        }
      ]
    },
    {
      "cell_type": "code",
      "source": [
        "#가변 매개변수\n",
        "def addsum(*args):\n",
        "  sum = 0\n",
        "  for arg in args:\n",
        "    sum = sum + arg\n",
        "  print(sum)\n",
        "\n",
        "\n",
        "def addsum2(a,b):\n",
        "  print(a+b)\n",
        "\n",
        "def addsum3(a,b,c):\n",
        "  print(a+b+c)\n",
        "\n",
        "addsum(1,2)\n",
        "addsum(1,2,3,4)"
      ],
      "metadata": {
        "colab": {
          "base_uri": "https://localhost:8080/"
        },
        "id": "jVfpK_I8WhvT",
        "outputId": "1c25d46d-8f31-418e-da46-f0e4120f9b70"
      },
      "execution_count": 21,
      "outputs": [
        {
          "output_type": "stream",
          "name": "stdout",
          "text": [
            "3\n",
            "10\n"
          ]
        }
      ]
    },
    {
      "cell_type": "code",
      "source": [
        "def greet(message='안녕하세요'):\n",
        "  print(message)\n",
        "\n",
        "greet('반갑습니다.')\n",
        "greet()"
      ],
      "metadata": {
        "colab": {
          "base_uri": "https://localhost:8080/"
        },
        "id": "iSuaZ9vKWmr1",
        "outputId": "ceb53e02-ba12-4495-c8d1-cb6efbbfbcd9"
      },
      "execution_count": 22,
      "outputs": [
        {
          "output_type": "stream",
          "name": "stdout",
          "text": [
            "반갑습니다.\n",
            "안녕하세요\n"
          ]
        }
      ]
    },
    {
      "cell_type": "code",
      "source": [
        "#디폴트 매개변수는 마지막에 위치시킨다.\n",
        "\n",
        "#def greet(message='안녕하세요',name):\n",
        "#  print(f'{name}님 {message})\n",
        "\n",
        "def greet(name, message='안녕하세요'):\n",
        "  print(f'{name}님 {message}')\n",
        "\n",
        "greet('김철수')"
      ],
      "metadata": {
        "colab": {
          "base_uri": "https://localhost:8080/"
        },
        "id": "Dbo95QhXWnks",
        "outputId": "7ab179d7-3130-45bd-f3cd-1c85f7d38479"
      },
      "execution_count": 26,
      "outputs": [
        {
          "output_type": "stream",
          "name": "stdout",
          "text": [
            "김철수님 안녕하세요\n"
          ]
        }
      ]
    },
    {
      "cell_type": "code",
      "source": [
        "#입력이 없고 리턴이 있는 함수\n",
        "\n",
        "def address():\n",
        "  str='우편번호 12345\\n'\n",
        "  str+='서울시 영등포구 여의도동'\n",
        "  return str #가지고 나오면 밖에서 뭔가를 할 수 있음\n",
        "\n",
        "print(address())"
      ],
      "metadata": {
        "colab": {
          "base_uri": "https://localhost:8080/"
        },
        "id": "sHc1cigZXX7f",
        "outputId": "fffbdaaa-bc83-4fa7-f2e1-615333eb85ad"
      },
      "execution_count": 31,
      "outputs": [
        {
          "output_type": "stream",
          "name": "stdout",
          "text": [
            "우편번호 12345\n",
            "서울시 영등포구 여의도동\n"
          ]
        }
      ]
    },
    {
      "cell_type": "code",
      "source": [
        "def address():\n",
        "  str='우편번호 12345\\n'\n",
        "  str+='서울시 영등포구 여의도동'\n",
        "  print(str)\n",
        "\n",
        "address()"
      ],
      "metadata": {
        "colab": {
          "base_uri": "https://localhost:8080/"
        },
        "id": "x-pMwPIcYJRD",
        "outputId": "2ebc618e-c25b-4aab-f05a-98a615c527d9"
      },
      "execution_count": 32,
      "outputs": [
        {
          "output_type": "stream",
          "name": "stdout",
          "text": [
            "우편번호 12345\n",
            "서울시 영등포구 여의도동\n"
          ]
        }
      ]
    },
    {
      "cell_type": "code",
      "source": [
        "def calculator(*args):\n",
        "  return sum(args), sum(args)/len(args), max(args), min(args)\n",
        "\n",
        "print(calculator(1,2,3,4,5))#하나의 튜플로 나옴"
      ],
      "metadata": {
        "colab": {
          "base_uri": "https://localhost:8080/"
        },
        "id": "7hxQ7tDtY09h",
        "outputId": "b3620926-eb87-4f5f-9381-441ed7e4e1c5"
      },
      "execution_count": 34,
      "outputs": [
        {
          "output_type": "stream",
          "name": "stdout",
          "text": [
            "(15, 3.0, 5, 1)\n"
          ]
        }
      ]
    },
    {
      "cell_type": "code",
      "source": [
        "def calculator(*args):\n",
        "  return sum(args), sum(args)/len(args), max(args), min(args)\n",
        "\n",
        "a,b,c,d=calculator(1,2,3,4,5)\n",
        "print(a)\n",
        "print(b)\n",
        "print(c)\n",
        "print(d)"
      ],
      "metadata": {
        "colab": {
          "base_uri": "https://localhost:8080/"
        },
        "id": "im1Nr-kBZ0Yi",
        "outputId": "7637f864-a1d1-4e9a-d1f5-f99ceb991f16"
      },
      "execution_count": 35,
      "outputs": [
        {
          "output_type": "stream",
          "name": "stdout",
          "text": [
            "15\n",
            "3.0\n",
            "5\n",
            "1\n"
          ]
        }
      ]
    },
    {
      "cell_type": "code",
      "source": [
        "def charge(energy):\n",
        "  if energy < 0:\n",
        "    print('0보다 작은 에너지는 충전할 수 없습니다.')\n",
        "    return\n",
        "  print('에너지가 충전되었습니다.')\n",
        "\n",
        "charge(-1)"
      ],
      "metadata": {
        "colab": {
          "base_uri": "https://localhost:8080/"
        },
        "id": "dTLR1TA6Z9MH",
        "outputId": "1207d376-745c-4682-d610-327e6e5fa2c9"
      },
      "execution_count": 36,
      "outputs": [
        {
          "output_type": "stream",
          "name": "stdout",
          "text": [
            "0보다 작은 에너지는 충전할 수 없습니다.\n"
          ]
        }
      ]
    },
    {
      "cell_type": "code",
      "source": [
        "# local variable & global variable 지역변수가 더 좋음\n",
        "\n",
        "# local variable 지역 변수\n",
        "\n",
        "def f():\n",
        "  a = 10\n",
        "  print(f'내부 : {a}')\n",
        "\n",
        "f()\n",
        "\n",
        "print(f'외부 :{a}')#위에 어딘가에서 a에 15를 정의했기 때문에 15라는 출력값이 나옴\n"
      ],
      "metadata": {
        "colab": {
          "base_uri": "https://localhost:8080/"
        },
        "id": "7YVGNSy9bpai",
        "outputId": "80d37657-0860-4018-8ad7-be6fba366218"
      },
      "execution_count": 37,
      "outputs": [
        {
          "output_type": "stream",
          "name": "stdout",
          "text": [
            "내부 : 10\n",
            "외부 :15\n"
          ]
        }
      ]
    },
    {
      "cell_type": "code",
      "source": [
        "# global variable  전역 변수\n",
        "\n",
        "b = 10 #둘 다 영향 미침\n",
        "\n",
        "def f():\n",
        "  print(f'내부 : {b}')\n",
        "\n",
        "f()\n",
        "\n",
        "print(f'내부 : {b}')"
      ],
      "metadata": {
        "colab": {
          "base_uri": "https://localhost:8080/"
        },
        "id": "0Xw2WjwEdEdu",
        "outputId": "9cd0d163-86b0-4389-e2f5-3106feecce8a"
      },
      "execution_count": 38,
      "outputs": [
        {
          "output_type": "stream",
          "name": "stdout",
          "text": [
            "내부 : 10\n",
            "내부 : 10\n"
          ]
        }
      ]
    },
    {
      "cell_type": "code",
      "source": [
        "\n",
        "def f():\n",
        "  global a\n",
        "  a = 10\n",
        "  print(a)\n",
        "  \n",
        "f()\n",
        "\n",
        "print(a)"
      ],
      "metadata": {
        "colab": {
          "base_uri": "https://localhost:8080/"
        },
        "id": "dhp0BDQkeTCX",
        "outputId": "0f5fa1c3-b6f2-41c3-c964-0e95326d45f2"
      },
      "execution_count": 39,
      "outputs": [
        {
          "output_type": "stream",
          "name": "stdout",
          "text": [
            "10\n",
            "10\n"
          ]
        }
      ]
    },
    {
      "cell_type": "code",
      "source": [
        "# 1\n",
        "\n",
        "def vending_machine(money):\n",
        "  price = 700  # 700, 1400, 2100, 2800\n",
        "\n",
        "  for i in range((money // price)+1):\n",
        "    coin = money - price * i\n",
        "    print(f'음료수 = {i}개, 잔돈 = {coin}원')\n",
        "\n",
        "vending_machine(3000)"
      ],
      "metadata": {
        "colab": {
          "base_uri": "https://localhost:8080/"
        },
        "id": "Nh4HjOJUqIIF",
        "outputId": "788ed410-76fb-4ee0-bcb7-3bda3e7d9894"
      },
      "execution_count": 40,
      "outputs": [
        {
          "output_type": "stream",
          "name": "stdout",
          "text": [
            "음료수 = 0개, 잔돈 = 3000원\n",
            "음료수 = 1개, 잔돈 = 2300원\n",
            "음료수 = 2개, 잔돈 = 1600원\n",
            "음료수 = 3개, 잔돈 = 900원\n",
            "음료수 = 4개, 잔돈 = 200원\n"
          ]
        }
      ]
    },
    {
      "cell_type": "code",
      "source": [
        "# 2 \n",
        "\n",
        "def get_average(marks):\n",
        "  sum = 0\n",
        "  for i in marks:\n",
        "    sum += marks[i]\n",
        "  return sum/len(marks)\n",
        "\n",
        "marks = {'국어':90, '영어':80, '수학':85}\n",
        "average = get_average(marks)\n",
        "print(f'평균은 {average}입니다.')"
      ],
      "metadata": {
        "colab": {
          "base_uri": "https://localhost:8080/"
        },
        "id": "MEvYNZH4qJKr",
        "outputId": "05c457f9-46e1-4dbf-9e1d-eb9849d3d206"
      },
      "execution_count": 41,
      "outputs": [
        {
          "output_type": "stream",
          "name": "stdout",
          "text": [
            "평균은 85.0입니다.\n"
          ]
        }
      ]
    },
    {
      "cell_type": "code",
      "source": [
        ""
      ],
      "metadata": {
        "id": "dEaNt4AWr4AS"
      },
      "execution_count": null,
      "outputs": []
    },
    {
      "cell_type": "code",
      "source": [
        "# 3\n",
        "\n",
        "total = 0\n",
        "def gift(dic,who,money):\n",
        "  global total\n",
        "  total += money\n",
        "  dic[who] = money\n",
        "\n",
        "wedding = {}\n",
        "gift(wedding, '영희', 5)\n",
        "gift(wedding, '철수', 3)\n",
        "gift(wedding, '이모', 10)\n",
        "\n",
        "print(f'축의금 명단 : {wedding}')\n",
        "print(f'전체 축의금 : {total}')"
      ],
      "metadata": {
        "colab": {
          "base_uri": "https://localhost:8080/"
        },
        "id": "Gt3qRdsWqKj3",
        "outputId": "b392ab1b-2657-4d8b-bb07-251588279746"
      },
      "execution_count": 42,
      "outputs": [
        {
          "output_type": "stream",
          "name": "stdout",
          "text": [
            "축의금 명단 : {'영희': 5, '철수': 3, '이모': 10}\n",
            "전체 축의금 : 18\n"
          ]
        }
      ]
    }
  ]
}