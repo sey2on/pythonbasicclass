{
  "nbformat": 4,
  "nbformat_minor": 0,
  "metadata": {
    "colab": {
      "name": "Untitled2.ipynb",
      "provenance": [],
      "authorship_tag": "ABX9TyNFlScoRj/QtdwDFHjekdBW",
      "include_colab_link": true
    },
    "kernelspec": {
      "name": "python3",
      "display_name": "Python 3"
    },
    "language_info": {
      "name": "python"
    }
  },
  "cells": [
    {
      "cell_type": "markdown",
      "metadata": {
        "id": "view-in-github",
        "colab_type": "text"
      },
      "source": [
        "<a href=\"https://colab.research.google.com/github/sey2on/pythonbasicclass/blob/main/Untitled2.ipynb\" target=\"_parent\"><img src=\"https://colab.research.google.com/assets/colab-badge.svg\" alt=\"Open In Colab\"/></a>"
      ]
    },
    {
      "cell_type": "code",
      "execution_count": 5,
      "metadata": {
        "colab": {
          "base_uri": "https://localhost:8080/"
        },
        "id": "3WRh6Lw4xQcn",
        "outputId": "332344a9-cf26-43ad-85c9-8b706c07d4a1"
      },
      "outputs": [
        {
          "output_type": "stream",
          "name": "stdout",
          "text": [
            "1\n",
            "2\n",
            "3\n"
          ]
        }
      ],
      "source": [
        "# 116 page\n",
        "\n",
        "# for  반복문 , 주로 반복횟수를 명확히 알고 있을 때 사용.\n",
        "\n",
        "# for 변수 in 반복객체:\n",
        "#   반복실행\n",
        "\n",
        "for i in [1,2,3]:\n",
        "  print(i)"
      ]
    },
    {
      "cell_type": "code",
      "source": [
        "for i in 'Hello':\n",
        "  print(i)"
      ],
      "metadata": {
        "colab": {
          "base_uri": "https://localhost:8080/"
        },
        "id": "M_2-Iko-Bo8x",
        "outputId": "44fcbe2c-00a4-43cc-c290-08d50d49fafd"
      },
      "execution_count": 6,
      "outputs": [
        {
          "output_type": "stream",
          "name": "stdout",
          "text": [
            "H\n",
            "e\n",
            "l\n",
            "l\n",
            "o\n"
          ]
        }
      ]
    },
    {
      "cell_type": "code",
      "source": [
        "for item in ['가위','바위','보']:\n",
        "  print(item)"
      ],
      "metadata": {
        "colab": {
          "base_uri": "https://localhost:8080/"
        },
        "id": "evH_jthM4rYJ",
        "outputId": "0fe4f3ab-753f-46e5-97b2-e93e1480486f"
      },
      "execution_count": 7,
      "outputs": [
        {
          "output_type": "stream",
          "name": "stdout",
          "text": [
            "가위\n",
            "바위\n",
            "보\n"
          ]
        }
      ]
    },
    {
      "cell_type": "code",
      "source": [
        " # 리스트 내포 : for 문을 이용해서 리스트를 간단히 생성한다. \n",
        "\n",
        "[n*2          for n in [1,2,3]]"
      ],
      "metadata": {
        "colab": {
          "base_uri": "https://localhost:8080/"
        },
        "id": "Sx3IQqwd42bG",
        "outputId": "a5f667f6-f82e-4812-caa3-4623b953df7d"
      },
      "execution_count": 8,
      "outputs": [
        {
          "output_type": "execute_result",
          "data": {
            "text/plain": [
              "[2, 4, 6]"
            ]
          },
          "metadata": {},
          "execution_count": 8
        }
      ]
    },
    {
      "cell_type": "code",
      "source": [
        "[n*2        for n in [1,2,3,4,5]       if n%2 == 1]"
      ],
      "metadata": {
        "colab": {
          "base_uri": "https://localhost:8080/"
        },
        "id": "6Gkr4XreB3Ik",
        "outputId": "b535a533-9588-4c3c-bb54-608f942684eb"
      },
      "execution_count": 9,
      "outputs": [
        {
          "output_type": "execute_result",
          "data": {
            "text/plain": [
              "[2, 6, 10]"
            ]
          },
          "metadata": {},
          "execution_count": 9
        }
      ]
    },
    {
      "cell_type": "code",
      "source": [
        "four_seasons = ('Spring','Summer','Autumn','Winter')\n",
        "for season in four_seasons:\n",
        "  print(season)\n"
      ],
      "metadata": {
        "colab": {
          "base_uri": "https://localhost:8080/"
        },
        "id": "UNMu9QgDB4hE",
        "outputId": "fd235ac1-7c2e-4b07-9a2e-7153ed57c4d2"
      },
      "execution_count": 10,
      "outputs": [
        {
          "output_type": "stream",
          "name": "stdout",
          "text": [
            "Spring\n",
            "Summer\n",
            "Autumn\n",
            "Winter\n"
          ]
        }
      ]
    },
    {
      "cell_type": "code",
      "source": [
        "# range()\n",
        "# 정수 범위를 만들어 낼때 유요한 아주 많이 for문과 사용되는 함수\n",
        "\n",
        "# range(start, stop, step)  # start(0부터), step(1씩 증가) 은 생략 가능\n",
        "\n",
        "print(list(range(5))) # start생략, step생략 0,1,2,3,4   0부터 5미만\n",
        "print(list(range(1,11)))#step만 생략 1부터 11미만 \n",
        "print(tuple(range(5)))"
      ],
      "metadata": {
        "colab": {
          "base_uri": "https://localhost:8080/"
        },
        "id": "l_sJJzEUB6po",
        "outputId": "422dd871-6cdf-4400-bc97-acba87abe2fb"
      },
      "execution_count": 11,
      "outputs": [
        {
          "output_type": "stream",
          "name": "stdout",
          "text": [
            "[0, 1, 2, 3, 4]\n",
            "[1, 2, 3, 4, 5, 6, 7, 8, 9, 10]\n",
            "(0, 1, 2, 3, 4)\n"
          ]
        }
      ]
    },
    {
      "cell_type": "code",
      "source": [
        "for i in range(5):\n",
        "  print(i)"
      ],
      "metadata": {
        "colab": {
          "base_uri": "https://localhost:8080/"
        },
        "id": "myDh12UIB7nT",
        "outputId": "677e2271-5681-43c1-9cd9-3efae07b3abf"
      },
      "execution_count": 12,
      "outputs": [
        {
          "output_type": "stream",
          "name": "stdout",
          "text": [
            "0\n",
            "1\n",
            "2\n",
            "3\n",
            "4\n"
          ]
        }
      ]
    },
    {
      "cell_type": "code",
      "source": [
        "for i in range(1, 11):\n",
        "  print('Hi')"
      ],
      "metadata": {
        "colab": {
          "base_uri": "https://localhost:8080/"
        },
        "id": "YHtJ7ucSB8tf",
        "outputId": "e1fbbb50-55b9-48f7-9251-ebb460a97029"
      },
      "execution_count": 13,
      "outputs": [
        {
          "output_type": "stream",
          "name": "stdout",
          "text": [
            "Hi\n",
            "Hi\n",
            "Hi\n",
            "Hi\n",
            "Hi\n",
            "Hi\n",
            "Hi\n",
            "Hi\n",
            "Hi\n",
            "Hi\n"
          ]
        }
      ]
    },
    {
      "cell_type": "code",
      "source": [
        "for item in {'가위','바위','보'}:\n",
        "  print(item)"
      ],
      "metadata": {
        "colab": {
          "base_uri": "https://localhost:8080/"
        },
        "id": "1RLyBolyB9vX",
        "outputId": "d3ba3f85-acef-4c60-a890-ad865b9ed1d8"
      },
      "execution_count": 14,
      "outputs": [
        {
          "output_type": "stream",
          "name": "stdout",
          "text": [
            "가위\n",
            "보\n",
            "바위\n"
          ]
        }
      ]
    },
    {
      "cell_type": "code",
      "source": [
        "person = {\n",
        "    'name':'에밀리',\n",
        "    'age':20\n",
        "}\n",
        "\n",
        "for item in person:\n",
        "  print(item)"
      ],
      "metadata": {
        "colab": {
          "base_uri": "https://localhost:8080/"
        },
        "id": "tbbdn-PwB-lY",
        "outputId": "84fdab0e-1611-4583-e68d-df23d5fe7249"
      },
      "execution_count": 15,
      "outputs": [
        {
          "output_type": "stream",
          "name": "stdout",
          "text": [
            "name\n",
            "age\n"
          ]
        }
      ]
    },
    {
      "cell_type": "code",
      "source": [
        "person = {\n",
        "    'name':'에밀리',\n",
        "    'age':20\n",
        "}\n",
        "\n",
        "for item in person:\n",
        "  print(item, person[item])"
      ],
      "metadata": {
        "colab": {
          "base_uri": "https://localhost:8080/"
        },
        "id": "Hum84mNAB_69",
        "outputId": "594f1c08-754a-4be2-e377-d91e0376d3d6"
      },
      "execution_count": 16,
      "outputs": [
        {
          "output_type": "stream",
          "name": "stdout",
          "text": [
            "name 에밀리\n",
            "age 20\n"
          ]
        }
      ]
    },
    {
      "cell_type": "code",
      "source": [
        "# 129\n",
        "#1\n",
        "\n",
        "for i in range(5,0,-1):\n",
        "  print(i)"
      ],
      "metadata": {
        "colab": {
          "base_uri": "https://localhost:8080/"
        },
        "id": "Nthb26SPCAwX",
        "outputId": "7390e50b-9084-4ba6-fc79-23ae2656dedc"
      },
      "execution_count": 17,
      "outputs": [
        {
          "output_type": "stream",
          "name": "stdout",
          "text": [
            "5\n",
            "4\n",
            "3\n",
            "2\n",
            "1\n"
          ]
        }
      ]
    },
    {
      "cell_type": "code",
      "source": [
        "# 2 \n",
        "\n",
        "no = int(input('임의의 양수를 입력하세요 >>> '))\n",
        "sum = 0  # 초기값 설정\n",
        "for i in range(1,no+1):\n",
        "  sum = sum + i   # sum += i\n",
        "\n",
        "\n",
        "print(f'1부터 {no}사이 모든 정수의 합계는 {sum}입니다.')"
      ],
      "metadata": {
        "colab": {
          "base_uri": "https://localhost:8080/"
        },
        "id": "-HFWStKbCCDS",
        "outputId": "ddd423c7-48e9-48f2-8a43-41bcb5117cb9"
      },
      "execution_count": 18,
      "outputs": [
        {
          "output_type": "stream",
          "name": "stdout",
          "text": [
            "임의의 양수를 입력하세요 >>> 3\n",
            "1부터 3사이 모든 정수의 합계는 6입니다.\n"
          ]
        }
      ]
    },
    {
      "cell_type": "code",
      "source": [
        "#3 \n",
        "no = int(input('몇 개의 과일을 보관할까요? >>> '))\n",
        "fruits = []\n",
        "for i in range(1,no+1):\n",
        "  fruit = input(f'{i}번째 과일을 입력하세요 >>> ')\n",
        "  fruits.append(fruit)\n",
        "\n",
        "print(f'입력받은 과일들은 {fruits}입니다.')"
      ],
      "metadata": {
        "colab": {
          "base_uri": "https://localhost:8080/"
        },
        "id": "HZ1PVEDQCDTA",
        "outputId": "3ccba26b-82ee-4b7e-9ece-fb311237ced6"
      },
      "execution_count": 20,
      "outputs": [
        {
          "output_type": "stream",
          "name": "stdout",
          "text": [
            "몇 개의 과일을 보관할까요? >>> 4\n",
            "1번째 과일을 입력하세요 >>> apple\n",
            "2번째 과일을 입력하세요 >>> banana\n",
            "3번째 과일을 입력하세요 >>> cherry\n",
            "4번째 과일을 입력하세요 >>> grafe\n",
            "입력받은 과일들은 ['apple', 'banana', 'cherry', 'grafe']입니다.\n"
          ]
        }
      ]
    },
    {
      "cell_type": "code",
      "source": [
        "#4\n",
        "\n",
        "exam = [99,78,100,91,81,85,54,100,71,50]\n",
        "\n",
        "exam2 = []\n",
        "for i in exam:\n",
        "  if i >= 95:\n",
        "    exam2.append(100)\n",
        "  else:\n",
        "    exam2.append(i+5)\n",
        "\n",
        "print(exam2)"
      ],
      "metadata": {
        "colab": {
          "base_uri": "https://localhost:8080/"
        },
        "id": "IbT-7lhyCLno",
        "outputId": "2eb1876b-abd5-43a3-dac4-7d0c50a3db28"
      },
      "execution_count": 21,
      "outputs": [
        {
          "output_type": "stream",
          "name": "stdout",
          "text": [
            "[100, 83, 100, 96, 86, 90, 59, 100, 76, 55]\n"
          ]
        }
      ]
    },
    {
      "cell_type": "code",
      "source": [
        "# break\n",
        "\n",
        "# while 문이나 for문에서 반복을 강제로 종료시킬때 사용\n",
        "\n",
        "n = 1\n",
        "while n <= 10:\n",
        "  print(n)\n",
        "  n += 1"
      ],
      "metadata": {
        "colab": {
          "base_uri": "https://localhost:8080/"
        },
        "id": "mtZqQbgIFVFC",
        "outputId": "6f81db42-8f16-4230-f2e0-6510d08153b9"
      },
      "execution_count": 22,
      "outputs": [
        {
          "output_type": "stream",
          "name": "stdout",
          "text": [
            "1\n",
            "2\n",
            "3\n",
            "4\n",
            "5\n",
            "6\n",
            "7\n",
            "8\n",
            "9\n",
            "10\n"
          ]
        }
      ]
    },
    {
      "cell_type": "code",
      "source": [
        "n = 1\n",
        "while True:\n",
        "  print(n)\n",
        "  if n == 10:\n",
        "    break\n",
        "  n += 1"
      ],
      "metadata": {
        "colab": {
          "base_uri": "https://localhost:8080/"
        },
        "id": "tNm-iAOJFWmw",
        "outputId": "43164bde-5861-49a5-e77d-da9543c445c7"
      },
      "execution_count": 23,
      "outputs": [
        {
          "output_type": "stream",
          "name": "stdout",
          "text": [
            "1\n",
            "2\n",
            "3\n",
            "4\n",
            "5\n",
            "6\n",
            "7\n",
            "8\n",
            "9\n",
            "10\n"
          ]
        }
      ]
    },
    {
      "cell_type": "code",
      "source": [
        "# continue\n",
        "\n",
        "# 반복 도중에 continue를 만나면 더이상 아래로 내려가지 않고 \n",
        "# 다시 반복문으로 진입한다. \n",
        "\n",
        "total = 0\n",
        "for a in range(1,101):\n",
        "  if a % 3 == 0 : # 3의 배수찾기\n",
        "    continue      # 3의 배수를 제외한 합\n",
        "  total += a\n",
        "print(total)"
      ],
      "metadata": {
        "colab": {
          "base_uri": "https://localhost:8080/"
        },
        "id": "GSBFYk3EQm6T",
        "outputId": "d63768c4-16ed-40be-92cd-e3ef6e27ad19"
      },
      "execution_count": 24,
      "outputs": [
        {
          "output_type": "stream",
          "name": "stdout",
          "text": [
            "3367\n"
          ]
        }
      ]
    },
    {
      "cell_type": "code",
      "source": [
        "# page 141\n",
        "# 1\n",
        "\n",
        "cash = 10000\n",
        "\n",
        "while True:\n",
        "  print(f'현재 {cash}원이 있습니다.')\n",
        "  if cash == 0:\n",
        "    break\n",
        "  pay = int(input('사용할 금액입력 >>> '))\n",
        "  if pay <= 0:\n",
        "    print('0 이하의 금액은 사용할 수 없습니다.')\n",
        "  elif pay > cash:\n",
        "    print(f'{pay - cash}원이 부족합니다.')\n",
        "  else:\n",
        "    cash -= pay # cash = cash - pay"
      ],
      "metadata": {
        "colab": {
          "base_uri": "https://localhost:8080/"
        },
        "id": "somFQizUQoHR",
        "outputId": "e2f234b6-0029-4c9b-a72c-89a039d3108d"
      },
      "execution_count": 25,
      "outputs": [
        {
          "output_type": "stream",
          "name": "stdout",
          "text": [
            "현재 10000원이 있습니다.\n",
            "사용할 금액입력 >>> 4000\n",
            "현재 6000원이 있습니다.\n",
            "사용할 금액입력 >>> 4000\n",
            "현재 2000원이 있습니다.\n",
            "사용할 금액입력 >>> 4000\n",
            "2000원이 부족합니다.\n",
            "현재 2000원이 있습니다.\n",
            "사용할 금액입력 >>> 2000\n",
            "현재 0원이 있습니다.\n"
          ]
        }
      ]
    },
    {
      "cell_type": "code",
      "source": [
        "#2 \n",
        "while True:\n",
        "  score = int(input('이번 영화의 평점을 입력하세요 >>> '))\n",
        "\n",
        "  if score >= 1 and score <= 5:\n",
        "    print(f'평점 : {score * \"★\"}')\n",
        "    break\n",
        "  else:\n",
        "    print('평점은 1~5 사이만 입력할 수 있습니다.')"
      ],
      "metadata": {
        "colab": {
          "base_uri": "https://localhost:8080/"
        },
        "id": "tH4d8Z2zQuqM",
        "outputId": "e01bc06c-4441-477d-bda6-e66918fc3f7d"
      },
      "execution_count": 30,
      "outputs": [
        {
          "output_type": "stream",
          "name": "stdout",
          "text": [
            "이번 영화의 평점을 입력하세요 >>> 3\n",
            "평점 : ★★★\n"
          ]
        }
      ]
    },
    {
      "cell_type": "code",
      "source": [
        ""
      ],
      "metadata": {
        "id": "JC2_araQRgjC"
      },
      "execution_count": null,
      "outputs": []
    },
    {
      "cell_type": "code",
      "source": [
        "password = 'qwerty'\n",
        "tryno = 0\n",
        "while True:\n",
        "  if tryno == 5:\n",
        "    print('비밀번호 입력 횟수를 초과했습니다.')\n",
        "    break\n",
        "  inpass = input('비밀번호를 입력하세요 >>> ')\n",
        "  if password == inpass:\n",
        "    print('비밀번호를 맞혔습니다.')\n",
        "    break\n",
        "  tryno += 1"
      ],
      "metadata": {
        "colab": {
          "base_uri": "https://localhost:8080/"
        },
        "id": "UB9SI78KR8z7",
        "outputId": "0a423160-0762-467d-cc42-9e05e0fe9ff4"
      },
      "execution_count": 41,
      "outputs": [
        {
          "output_type": "stream",
          "name": "stdout",
          "text": [
            "비밀번호를 입력하세요 >>> 651\n",
            "비밀번호를 입력하세요 >>> 321\n",
            "비밀번호를 입력하세요 >>> 42\n",
            "비밀번호를 입력하세요 >>> 21\n",
            "비밀번호를 입력하세요 >>> 2\n",
            "비밀번호 입력 횟수를 초과했습니다.\n"
          ]
        }
      ]
    },
    {
      "cell_type": "code",
      "source": [
        "#4\n",
        "#구구단 전체 출력하기\n",
        "\n",
        "# for i in range (2, 10):\n",
        "#   for j in range (1,10):\n",
        "#     print(f'{i}X{j}={i*j}')\n",
        "\n",
        "#구구단 홀수단 전체 출력하기\n",
        "\n",
        "# for i in range (3,10,2):\n",
        "#   for j in range (1,10):\n",
        "#     print(f'{i}X{j}={i*j}')\n",
        "\n",
        "  #강사님 풀이\n",
        "\n",
        "  # for i in range(2,10):\n",
        "  #   if i % 2 == 0:\n",
        "  #     continue\n",
        "  #   for j in range(1,10):\n",
        "  #     print(f'{i} X {j} = {i*j}')\n",
        "\n",
        "#3단은 3개 5단은 5개 7단은 7개 9단은 9개 출력하기\n",
        "\n",
        "for i in range (3,10,2):\n",
        "  for j in range (1,10):\n",
        "    if i+1==j :\n",
        "     break\n",
        "    print(f'{i}X{j}={i*j}')\n",
        "  print()\n",
        "\n",
        "\n",
        "  # 강사님 풀이\n",
        "\n",
        "# for i in range(2,10):\n",
        "#   if i % 2 == 0:\n",
        "#     continue\n",
        "#   for j in range(1,10):\n",
        "#     if i < j:\n",
        "#       break\n",
        "#     print(f'{i} X {j} = {i*j}')\n",
        "#   print()\n",
        "\n"
      ],
      "metadata": {
        "colab": {
          "base_uri": "https://localhost:8080/"
        },
        "id": "iaVJJVn8UMRs",
        "outputId": "b7e2df31-ac60-43b9-f070-49f9125b957f"
      },
      "execution_count": 57,
      "outputs": [
        {
          "output_type": "stream",
          "name": "stdout",
          "text": [
            "3X1=3\n",
            "3X2=6\n",
            "3X3=9\n",
            "\n",
            "5X1=5\n",
            "5X2=10\n",
            "5X3=15\n",
            "5X4=20\n",
            "5X5=25\n",
            "\n",
            "7X1=7\n",
            "7X2=14\n",
            "7X3=21\n",
            "7X4=28\n",
            "7X5=35\n",
            "7X6=42\n",
            "7X7=49\n",
            "\n",
            "9X1=9\n",
            "9X2=18\n",
            "9X3=27\n",
            "9X4=36\n",
            "9X5=45\n",
            "9X6=54\n",
            "9X7=63\n",
            "9X8=72\n",
            "9X9=81\n",
            "\n"
          ]
        }
      ]
    },
    {
      "cell_type": "code",
      "source": [
        ""
      ],
      "metadata": {
        "id": "fd65gJ-HT-j5"
      },
      "execution_count": null,
      "outputs": []
    }
  ]
}
