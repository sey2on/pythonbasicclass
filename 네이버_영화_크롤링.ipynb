{
  "nbformat": 4,
  "nbformat_minor": 0,
  "metadata": {
    "colab": {
      "name": "네이버 영화 크롤링.ipynb",
      "provenance": [],
      "collapsed_sections": [],
      "authorship_tag": "ABX9TyPbGR/YfpVq/KZmMNqZJa2w",
      "include_colab_link": true
    },
    "kernelspec": {
      "name": "python3",
      "display_name": "Python 3"
    },
    "language_info": {
      "name": "python"
    }
  },
  "cells": [
    {
      "cell_type": "markdown",
      "metadata": {
        "id": "view-in-github",
        "colab_type": "text"
      },
      "source": [
        "<a href=\"https://colab.research.google.com/github/sey2on/pythonbasicclass/blob/main/%EB%84%A4%EC%9D%B4%EB%B2%84_%EC%98%81%ED%99%94_%ED%81%AC%EB%A1%A4%EB%A7%81.ipynb\" target=\"_parent\"><img src=\"https://colab.research.google.com/assets/colab-badge.svg\" alt=\"Open In Colab\"/></a>"
      ]
    },
    {
      "cell_type": "code",
      "execution_count": 2,
      "metadata": {
        "id": "wUjw5t9kivOY"
      },
      "outputs": [],
      "source": [
        "import requests                     # 웹으로 사이트 연결\n",
        "from bs4 import BeautifulSoup as bs # 데이터 정제 \n",
        "import pandas as pd                 # 데이터 분석"
      ]
    },
    {
      "cell_type": "code",
      "source": [
        "html = requests.get('https://movie.naver.com/movie/sdb/rank/rmovie.naver?sel=pnt&date=20220317')\n",
        "soup = bs(html.text)"
      ],
      "metadata": {
        "id": "ez-SA9DomPCb"
      },
      "execution_count": 3,
      "outputs": []
    },
    {
      "cell_type": "code",
      "source": [
        "len(soup.select('tr'))"
      ],
      "metadata": {
        "colab": {
          "base_uri": "https://localhost:8080/"
        },
        "id": "rsUmu7-FmP6s",
        "outputId": "fd4484fe-c6ff-4599-ea3d-eeb720c3336e"
      },
      "execution_count": 4,
      "outputs": [
        {
          "output_type": "execute_result",
          "data": {
            "text/plain": [
              "60"
            ]
          },
          "metadata": {},
          "execution_count": 4
        }
      ]
    },
    {
      "cell_type": "code",
      "source": [
        "len(soup.select('td.title'))"
      ],
      "metadata": {
        "colab": {
          "base_uri": "https://localhost:8080/"
        },
        "id": "O1QGzvUPmQyJ",
        "outputId": "4b96926d-dfef-4d7e-bb90-d66ee43c1be8"
      },
      "execution_count": 5,
      "outputs": [
        {
          "output_type": "execute_result",
          "data": {
            "text/plain": [
              "50"
            ]
          },
          "metadata": {},
          "execution_count": 5
        }
      ]
    },
    {
      "cell_type": "code",
      "source": [
        "movies = soup.select('td.title')"
      ],
      "metadata": {
        "id": "F0VHuayLmRoX"
      },
      "execution_count": 6,
      "outputs": []
    },
    {
      "cell_type": "code",
      "source": [
        "movies[0]"
      ],
      "metadata": {
        "colab": {
          "base_uri": "https://localhost:8080/"
        },
        "id": "jVN8Aal6mSd8",
        "outputId": "468555cd-9f1f-44b5-8c74-1f3f2bf18a23"
      },
      "execution_count": 7,
      "outputs": [
        {
          "output_type": "execute_result",
          "data": {
            "text/plain": [
              "<td class=\"title\">\n",
              "<div class=\"tit5\">\n",
              "<a href=\"/movie/bi/mi/basic.naver?code=191613\" title=\"클라우스\">클라우스</a>\n",
              "</div>\n",
              "</td>"
            ]
          },
          "metadata": {},
          "execution_count": 7
        }
      ]
    },
    {
      "cell_type": "code",
      "source": [
        "movies[0].text"
      ],
      "metadata": {
        "colab": {
          "base_uri": "https://localhost:8080/",
          "height": 35
        },
        "id": "Uj9WRWNVmTLZ",
        "outputId": "61e78ff9-efdd-4838-a82e-c3b8a6422448"
      },
      "execution_count": 8,
      "outputs": [
        {
          "output_type": "execute_result",
          "data": {
            "text/plain": [
              "'\\n\\n클라우스\\n\\n'"
            ],
            "application/vnd.google.colaboratory.intrinsic+json": {
              "type": "string"
            }
          },
          "metadata": {},
          "execution_count": 8
        }
      ]
    },
    {
      "cell_type": "code",
      "source": [
        "movies[2].text.strip()"
      ],
      "metadata": {
        "colab": {
          "base_uri": "https://localhost:8080/",
          "height": 35
        },
        "id": "w3cD3wXnmWgq",
        "outputId": "ba069005-2d7f-4e95-a82c-a642bbe7dbff"
      },
      "execution_count": 9,
      "outputs": [
        {
          "output_type": "execute_result",
          "data": {
            "text/plain": [
              "'그린 북'"
            ],
            "application/vnd.google.colaboratory.intrinsic+json": {
              "type": "string"
            }
          },
          "metadata": {},
          "execution_count": 9
        }
      ]
    },
    {
      "cell_type": "code",
      "source": [
        "movielist = []\n",
        "rank = 1\n",
        "\n",
        "movies = soup.select('td.title')\n",
        "\n",
        "for each in range(len(movies)):\n",
        "  title = movies[each].text.strip()\n",
        "  movielist.append([\"네이버영화순위\",rank, title])\n",
        "  rank += 1  # rank = rank + 1    \n",
        "\n",
        "df = pd.DataFrame(movielist, columns = ['','순위','영화제목'])      \n",
        "df"
      ],
      "metadata": {
        "colab": {
          "base_uri": "https://localhost:8080/",
          "height": 1000
        },
        "id": "MPV4vDR7mXhe",
        "outputId": "434c1cc4-9d59-4e5e-ccc7-7d3e06869c70"
      },
      "execution_count": 10,
      "outputs": [
        {
          "output_type": "execute_result",
          "data": {
            "text/plain": [
              "             순위                       영화제목\n",
              "0   네이버영화순위   1                       클라우스\n",
              "1   네이버영화순위   2                장민호 드라마 최종회\n",
              "2   네이버영화순위   3                       그린 북\n",
              "3   네이버영화순위   4                       가버나움\n",
              "4   네이버영화순위   5                         밥정\n",
              "5   네이버영화순위   6     디지몬 어드벤처 라스트 에볼루션 : 인연\n",
              "6   네이버영화순위   7                    베일리 어게인\n",
              "7   네이버영화순위   8                         원더\n",
              "8   네이버영화순위   9                        아일라\n",
              "9   네이버영화순위  10              극장판 바이올렛 에버가든\n",
              "10  네이버영화순위  11                    먼 훗날 우리\n",
              "11  네이버영화순위  12                         당갈\n",
              "12  네이버영화순위  13                   포드 V 페라리\n",
              "13  네이버영화순위  14  그대, 고맙소 : 김호중 생애 첫 팬미팅 무비\n",
              "14  네이버영화순위  15                        주전장\n",
              "15  네이버영화순위  16                     쇼생크 탈출\n",
              "16  네이버영화순위  17               터미네이터 2:오리지널\n",
              "17  네이버영화순위  18                         덕구\n",
              "18  네이버영화순위  19                        클래식\n",
              "19  네이버영화순위  20                    나 홀로 집에\n",
              "20  네이버영화순위  21                 라이언 일병 구하기\n",
              "21  네이버영화순위  22                        월-E\n",
              "22  네이버영화순위  23                       씽2게더\n",
              "23  네이버영화순위  24                   보헤미안 랩소디\n",
              "24  네이버영화순위  25                   빽 투 더 퓨쳐\n",
              "25  네이버영화순위  26                  사운드 오브 뮤직\n",
              "26  네이버영화순위  27                    포레스트 검프\n",
              "27  네이버영화순위  28                     글래디에이터\n",
              "28  네이버영화순위  29                       타이타닉\n",
              "29  네이버영화순위  30                     위대한 쇼맨\n",
              "30  네이버영화순위  31               가나의 혼인잔치: 언약\n",
              "31  네이버영화순위  32                   인생은 아름다워\n",
              "32  네이버영화순위  33                         헬프\n",
              "33  네이버영화순위  34                       매트릭스\n",
              "34  네이버영화순위  35                     살인의 추억\n",
              "35  네이버영화순위  36               센과 치히로의 행방불명\n",
              "36  네이버영화순위  37                   토이 스토리 3\n",
              "37  네이버영화순위  38                    캐스트 어웨이\n",
              "38  네이버영화순위  39            잭 스나이더의 저스티스 리그\n",
              "39  네이버영화순위  40                     히든 피겨스\n",
              "40  네이버영화순위  41                        태극권\n",
              "41  네이버영화순위  42                     집으로...\n",
              "42  네이버영화순위  43                    쉰들러 리스트\n",
              "43  네이버영화순위  44                      헌터 킬러\n",
              "44  네이버영화순위  45              반지의 제왕: 왕의 귀환\n",
              "45  네이버영화순위  46                  죽은 시인의 사회\n",
              "46  네이버영화순위  47                         레옹\n",
              "47  네이버영화순위  48                 어벤져스: 엔드게임\n",
              "48  네이버영화순위  49                        알라딘\n",
              "49  네이버영화순위  50                      클레멘타인"
            ],
            "text/html": [
              "\n",
              "  <div id=\"df-f658dc29-4240-4b72-8f3f-e78db6a817a2\">\n",
              "    <div class=\"colab-df-container\">\n",
              "      <div>\n",
              "<style scoped>\n",
              "    .dataframe tbody tr th:only-of-type {\n",
              "        vertical-align: middle;\n",
              "    }\n",
              "\n",
              "    .dataframe tbody tr th {\n",
              "        vertical-align: top;\n",
              "    }\n",
              "\n",
              "    .dataframe thead th {\n",
              "        text-align: right;\n",
              "    }\n",
              "</style>\n",
              "<table border=\"1\" class=\"dataframe\">\n",
              "  <thead>\n",
              "    <tr style=\"text-align: right;\">\n",
              "      <th></th>\n",
              "      <th></th>\n",
              "      <th>순위</th>\n",
              "      <th>영화제목</th>\n",
              "    </tr>\n",
              "  </thead>\n",
              "  <tbody>\n",
              "    <tr>\n",
              "      <th>0</th>\n",
              "      <td>네이버영화순위</td>\n",
              "      <td>1</td>\n",
              "      <td>클라우스</td>\n",
              "    </tr>\n",
              "    <tr>\n",
              "      <th>1</th>\n",
              "      <td>네이버영화순위</td>\n",
              "      <td>2</td>\n",
              "      <td>장민호 드라마 최종회</td>\n",
              "    </tr>\n",
              "    <tr>\n",
              "      <th>2</th>\n",
              "      <td>네이버영화순위</td>\n",
              "      <td>3</td>\n",
              "      <td>그린 북</td>\n",
              "    </tr>\n",
              "    <tr>\n",
              "      <th>3</th>\n",
              "      <td>네이버영화순위</td>\n",
              "      <td>4</td>\n",
              "      <td>가버나움</td>\n",
              "    </tr>\n",
              "    <tr>\n",
              "      <th>4</th>\n",
              "      <td>네이버영화순위</td>\n",
              "      <td>5</td>\n",
              "      <td>밥정</td>\n",
              "    </tr>\n",
              "    <tr>\n",
              "      <th>5</th>\n",
              "      <td>네이버영화순위</td>\n",
              "      <td>6</td>\n",
              "      <td>디지몬 어드벤처 라스트 에볼루션 : 인연</td>\n",
              "    </tr>\n",
              "    <tr>\n",
              "      <th>6</th>\n",
              "      <td>네이버영화순위</td>\n",
              "      <td>7</td>\n",
              "      <td>베일리 어게인</td>\n",
              "    </tr>\n",
              "    <tr>\n",
              "      <th>7</th>\n",
              "      <td>네이버영화순위</td>\n",
              "      <td>8</td>\n",
              "      <td>원더</td>\n",
              "    </tr>\n",
              "    <tr>\n",
              "      <th>8</th>\n",
              "      <td>네이버영화순위</td>\n",
              "      <td>9</td>\n",
              "      <td>아일라</td>\n",
              "    </tr>\n",
              "    <tr>\n",
              "      <th>9</th>\n",
              "      <td>네이버영화순위</td>\n",
              "      <td>10</td>\n",
              "      <td>극장판 바이올렛 에버가든</td>\n",
              "    </tr>\n",
              "    <tr>\n",
              "      <th>10</th>\n",
              "      <td>네이버영화순위</td>\n",
              "      <td>11</td>\n",
              "      <td>먼 훗날 우리</td>\n",
              "    </tr>\n",
              "    <tr>\n",
              "      <th>11</th>\n",
              "      <td>네이버영화순위</td>\n",
              "      <td>12</td>\n",
              "      <td>당갈</td>\n",
              "    </tr>\n",
              "    <tr>\n",
              "      <th>12</th>\n",
              "      <td>네이버영화순위</td>\n",
              "      <td>13</td>\n",
              "      <td>포드 V 페라리</td>\n",
              "    </tr>\n",
              "    <tr>\n",
              "      <th>13</th>\n",
              "      <td>네이버영화순위</td>\n",
              "      <td>14</td>\n",
              "      <td>그대, 고맙소 : 김호중 생애 첫 팬미팅 무비</td>\n",
              "    </tr>\n",
              "    <tr>\n",
              "      <th>14</th>\n",
              "      <td>네이버영화순위</td>\n",
              "      <td>15</td>\n",
              "      <td>주전장</td>\n",
              "    </tr>\n",
              "    <tr>\n",
              "      <th>15</th>\n",
              "      <td>네이버영화순위</td>\n",
              "      <td>16</td>\n",
              "      <td>쇼생크 탈출</td>\n",
              "    </tr>\n",
              "    <tr>\n",
              "      <th>16</th>\n",
              "      <td>네이버영화순위</td>\n",
              "      <td>17</td>\n",
              "      <td>터미네이터 2:오리지널</td>\n",
              "    </tr>\n",
              "    <tr>\n",
              "      <th>17</th>\n",
              "      <td>네이버영화순위</td>\n",
              "      <td>18</td>\n",
              "      <td>덕구</td>\n",
              "    </tr>\n",
              "    <tr>\n",
              "      <th>18</th>\n",
              "      <td>네이버영화순위</td>\n",
              "      <td>19</td>\n",
              "      <td>클래식</td>\n",
              "    </tr>\n",
              "    <tr>\n",
              "      <th>19</th>\n",
              "      <td>네이버영화순위</td>\n",
              "      <td>20</td>\n",
              "      <td>나 홀로 집에</td>\n",
              "    </tr>\n",
              "    <tr>\n",
              "      <th>20</th>\n",
              "      <td>네이버영화순위</td>\n",
              "      <td>21</td>\n",
              "      <td>라이언 일병 구하기</td>\n",
              "    </tr>\n",
              "    <tr>\n",
              "      <th>21</th>\n",
              "      <td>네이버영화순위</td>\n",
              "      <td>22</td>\n",
              "      <td>월-E</td>\n",
              "    </tr>\n",
              "    <tr>\n",
              "      <th>22</th>\n",
              "      <td>네이버영화순위</td>\n",
              "      <td>23</td>\n",
              "      <td>씽2게더</td>\n",
              "    </tr>\n",
              "    <tr>\n",
              "      <th>23</th>\n",
              "      <td>네이버영화순위</td>\n",
              "      <td>24</td>\n",
              "      <td>보헤미안 랩소디</td>\n",
              "    </tr>\n",
              "    <tr>\n",
              "      <th>24</th>\n",
              "      <td>네이버영화순위</td>\n",
              "      <td>25</td>\n",
              "      <td>빽 투 더 퓨쳐</td>\n",
              "    </tr>\n",
              "    <tr>\n",
              "      <th>25</th>\n",
              "      <td>네이버영화순위</td>\n",
              "      <td>26</td>\n",
              "      <td>사운드 오브 뮤직</td>\n",
              "    </tr>\n",
              "    <tr>\n",
              "      <th>26</th>\n",
              "      <td>네이버영화순위</td>\n",
              "      <td>27</td>\n",
              "      <td>포레스트 검프</td>\n",
              "    </tr>\n",
              "    <tr>\n",
              "      <th>27</th>\n",
              "      <td>네이버영화순위</td>\n",
              "      <td>28</td>\n",
              "      <td>글래디에이터</td>\n",
              "    </tr>\n",
              "    <tr>\n",
              "      <th>28</th>\n",
              "      <td>네이버영화순위</td>\n",
              "      <td>29</td>\n",
              "      <td>타이타닉</td>\n",
              "    </tr>\n",
              "    <tr>\n",
              "      <th>29</th>\n",
              "      <td>네이버영화순위</td>\n",
              "      <td>30</td>\n",
              "      <td>위대한 쇼맨</td>\n",
              "    </tr>\n",
              "    <tr>\n",
              "      <th>30</th>\n",
              "      <td>네이버영화순위</td>\n",
              "      <td>31</td>\n",
              "      <td>가나의 혼인잔치: 언약</td>\n",
              "    </tr>\n",
              "    <tr>\n",
              "      <th>31</th>\n",
              "      <td>네이버영화순위</td>\n",
              "      <td>32</td>\n",
              "      <td>인생은 아름다워</td>\n",
              "    </tr>\n",
              "    <tr>\n",
              "      <th>32</th>\n",
              "      <td>네이버영화순위</td>\n",
              "      <td>33</td>\n",
              "      <td>헬프</td>\n",
              "    </tr>\n",
              "    <tr>\n",
              "      <th>33</th>\n",
              "      <td>네이버영화순위</td>\n",
              "      <td>34</td>\n",
              "      <td>매트릭스</td>\n",
              "    </tr>\n",
              "    <tr>\n",
              "      <th>34</th>\n",
              "      <td>네이버영화순위</td>\n",
              "      <td>35</td>\n",
              "      <td>살인의 추억</td>\n",
              "    </tr>\n",
              "    <tr>\n",
              "      <th>35</th>\n",
              "      <td>네이버영화순위</td>\n",
              "      <td>36</td>\n",
              "      <td>센과 치히로의 행방불명</td>\n",
              "    </tr>\n",
              "    <tr>\n",
              "      <th>36</th>\n",
              "      <td>네이버영화순위</td>\n",
              "      <td>37</td>\n",
              "      <td>토이 스토리 3</td>\n",
              "    </tr>\n",
              "    <tr>\n",
              "      <th>37</th>\n",
              "      <td>네이버영화순위</td>\n",
              "      <td>38</td>\n",
              "      <td>캐스트 어웨이</td>\n",
              "    </tr>\n",
              "    <tr>\n",
              "      <th>38</th>\n",
              "      <td>네이버영화순위</td>\n",
              "      <td>39</td>\n",
              "      <td>잭 스나이더의 저스티스 리그</td>\n",
              "    </tr>\n",
              "    <tr>\n",
              "      <th>39</th>\n",
              "      <td>네이버영화순위</td>\n",
              "      <td>40</td>\n",
              "      <td>히든 피겨스</td>\n",
              "    </tr>\n",
              "    <tr>\n",
              "      <th>40</th>\n",
              "      <td>네이버영화순위</td>\n",
              "      <td>41</td>\n",
              "      <td>태극권</td>\n",
              "    </tr>\n",
              "    <tr>\n",
              "      <th>41</th>\n",
              "      <td>네이버영화순위</td>\n",
              "      <td>42</td>\n",
              "      <td>집으로...</td>\n",
              "    </tr>\n",
              "    <tr>\n",
              "      <th>42</th>\n",
              "      <td>네이버영화순위</td>\n",
              "      <td>43</td>\n",
              "      <td>쉰들러 리스트</td>\n",
              "    </tr>\n",
              "    <tr>\n",
              "      <th>43</th>\n",
              "      <td>네이버영화순위</td>\n",
              "      <td>44</td>\n",
              "      <td>헌터 킬러</td>\n",
              "    </tr>\n",
              "    <tr>\n",
              "      <th>44</th>\n",
              "      <td>네이버영화순위</td>\n",
              "      <td>45</td>\n",
              "      <td>반지의 제왕: 왕의 귀환</td>\n",
              "    </tr>\n",
              "    <tr>\n",
              "      <th>45</th>\n",
              "      <td>네이버영화순위</td>\n",
              "      <td>46</td>\n",
              "      <td>죽은 시인의 사회</td>\n",
              "    </tr>\n",
              "    <tr>\n",
              "      <th>46</th>\n",
              "      <td>네이버영화순위</td>\n",
              "      <td>47</td>\n",
              "      <td>레옹</td>\n",
              "    </tr>\n",
              "    <tr>\n",
              "      <th>47</th>\n",
              "      <td>네이버영화순위</td>\n",
              "      <td>48</td>\n",
              "      <td>어벤져스: 엔드게임</td>\n",
              "    </tr>\n",
              "    <tr>\n",
              "      <th>48</th>\n",
              "      <td>네이버영화순위</td>\n",
              "      <td>49</td>\n",
              "      <td>알라딘</td>\n",
              "    </tr>\n",
              "    <tr>\n",
              "      <th>49</th>\n",
              "      <td>네이버영화순위</td>\n",
              "      <td>50</td>\n",
              "      <td>클레멘타인</td>\n",
              "    </tr>\n",
              "  </tbody>\n",
              "</table>\n",
              "</div>\n",
              "      <button class=\"colab-df-convert\" onclick=\"convertToInteractive('df-f658dc29-4240-4b72-8f3f-e78db6a817a2')\"\n",
              "              title=\"Convert this dataframe to an interactive table.\"\n",
              "              style=\"display:none;\">\n",
              "        \n",
              "  <svg xmlns=\"http://www.w3.org/2000/svg\" height=\"24px\"viewBox=\"0 0 24 24\"\n",
              "       width=\"24px\">\n",
              "    <path d=\"M0 0h24v24H0V0z\" fill=\"none\"/>\n",
              "    <path d=\"M18.56 5.44l.94 2.06.94-2.06 2.06-.94-2.06-.94-.94-2.06-.94 2.06-2.06.94zm-11 1L8.5 8.5l.94-2.06 2.06-.94-2.06-.94L8.5 2.5l-.94 2.06-2.06.94zm10 10l.94 2.06.94-2.06 2.06-.94-2.06-.94-.94-2.06-.94 2.06-2.06.94z\"/><path d=\"M17.41 7.96l-1.37-1.37c-.4-.4-.92-.59-1.43-.59-.52 0-1.04.2-1.43.59L10.3 9.45l-7.72 7.72c-.78.78-.78 2.05 0 2.83L4 21.41c.39.39.9.59 1.41.59.51 0 1.02-.2 1.41-.59l7.78-7.78 2.81-2.81c.8-.78.8-2.07 0-2.86zM5.41 20L4 18.59l7.72-7.72 1.47 1.35L5.41 20z\"/>\n",
              "  </svg>\n",
              "      </button>\n",
              "      \n",
              "  <style>\n",
              "    .colab-df-container {\n",
              "      display:flex;\n",
              "      flex-wrap:wrap;\n",
              "      gap: 12px;\n",
              "    }\n",
              "\n",
              "    .colab-df-convert {\n",
              "      background-color: #E8F0FE;\n",
              "      border: none;\n",
              "      border-radius: 50%;\n",
              "      cursor: pointer;\n",
              "      display: none;\n",
              "      fill: #1967D2;\n",
              "      height: 32px;\n",
              "      padding: 0 0 0 0;\n",
              "      width: 32px;\n",
              "    }\n",
              "\n",
              "    .colab-df-convert:hover {\n",
              "      background-color: #E2EBFA;\n",
              "      box-shadow: 0px 1px 2px rgba(60, 64, 67, 0.3), 0px 1px 3px 1px rgba(60, 64, 67, 0.15);\n",
              "      fill: #174EA6;\n",
              "    }\n",
              "\n",
              "    [theme=dark] .colab-df-convert {\n",
              "      background-color: #3B4455;\n",
              "      fill: #D2E3FC;\n",
              "    }\n",
              "\n",
              "    [theme=dark] .colab-df-convert:hover {\n",
              "      background-color: #434B5C;\n",
              "      box-shadow: 0px 1px 3px 1px rgba(0, 0, 0, 0.15);\n",
              "      filter: drop-shadow(0px 1px 2px rgba(0, 0, 0, 0.3));\n",
              "      fill: #FFFFFF;\n",
              "    }\n",
              "  </style>\n",
              "\n",
              "      <script>\n",
              "        const buttonEl =\n",
              "          document.querySelector('#df-f658dc29-4240-4b72-8f3f-e78db6a817a2 button.colab-df-convert');\n",
              "        buttonEl.style.display =\n",
              "          google.colab.kernel.accessAllowed ? 'block' : 'none';\n",
              "\n",
              "        async function convertToInteractive(key) {\n",
              "          const element = document.querySelector('#df-f658dc29-4240-4b72-8f3f-e78db6a817a2');\n",
              "          const dataTable =\n",
              "            await google.colab.kernel.invokeFunction('convertToInteractive',\n",
              "                                                     [key], {});\n",
              "          if (!dataTable) return;\n",
              "\n",
              "          const docLinkHtml = 'Like what you see? Visit the ' +\n",
              "            '<a target=\"_blank\" href=https://colab.research.google.com/notebooks/data_table.ipynb>data table notebook</a>'\n",
              "            + ' to learn more about interactive tables.';\n",
              "          element.innerHTML = '';\n",
              "          dataTable['output_type'] = 'display_data';\n",
              "          await google.colab.output.renderOutput(dataTable, element);\n",
              "          const docLink = document.createElement('div');\n",
              "          docLink.innerHTML = docLinkHtml;\n",
              "          element.appendChild(docLink);\n",
              "        }\n",
              "      </script>\n",
              "    </div>\n",
              "  </div>\n",
              "  "
            ]
          },
          "metadata": {},
          "execution_count": 10
        }
      ]
    },
    {
      "cell_type": "code",
      "source": [
        "df.to_excel('네이버영화순위.xlsx', index=False)"
      ],
      "metadata": {
        "id": "ibfaLnxQmYi9"
      },
      "execution_count": 12,
      "outputs": []
    }
  ]
}